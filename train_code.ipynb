{
  "nbformat": 4,
  "nbformat_minor": 0,
  "metadata": {
    "colab": {
      "name": "train-code.ipynb",
      "provenance": [],
      "collapsed_sections": []
    },
    "kernelspec": {
      "name": "python3",
      "display_name": "Python 3"
    }
  },
  "cells": [
    {
      "cell_type": "code",
      "metadata": {
        "colab": {
          "base_uri": "https://localhost:8080/"
        },
        "id": "srjIYgzXOgt7",
        "outputId": "1aec5082-ee31-4459-e3d9-9ac01101b341"
      },
      "source": [
        "import numpy as np \n",
        "import pandas as pd \n",
        "import matplotlib.pyplot as plt \n",
        "from scipy import stats \n",
        "from sklearn.model_selection import train_test_split \n",
        "from sklearn.model_selection import KFold \n",
        "from sklearn.model_selection import cross_val_score \n",
        "import seaborn as sns \n",
        "import plotly.express as ex \n",
        "import csv\n",
        "from functools import reduce\n",
        "import sklearn.preprocessing\n",
        "from sklearn.metrics import classification_report \n",
        "from sklearn import preprocessing\n",
        "from sklearn.preprocessing import MinMaxScaler\n",
        "from sklearn.preprocessing import StandardScaler\n",
        "import keras\n",
        "from keras.models import Sequential\n",
        "from keras.layers import Dense\n",
        "from keras.layers import LeakyReLU\n",
        "from keras.layers import Dropout\n",
        "import tensorflow as tf\n",
        "from tensorflow import keras\n",
        "from tensorflow.keras import layers\n",
        "from google.colab import drive\n",
        "from google.colab import files\n",
        "from keras.models import model_from_json\n",
        "\n",
        "drive.mount('/content/gdrive')"
      ],
      "execution_count": 63,
      "outputs": [
        {
          "output_type": "stream",
          "text": [
            "Drive already mounted at /content/gdrive; to attempt to forcibly remount, call drive.mount(\"/content/gdrive\", force_remount=True).\n"
          ],
          "name": "stdout"
        }
      ]
    },
    {
      "cell_type": "code",
      "metadata": {
        "colab": {
          "base_uri": "https://localhost:8080/",
          "height": 379
        },
        "id": "mxQhDV7_OwEK",
        "outputId": "f30cb155-df4d-43d1-f02c-35699ac68b42"
      },
      "source": [
        "# We will open the dataset.csv file and store it in variable given_dataset \n",
        "given_dataset = pd.read_csv(\"/content/gdrive/My Drive/Colab Notebooks/CSCI 4931/Programming Assignment 1/dataset.csv\")\n",
        "\n",
        "# This will show the first 10 rows of the data frame. This is to ensure that we are properly opening the file.\n",
        "given_dataset.head(10)"
      ],
      "execution_count": 64,
      "outputs": [
        {
          "output_type": "execute_result",
          "data": {
            "text/html": [
              "<div>\n",
              "<style scoped>\n",
              "    .dataframe tbody tr th:only-of-type {\n",
              "        vertical-align: middle;\n",
              "    }\n",
              "\n",
              "    .dataframe tbody tr th {\n",
              "        vertical-align: top;\n",
              "    }\n",
              "\n",
              "    .dataframe thead th {\n",
              "        text-align: right;\n",
              "    }\n",
              "</style>\n",
              "<table border=\"1\" class=\"dataframe\">\n",
              "  <thead>\n",
              "    <tr style=\"text-align: right;\">\n",
              "      <th></th>\n",
              "      <th>CustomerId</th>\n",
              "      <th>Surname</th>\n",
              "      <th>CreditScore</th>\n",
              "      <th>Geography</th>\n",
              "      <th>Gender</th>\n",
              "      <th>Age</th>\n",
              "      <th>Tenure</th>\n",
              "      <th>Balance</th>\n",
              "      <th>NumOfProducts</th>\n",
              "      <th>HasCrCard</th>\n",
              "      <th>IsActiveMember</th>\n",
              "      <th>EstimatedSalary</th>\n",
              "      <th>Exited</th>\n",
              "    </tr>\n",
              "  </thead>\n",
              "  <tbody>\n",
              "    <tr>\n",
              "      <th>0</th>\n",
              "      <td>15647572</td>\n",
              "      <td>Greece</td>\n",
              "      <td>504</td>\n",
              "      <td>Spain</td>\n",
              "      <td>Male</td>\n",
              "      <td>34</td>\n",
              "      <td>0</td>\n",
              "      <td>54980.81</td>\n",
              "      <td>1</td>\n",
              "      <td>1</td>\n",
              "      <td>1</td>\n",
              "      <td>136909.88</td>\n",
              "      <td>0</td>\n",
              "    </tr>\n",
              "    <tr>\n",
              "      <th>1</th>\n",
              "      <td>15797692</td>\n",
              "      <td>Volkova</td>\n",
              "      <td>659</td>\n",
              "      <td>France</td>\n",
              "      <td>Female</td>\n",
              "      <td>33</td>\n",
              "      <td>7</td>\n",
              "      <td>89939.62</td>\n",
              "      <td>1</td>\n",
              "      <td>1</td>\n",
              "      <td>0</td>\n",
              "      <td>136540.09</td>\n",
              "      <td>0</td>\n",
              "    </tr>\n",
              "    <tr>\n",
              "      <th>2</th>\n",
              "      <td>15713559</td>\n",
              "      <td>Onyemauchechukwu</td>\n",
              "      <td>473</td>\n",
              "      <td>Germany</td>\n",
              "      <td>Female</td>\n",
              "      <td>32</td>\n",
              "      <td>5</td>\n",
              "      <td>146602.25</td>\n",
              "      <td>2</td>\n",
              "      <td>1</td>\n",
              "      <td>1</td>\n",
              "      <td>72946.95</td>\n",
              "      <td>0</td>\n",
              "    </tr>\n",
              "    <tr>\n",
              "      <th>3</th>\n",
              "      <td>15595067</td>\n",
              "      <td>Zhirov</td>\n",
              "      <td>637</td>\n",
              "      <td>Spain</td>\n",
              "      <td>Female</td>\n",
              "      <td>40</td>\n",
              "      <td>6</td>\n",
              "      <td>0.00</td>\n",
              "      <td>2</td>\n",
              "      <td>1</td>\n",
              "      <td>1</td>\n",
              "      <td>181610.60</td>\n",
              "      <td>0</td>\n",
              "    </tr>\n",
              "    <tr>\n",
              "      <th>4</th>\n",
              "      <td>15810167</td>\n",
              "      <td>Scott</td>\n",
              "      <td>657</td>\n",
              "      <td>Spain</td>\n",
              "      <td>Male</td>\n",
              "      <td>75</td>\n",
              "      <td>7</td>\n",
              "      <td>126273.95</td>\n",
              "      <td>1</td>\n",
              "      <td>0</td>\n",
              "      <td>1</td>\n",
              "      <td>91673.60</td>\n",
              "      <td>0</td>\n",
              "    </tr>\n",
              "    <tr>\n",
              "      <th>5</th>\n",
              "      <td>15730447</td>\n",
              "      <td>Anderson</td>\n",
              "      <td>629</td>\n",
              "      <td>France</td>\n",
              "      <td>Female</td>\n",
              "      <td>49</td>\n",
              "      <td>4</td>\n",
              "      <td>0.00</td>\n",
              "      <td>2</td>\n",
              "      <td>1</td>\n",
              "      <td>1</td>\n",
              "      <td>196335.48</td>\n",
              "      <td>0</td>\n",
              "    </tr>\n",
              "    <tr>\n",
              "      <th>6</th>\n",
              "      <td>15597309</td>\n",
              "      <td>Howell</td>\n",
              "      <td>749</td>\n",
              "      <td>Spain</td>\n",
              "      <td>Male</td>\n",
              "      <td>36</td>\n",
              "      <td>7</td>\n",
              "      <td>0.00</td>\n",
              "      <td>2</td>\n",
              "      <td>0</td>\n",
              "      <td>0</td>\n",
              "      <td>80134.65</td>\n",
              "      <td>0</td>\n",
              "    </tr>\n",
              "    <tr>\n",
              "      <th>7</th>\n",
              "      <td>15647311</td>\n",
              "      <td>Hill</td>\n",
              "      <td>608</td>\n",
              "      <td>Spain</td>\n",
              "      <td>Female</td>\n",
              "      <td>41</td>\n",
              "      <td>1</td>\n",
              "      <td>83807.86</td>\n",
              "      <td>1</td>\n",
              "      <td>0</td>\n",
              "      <td>1</td>\n",
              "      <td>112542.58</td>\n",
              "      <td>0</td>\n",
              "    </tr>\n",
              "    <tr>\n",
              "      <th>8</th>\n",
              "      <td>15773949</td>\n",
              "      <td>Cherkasova</td>\n",
              "      <td>692</td>\n",
              "      <td>France</td>\n",
              "      <td>Female</td>\n",
              "      <td>36</td>\n",
              "      <td>3</td>\n",
              "      <td>0.00</td>\n",
              "      <td>2</td>\n",
              "      <td>1</td>\n",
              "      <td>1</td>\n",
              "      <td>8282.22</td>\n",
              "      <td>0</td>\n",
              "    </tr>\n",
              "    <tr>\n",
              "      <th>9</th>\n",
              "      <td>15610226</td>\n",
              "      <td>Fenton</td>\n",
              "      <td>614</td>\n",
              "      <td>France</td>\n",
              "      <td>Female</td>\n",
              "      <td>27</td>\n",
              "      <td>9</td>\n",
              "      <td>106414.57</td>\n",
              "      <td>2</td>\n",
              "      <td>0</td>\n",
              "      <td>0</td>\n",
              "      <td>77500.81</td>\n",
              "      <td>0</td>\n",
              "    </tr>\n",
              "  </tbody>\n",
              "</table>\n",
              "</div>"
            ],
            "text/plain": [
              "   CustomerId           Surname  ...  EstimatedSalary Exited\n",
              "0    15647572            Greece  ...        136909.88      0\n",
              "1    15797692           Volkova  ...        136540.09      0\n",
              "2    15713559  Onyemauchechukwu  ...         72946.95      0\n",
              "3    15595067            Zhirov  ...        181610.60      0\n",
              "4    15810167             Scott  ...         91673.60      0\n",
              "5    15730447          Anderson  ...        196335.48      0\n",
              "6    15597309            Howell  ...         80134.65      0\n",
              "7    15647311              Hill  ...        112542.58      0\n",
              "8    15773949        Cherkasova  ...          8282.22      0\n",
              "9    15610226            Fenton  ...         77500.81      0\n",
              "\n",
              "[10 rows x 13 columns]"
            ]
          },
          "metadata": {
            "tags": []
          },
          "execution_count": 64
        }
      ]
    },
    {
      "cell_type": "code",
      "metadata": {
        "colab": {
          "base_uri": "https://localhost:8080/"
        },
        "id": "vBKgbBAJO8E1",
        "outputId": "9587e0ea-229f-4d48-b348-ee3296ce5b58"
      },
      "source": [
        "# We will check if there are any null values in any row in the dataset.csv file.\n",
        "given_dataset.isnull().sum()\n",
        "# After running this line, we can see that there is no null values in the dataset.csv file."
      ],
      "execution_count": 65,
      "outputs": [
        {
          "output_type": "execute_result",
          "data": {
            "text/plain": [
              "CustomerId         0\n",
              "Surname            0\n",
              "CreditScore        0\n",
              "Geography          0\n",
              "Gender             0\n",
              "Age                0\n",
              "Tenure             0\n",
              "Balance            0\n",
              "NumOfProducts      0\n",
              "HasCrCard          0\n",
              "IsActiveMember     0\n",
              "EstimatedSalary    0\n",
              "Exited             0\n",
              "dtype: int64"
            ]
          },
          "metadata": {
            "tags": []
          },
          "execution_count": 65
        }
      ]
    },
    {
      "cell_type": "code",
      "metadata": {
        "colab": {
          "base_uri": "https://localhost:8080/",
          "height": 439
        },
        "id": "cWctGa_CPGBa",
        "outputId": "1ee1a8da-a4c6-49a0-bec6-aacb56f9777d"
      },
      "source": [
        "# This will print the entire dataset.csv file out. Since we see 9000 rows, we know all the data was read correctly\n",
        "given_dataset"
      ],
      "execution_count": 66,
      "outputs": [
        {
          "output_type": "execute_result",
          "data": {
            "text/html": [
              "<div>\n",
              "<style scoped>\n",
              "    .dataframe tbody tr th:only-of-type {\n",
              "        vertical-align: middle;\n",
              "    }\n",
              "\n",
              "    .dataframe tbody tr th {\n",
              "        vertical-align: top;\n",
              "    }\n",
              "\n",
              "    .dataframe thead th {\n",
              "        text-align: right;\n",
              "    }\n",
              "</style>\n",
              "<table border=\"1\" class=\"dataframe\">\n",
              "  <thead>\n",
              "    <tr style=\"text-align: right;\">\n",
              "      <th></th>\n",
              "      <th>CustomerId</th>\n",
              "      <th>Surname</th>\n",
              "      <th>CreditScore</th>\n",
              "      <th>Geography</th>\n",
              "      <th>Gender</th>\n",
              "      <th>Age</th>\n",
              "      <th>Tenure</th>\n",
              "      <th>Balance</th>\n",
              "      <th>NumOfProducts</th>\n",
              "      <th>HasCrCard</th>\n",
              "      <th>IsActiveMember</th>\n",
              "      <th>EstimatedSalary</th>\n",
              "      <th>Exited</th>\n",
              "    </tr>\n",
              "  </thead>\n",
              "  <tbody>\n",
              "    <tr>\n",
              "      <th>0</th>\n",
              "      <td>15647572</td>\n",
              "      <td>Greece</td>\n",
              "      <td>504</td>\n",
              "      <td>Spain</td>\n",
              "      <td>Male</td>\n",
              "      <td>34</td>\n",
              "      <td>0</td>\n",
              "      <td>54980.81</td>\n",
              "      <td>1</td>\n",
              "      <td>1</td>\n",
              "      <td>1</td>\n",
              "      <td>136909.88</td>\n",
              "      <td>0</td>\n",
              "    </tr>\n",
              "    <tr>\n",
              "      <th>1</th>\n",
              "      <td>15797692</td>\n",
              "      <td>Volkova</td>\n",
              "      <td>659</td>\n",
              "      <td>France</td>\n",
              "      <td>Female</td>\n",
              "      <td>33</td>\n",
              "      <td>7</td>\n",
              "      <td>89939.62</td>\n",
              "      <td>1</td>\n",
              "      <td>1</td>\n",
              "      <td>0</td>\n",
              "      <td>136540.09</td>\n",
              "      <td>0</td>\n",
              "    </tr>\n",
              "    <tr>\n",
              "      <th>2</th>\n",
              "      <td>15713559</td>\n",
              "      <td>Onyemauchechukwu</td>\n",
              "      <td>473</td>\n",
              "      <td>Germany</td>\n",
              "      <td>Female</td>\n",
              "      <td>32</td>\n",
              "      <td>5</td>\n",
              "      <td>146602.25</td>\n",
              "      <td>2</td>\n",
              "      <td>1</td>\n",
              "      <td>1</td>\n",
              "      <td>72946.95</td>\n",
              "      <td>0</td>\n",
              "    </tr>\n",
              "    <tr>\n",
              "      <th>3</th>\n",
              "      <td>15595067</td>\n",
              "      <td>Zhirov</td>\n",
              "      <td>637</td>\n",
              "      <td>Spain</td>\n",
              "      <td>Female</td>\n",
              "      <td>40</td>\n",
              "      <td>6</td>\n",
              "      <td>0.00</td>\n",
              "      <td>2</td>\n",
              "      <td>1</td>\n",
              "      <td>1</td>\n",
              "      <td>181610.60</td>\n",
              "      <td>0</td>\n",
              "    </tr>\n",
              "    <tr>\n",
              "      <th>4</th>\n",
              "      <td>15810167</td>\n",
              "      <td>Scott</td>\n",
              "      <td>657</td>\n",
              "      <td>Spain</td>\n",
              "      <td>Male</td>\n",
              "      <td>75</td>\n",
              "      <td>7</td>\n",
              "      <td>126273.95</td>\n",
              "      <td>1</td>\n",
              "      <td>0</td>\n",
              "      <td>1</td>\n",
              "      <td>91673.60</td>\n",
              "      <td>0</td>\n",
              "    </tr>\n",
              "    <tr>\n",
              "      <th>...</th>\n",
              "      <td>...</td>\n",
              "      <td>...</td>\n",
              "      <td>...</td>\n",
              "      <td>...</td>\n",
              "      <td>...</td>\n",
              "      <td>...</td>\n",
              "      <td>...</td>\n",
              "      <td>...</td>\n",
              "      <td>...</td>\n",
              "      <td>...</td>\n",
              "      <td>...</td>\n",
              "      <td>...</td>\n",
              "      <td>...</td>\n",
              "    </tr>\n",
              "    <tr>\n",
              "      <th>8995</th>\n",
              "      <td>15770214</td>\n",
              "      <td>Bryant</td>\n",
              "      <td>754</td>\n",
              "      <td>France</td>\n",
              "      <td>Female</td>\n",
              "      <td>27</td>\n",
              "      <td>7</td>\n",
              "      <td>0.00</td>\n",
              "      <td>2</td>\n",
              "      <td>1</td>\n",
              "      <td>0</td>\n",
              "      <td>144134.64</td>\n",
              "      <td>0</td>\n",
              "    </tr>\n",
              "    <tr>\n",
              "      <th>8996</th>\n",
              "      <td>15720134</td>\n",
              "      <td>Reynolds</td>\n",
              "      <td>709</td>\n",
              "      <td>Germany</td>\n",
              "      <td>Male</td>\n",
              "      <td>30</td>\n",
              "      <td>9</td>\n",
              "      <td>115479.48</td>\n",
              "      <td>2</td>\n",
              "      <td>1</td>\n",
              "      <td>1</td>\n",
              "      <td>134732.99</td>\n",
              "      <td>0</td>\n",
              "    </tr>\n",
              "    <tr>\n",
              "      <th>8997</th>\n",
              "      <td>15700549</td>\n",
              "      <td>Alvares</td>\n",
              "      <td>721</td>\n",
              "      <td>France</td>\n",
              "      <td>Male</td>\n",
              "      <td>54</td>\n",
              "      <td>5</td>\n",
              "      <td>0.00</td>\n",
              "      <td>2</td>\n",
              "      <td>1</td>\n",
              "      <td>1</td>\n",
              "      <td>4493.12</td>\n",
              "      <td>0</td>\n",
              "    </tr>\n",
              "    <tr>\n",
              "      <th>8998</th>\n",
              "      <td>15704081</td>\n",
              "      <td>Findlay</td>\n",
              "      <td>595</td>\n",
              "      <td>Germany</td>\n",
              "      <td>Male</td>\n",
              "      <td>30</td>\n",
              "      <td>9</td>\n",
              "      <td>130682.11</td>\n",
              "      <td>2</td>\n",
              "      <td>1</td>\n",
              "      <td>1</td>\n",
              "      <td>57862.88</td>\n",
              "      <td>0</td>\n",
              "    </tr>\n",
              "    <tr>\n",
              "      <th>8999</th>\n",
              "      <td>15767729</td>\n",
              "      <td>Smith</td>\n",
              "      <td>646</td>\n",
              "      <td>Spain</td>\n",
              "      <td>Male</td>\n",
              "      <td>25</td>\n",
              "      <td>5</td>\n",
              "      <td>182876.88</td>\n",
              "      <td>2</td>\n",
              "      <td>1</td>\n",
              "      <td>1</td>\n",
              "      <td>42537.59</td>\n",
              "      <td>1</td>\n",
              "    </tr>\n",
              "  </tbody>\n",
              "</table>\n",
              "<p>9000 rows × 13 columns</p>\n",
              "</div>"
            ],
            "text/plain": [
              "      CustomerId           Surname  ...  EstimatedSalary Exited\n",
              "0       15647572            Greece  ...        136909.88      0\n",
              "1       15797692           Volkova  ...        136540.09      0\n",
              "2       15713559  Onyemauchechukwu  ...         72946.95      0\n",
              "3       15595067            Zhirov  ...        181610.60      0\n",
              "4       15810167             Scott  ...         91673.60      0\n",
              "...          ...               ...  ...              ...    ...\n",
              "8995    15770214            Bryant  ...        144134.64      0\n",
              "8996    15720134          Reynolds  ...        134732.99      0\n",
              "8997    15700549           Alvares  ...          4493.12      0\n",
              "8998    15704081           Findlay  ...         57862.88      0\n",
              "8999    15767729             Smith  ...         42537.59      1\n",
              "\n",
              "[9000 rows x 13 columns]"
            ]
          },
          "metadata": {
            "tags": []
          },
          "execution_count": 66
        }
      ]
    },
    {
      "cell_type": "code",
      "metadata": {
        "colab": {
          "base_uri": "https://localhost:8080/",
          "height": 940
        },
        "id": "fTzTbs-uPGy_",
        "outputId": "0c436631-0720-421e-aae1-9187ec5de380"
      },
      "source": [
        "# Will plot the correlation between the Age of customers and customers Exited (stop doing business with the bank)\n",
        "plt.figure(figsize = (30, 24))\n",
        "sns.barplot(x = 'Age', y=  'Exited', data = given_dataset)\n",
        "# Below you can see that customer between the ages 51, 52, 54, and 56 will have a higher chance of stopping business with the bank"
      ],
      "execution_count": 67,
      "outputs": [
        {
          "output_type": "execute_result",
          "data": {
            "text/plain": [
              "<matplotlib.axes._subplots.AxesSubplot at 0x7fafd5f98810>"
            ]
          },
          "metadata": {
            "tags": []
          },
          "execution_count": 67
        },
        {
          "output_type": "display_data",
          "data": {
            "image/png": "[encoded data removed]",
            "text/plain": [
              "<Figure size 2160x1728 with 1 Axes>"
            ]
          },
          "metadata": {
            "tags": [],
            "needs_background": "light"
          }
        }
      ]
    },
    {
      "cell_type": "code",
      "metadata": {
        "colab": {
          "base_uri": "https://localhost:8080/",
          "height": 615
        },
        "id": "9XfSfVhQPKcB",
        "outputId": "2da11b4c-0687-46ec-98f0-5d14a889a484"
      },
      "source": [
        "# Will plot the correlation between the Gender of customers and customers Exited (stop doing business with the bank)\n",
        "plt.figure(figsize = (20, 10))\n",
        "sns.barplot(x = 'Gender', y=  'Exited', data = given_dataset)\n",
        "# Below, you can see that females will have a higher chance of stopping business with the bank"
      ],
      "execution_count": 68,
      "outputs": [
        {
          "output_type": "execute_result",
          "data": {
            "text/plain": [
              "<matplotlib.axes._subplots.AxesSubplot at 0x7faf856ccfd0>"
            ]
          },
          "metadata": {
            "tags": []
          },
          "execution_count": 68
        },
        {
          "output_type": "display_data",
          "data": {
            "image/png": "[encoded data removed]",
            "text/plain": [
              "<Figure size 1440x720 with 1 Axes>"
            ]
          },
          "metadata": {
            "tags": [],
            "needs_background": "light"
          }
        }
      ]
    },
    {
      "cell_type": "code",
      "metadata": {
        "colab": {
          "base_uri": "https://localhost:8080/",
          "height": 609
        },
        "id": "a1SmTknaP5Ob",
        "outputId": "de0b0007-d301-470c-d819-8086d381286e"
      },
      "source": [
        "# Will plot the correlation between the Tenure amount and customers Exited (stop doing business with the bank)\n",
        "plt.figure(figsize = (30, 15))\n",
        "sns.barplot(x = 'Tenure', y=  'Exited', data = given_dataset)\n",
        "# Below, you can see that people who have 0 tenures will have a higher chance of stopping business with the bank\n",
        "# It may look like the amount of tenure someone owns may not have any correlation between customers exiting and not exiting\n",
        "# But for our purpose, we are keeping the tenure in our training data set"
      ],
      "execution_count": 69,
      "outputs": [
        {
          "output_type": "execute_result",
          "data": {
            "text/plain": [
              "<matplotlib.axes._subplots.AxesSubplot at 0x7faf856d7a10>"
            ]
          },
          "metadata": {
            "tags": []
          },
          "execution_count": 69
        },
        {
          "output_type": "display_data",
          "data": {
            "image/png": "[encoded data removed]",
            "text/plain": [
              "<Figure size 2160x1080 with 1 Axes>"
            ]
          },
          "metadata": {
            "tags": [],
            "needs_background": "light"
          }
        }
      ]
    },
    {
      "cell_type": "code",
      "metadata": {
        "colab": {
          "base_uri": "https://localhost:8080/",
          "height": 720
        },
        "id": "sbgNhiYWRVv5",
        "outputId": "e2ba2a88-6dcd-4286-89b3-2e47251e488f"
      },
      "source": [
        "# Will plot the correlation between the Geography of customers and customers Exited (stop doing business with the bank)\n",
        "plt.figure(figsize = (25, 15))\n",
        "sns.barplot(x = 'Geography', y=  'Exited', data = given_dataset)\n",
        "# 0 = Spain, 1 = France, 2 = Germany\n",
        "# Below, you can see that people who live in Germany will have a higher chance of stopping business with the bank"
      ],
      "execution_count": 70,
      "outputs": [
        {
          "output_type": "execute_result",
          "data": {
            "text/plain": [
              "<matplotlib.axes._subplots.AxesSubplot at 0x7faf8556e290>"
            ]
          },
          "metadata": {
            "tags": []
          },
          "execution_count": 70
        },
        {
          "output_type": "display_data",
          "data": {
            "image/png": "[encoded data removed]",
            "text/plain": [
              "<Figure size 1800x1080 with 1 Axes>"
            ]
          },
          "metadata": {
            "tags": [],
            "needs_background": "light"
          }
        }
      ]
    },
    {
      "cell_type": "code",
      "metadata": {
        "colab": {
          "base_uri": "https://localhost:8080/",
          "height": 615
        },
        "id": "H7lGNsHVSDr6",
        "outputId": "f03cc8cb-b81e-4f13-be0d-e9cc7f3e632f"
      },
      "source": [
        "# Will plot the correlation between customers owning a credit card and customers Exited (stop doing business with the bank)\n",
        "plt.figure(figsize = (20, 10))\n",
        "sns.barplot(x = 'HasCrCard', y=  'Exited', data = given_dataset)\n",
        "# Below, you can see that people there is a slightly higher chance of people who does not own a credit card will exit the bank\n",
        "# over the people who owns credit cards.\n",
        "# This is very close to being half and half where there may not be any correlation. We will keep it for our training model"
      ],
      "execution_count": 71,
      "outputs": [
        {
          "output_type": "execute_result",
          "data": {
            "text/plain": [
              "<matplotlib.axes._subplots.AxesSubplot at 0x7faf85522150>"
            ]
          },
          "metadata": {
            "tags": []
          },
          "execution_count": 71
        },
        {
          "output_type": "display_data",
          "data": {
            "image/png": "[encoded data removed]",
            "text/plain": [
              "<Figure size 1440x720 with 1 Axes>"
            ]
          },
          "metadata": {
            "tags": [],
            "needs_background": "light"
          }
        }
      ]
    },
    {
      "cell_type": "code",
      "metadata": {
        "colab": {
          "base_uri": "https://localhost:8080/",
          "height": 611
        },
        "id": "GIH9nOCpSnB-",
        "outputId": "7ef4a7b6-fee8-4751-dcf1-9ef3dc0ce9fb"
      },
      "source": [
        "# Will plot the correlation between the Number of Products and customers Exited (stop doing business with the bank)\n",
        "plt.figure(figsize = (30, 15))\n",
        "sns.barplot(x = 'NumOfProducts', y=  'Exited', data = given_dataset)\n",
        "# Below, you can see that people who own 3 or 4 products will have a higher chance of stopping business with the bank"
      ],
      "execution_count": 72,
      "outputs": [
        {
          "output_type": "execute_result",
          "data": {
            "text/plain": [
              "<matplotlib.axes._subplots.AxesSubplot at 0x7faf85517a10>"
            ]
          },
          "metadata": {
            "tags": []
          },
          "execution_count": 72
        },
        {
          "output_type": "display_data",
          "data": {
            "image/png": "[encoded data removed]",
            "text/plain": [
              "<Figure size 2160x1080 with 1 Axes>"
            ]
          },
          "metadata": {
            "tags": [],
            "needs_background": "light"
          }
        }
      ]
    },
    {
      "cell_type": "code",
      "metadata": {
        "colab": {
          "base_uri": "https://localhost:8080/",
          "height": 609
        },
        "id": "JbhK_E5wS9JX",
        "outputId": "c5c7f5da-4e68-4ac9-9afd-60c3efc1f8da"
      },
      "source": [
        "# Will plot the correlation between customers who are active members and customers Exited (stop doing business with the bank)\n",
        "plt.figure(figsize = (30, 15))\n",
        "sns.barplot(x = 'IsActiveMember', y=  'Exited', data = given_dataset)\n",
        "# Below, you can see that people who are not active members will have a higher chance of stopping business with the bank"
      ],
      "execution_count": 73,
      "outputs": [
        {
          "output_type": "execute_result",
          "data": {
            "text/plain": [
              "<matplotlib.axes._subplots.AxesSubplot at 0x7faf85553190>"
            ]
          },
          "metadata": {
            "tags": []
          },
          "execution_count": 73
        },
        {
          "output_type": "display_data",
          "data": {
            "image/png": "[encoded data removed]",
            "text/plain": [
              "<Figure size 2160x1080 with 1 Axes>"
            ]
          },
          "metadata": {
            "tags": [],
            "needs_background": "light"
          }
        }
      ]
    },
    {
      "cell_type": "code",
      "metadata": {
        "colab": {
          "base_uri": "https://localhost:8080/",
          "height": 609
        },
        "id": "N5WNGWvhTJiM",
        "outputId": "27216ffe-4f0f-4a54-9566-9600c052ffd2"
      },
      "source": [
        "# Will plot the correlation between the customers' credit scores and customers Exited (stop doing business with the bank)\n",
        "# Cannot plot this because there a lot of different credit scores to plot\n",
        "plt.figure(figsize = (30, 15))\n",
        "sns.barplot(x = 'CreditScore', y=  'Exited', data = given_dataset)\n",
        "# Cannot plot this because there a lot of different credit scores to plot"
      ],
      "execution_count": 74,
      "outputs": [
        {
          "output_type": "execute_result",
          "data": {
            "text/plain": [
              "<matplotlib.axes._subplots.AxesSubplot at 0x7faf85553b10>"
            ]
          },
          "metadata": {
            "tags": []
          },
          "execution_count": 74
        },
        {
          "output_type": "display_data",
          "data": {
            "image/png": "[encoded data removed]",
            "text/plain": [
              "<Figure size 2160x1080 with 1 Axes>"
            ]
          },
          "metadata": {
            "tags": [],
            "needs_background": "light"
          }
        }
      ]
    },
    {
      "cell_type": "code",
      "metadata": {
        "colab": {
          "base_uri": "https://localhost:8080/",
          "height": 602
        },
        "id": "Mzbua9gvTozs",
        "outputId": "986d776a-4d40-456e-a4d8-8b59e95118b3"
      },
      "source": [
        "# Will plot the correlation between the customers' balances and customers Exited (stop doing business with the bank)\n",
        "# Cannot plot this because there a lot of different balances to plot\n",
        "plt.figure(figsize = (30, 15))\n",
        "sns.barplot(x = 'Balance', y=  'Exited', data = given_dataset)\n",
        "# Cannot plot this because there a lot of different balances to plot"
      ],
      "execution_count": 75,
      "outputs": [
        {
          "output_type": "execute_result",
          "data": {
            "text/plain": [
              "<matplotlib.axes._subplots.AxesSubplot at 0x7faf8236fe90>"
            ]
          },
          "metadata": {
            "tags": []
          },
          "execution_count": 75
        },
        {
          "output_type": "display_data",
          "data": {
            "image/png": "[encoded data removed]",
            "text/plain": [
              "<Figure size 2160x1080 with 1 Axes>"
            ]
          },
          "metadata": {
            "tags": [],
            "needs_background": "light"
          }
        }
      ]
    },
    {
      "cell_type": "code",
      "metadata": {
        "colab": {
          "base_uri": "https://localhost:8080/",
          "height": 602
        },
        "id": "MJNZkHNwTtTx",
        "outputId": "f726e984-e8c3-4476-8d77-fb00a901d635"
      },
      "source": [
        "# Will plot the correlation between the customers' estimated salary and customers Exited (stop doing business with the bank)\n",
        "# Cannot plot this because there a lot of different salaries to plot\n",
        "plt.figure(figsize = (30, 15))\n",
        "sns.barplot(x = 'EstimatedSalary', y=  'Exited', data = given_dataset)\n",
        "# Cannot plot this because there a lot of different salaries to plot"
      ],
      "execution_count": 76,
      "outputs": [
        {
          "output_type": "execute_result",
          "data": {
            "text/plain": [
              "<matplotlib.axes._subplots.AxesSubplot at 0x7faf75086f10>"
            ]
          },
          "metadata": {
            "tags": []
          },
          "execution_count": 76
        },
        {
          "output_type": "display_data",
          "data": {
            "image/png": "[encoded data removed]",
            "text/plain": [
              "<Figure size 2160x1080 with 1 Axes>"
            ]
          },
          "metadata": {
            "tags": [],
            "needs_background": "light"
          }
        }
      ]
    },
    {
      "cell_type": "code",
      "metadata": {
        "colab": {
          "base_uri": "https://localhost:8080/",
          "height": 542
        },
        "id": "C7FIdug3PNQl",
        "outputId": "c226faa8-3ad3-4148-c541-ecf8589e4fa6"
      },
      "source": [
        "fig = ex.pie(given_dataset, names = 'Exited', title = 'Ratio of customers who exited vs not exited')\n",
        "fig.update_traces(textposition = 'inside', textinfo = 'percent + label')\n",
        "fig.show()\n",
        "# The pie chart below shows that about 20.3% of customers stopped doing business while 79.7% continued business with the bank"
      ],
      "execution_count": 77,
      "outputs": [
        {
          "output_type": "display_data",
          "data": {
            "text/html": [
              "<html>\n",
              "<head><meta charset=\"utf-8\" /></head>\n",
              "<body>\n",
              "    <div>\n",
              "            <script src=\"https://cdnjs.cloudflare.com/ajax/libs/mathjax/2.7.5/MathJax.js?config=TeX-AMS-MML_SVG\"></script><script type=\"text/javascript\">if (window.MathJax) {MathJax.Hub.Config({SVG: {font: \"STIX-Web\"}});}</script>\n",
              "                <script type=\"text/javascript\">window.PlotlyConfig = {MathJaxConfig: 'local'};</script>\n",
              "        <script src=\"https://cdn.plot.ly/plotly-latest.min.js\"></script>    \n",
              "            <div id=\"c095f654-ca8c-4d57-be30-cd1db918044d\" class=\"plotly-graph-div\" style=\"height:525px; width:100%;\"></div>\n",
              "            <script type=\"text/javascript\">\n",
              "                \n",
              "                    window.PLOTLYENV=window.PLOTLYENV || {};\n",
              "                    \n",
              "                if (document.getElementById(\"c095f654-ca8c-4d57-be30-cd1db918044d\")) {\n",
              "                    Plotly.newPlot(\n",
              "                        'c095f654-ca8c-4d57-be30-cd1db918044d',\n",
              "                        [{\"domain\": {\"x\": [0.0, 1.0], \"y\": [0.0, 1.0]}, \"hoverlabel\": {\"namelength\": 0}, \"hovertemplate\": \"Exited=%{label}\", \"labels\": [0, 0, 0, 0, 0, 0, 0, 0, 0, 0, 0, 0, 1, 0, 1, 0, 0, 0, 0, 0, 1, 0, 0, 0, 0, 1, 0, 0, 0, 1, 0, 0, 0, 0, 0, 1, 0, 0, 0, 0, 0, 0, 0, 0, 0, 0, 1, 0, 0, 0, 0, 1, 1, 1, 0, 0, 0, 0, 0, 0, 0, 0, 0, 0, 0, 0, 1, 0, 0, 0, 0, 0, 0, 0, 0, 0, 0, 0, 0, 0, 0, 0, 0, 1, 1, 0, 0, 0, 1, 0, 1, 0, 1, 0, 0, 0, 0, 0, 0, 0, 0, 0, 0, 0, 0, 0, 0, 0, 0, 0, 1, 0, 1, 1, 0, 0, 0, 0, 0, 1, 1, 1, 1, 0, 1, 0, 0, 0, 1, 1, 0, 0, 0, 0, 1, 0, 0, 1, 0, 0, 0, 0, 0, 1, 0, 0, 0, 0, 0, 0, 0, 0, 1, 0, 0, 0, 1, 0, 0, 0, 0, 0, 0, 0, 0, 1, 1, 0, 0, 0, 0, 1, 0, 0, 0, 1, 0, 0, 0, 0, 0, 0, 0, 0, 0, 0, 0, 1, 1, 0, 0, 1, 0, 0, 0, 1, 0, 0, 0, 1, 0, 0, 0, 1, 1, 0, 1, 1, 0, 1, 1, 1, 0, 0, 0, 0, 0, 0, 0, 0, 0, 0, 0, 1, 0, 0, 0, 0, 0, 0, 1, 0, 1, 0, 0, 1, 0, 0, 0, 0, 0, 0, 0, 0, 0, 0, 0, 1, 0, 0, 0, 0, 0, 0, 0, 0, 0, 0, 0, 0, 1, 0, 0, 1, 0, 1, 0, 1, 1, 1, 0, 0, 0, 0, 0, 0, 0, 0, 0, 0, 0, 0, 1, 1, 0, 1, 1, 0, 0, 0, 0, 1, 0, 0, 0, 1, 0, 0, 1, 0, 0, 1, 0, 0, 1, 0, 0, 0, 1, 0, 1, 0, 1, 0, 0, 0, 1, 0, 1, 0, 0, 0, 0, 0, 1, 0, 0, 1, 0, 0, 0, 1, 0, 0, 1, 0, 0, 1, 0, 0, 0, 1, 1, 0, 0, 0, 0, 0, 0, 0, 0, 0, 1, 0, 0, 0, 0, 0, 0, 0, 0, 0, 1, 0, 0, 1, 0, 0, 0, 0, 0, 0, 0, 0, 0, 1, 1, 0, 0, 0, 0, 0, 0, 1, 0, 0, 0, 0, 1, 0, 0, 0, 1, 0, 0, 0, 0, 0, 0, 0, 0, 0, 0, 0, 0, 0, 0, 0, 0, 0, 1, 0, 1, 0, 0, 0, 1, 0, 0, 0, 0, 0, 0, 0, 1, 0, 0, 0, 0, 0, 0, 0, 0, 0, 0, 0, 0, 1, 0, 0, 0, 0, 0, 0, 0, 0, 0, 1, 0, 0, 1, 0, 0, 1, 1, 0, 0, 0, 0, 1, 0, 0, 0, 1, 1, 0, 0, 1, 0, 0, 0, 1, 0, 1, 0, 1, 1, 0, 0, 0, 1, 1, 1, 0, 0, 0, 1, 0, 1, 0, 0, 0, 0, 1, 0, 0, 1, 0, 0, 0, 0, 0, 0, 0, 0, 0, 1, 1, 1, 0, 0, 0, 0, 0, 0, 1, 0, 0, 0, 0, 1, 0, 1, 1, 0, 0, 0, 0, 0, 0, 0, 1, 0, 0, 0, 0, 0, 0, 0, 0, 0, 0, 0, 0, 0, 0, 1, 0, 1, 0, 0, 0, 0, 0, 0, 1, 1, 0, 0, 0, 1, 1, 0, 1, 0, 0, 0, 0, 1, 0, 0, 1, 1, 1, 1, 0, 0, 0, 0, 0, 0, 0, 0, 0, 1, 0, 0, 0, 0, 0, 0, 0, 0, 0, 0, 1, 1, 0, 0, 0, 0, 0, 1, 1, 0, 0, 0, 0, 0, 0, 1, 0, 0, 0, 0, 0, 0, 0, 0, 0, 0, 0, 0, 0, 0, 0, 0, 0, 0, 1, 0, 1, 0, 0, 1, 0, 0, 0, 1, 0, 0, 0, 1, 1, 1, 0, 0, 0, 1, 0, 1, 0, 0, 0, 0, 0, 0, 0, 0, 0, 0, 1, 0, 1, 0, 0, 0, 0, 0, 0, 0, 0, 0, 0, 0, 0, 0, 1, 0, 0, 1, 0, 0, 0, 0, 1, 0, 0, 0, 0, 0, 0, 0, 0, 0, 0, 1, 0, 0, 0, 0, 1, 0, 0, 0, 0, 0, 0, 1, 1, 0, 0, 0, 0, 1, 1, 0, 0, 0, 0, 0, 0, 1, 0, 1, 1, 0, 1, 0, 0, 0, 0, 0, 0, 1, 0, 0, 0, 0, 1, 0, 0, 1, 0, 0, 0, 1, 0, 0, 0, 0, 0, 0, 0, 0, 0, 1, 0, 0, 0, 0, 0, 0, 0, 1, 0, 0, 0, 1, 0, 0, 0, 0, 0, 0, 0, 1, 0, 0, 0, 0, 0, 0, 1, 1, 1, 0, 0, 1, 0, 1, 0, 1, 1, 0, 0, 0, 0, 0, 1, 0, 0, 1, 0, 0, 1, 0, 0, 1, 1, 0, 0, 0, 0, 0, 1, 1, 0, 0, 1, 1, 0, 0, 0, 0, 0, 0, 0, 0, 0, 0, 0, 1, 0, 0, 0, 0, 0, 0, 0, 1, 0, 0, 0, 0, 1, 0, 0, 0, 0, 0, 0, 1, 0, 0, 0, 0, 1, 0, 0, 0, 0, 0, 0, 1, 0, 0, 0, 0, 0, 0, 1, 0, 0, 0, 1, 0, 1, 0, 1, 0, 0, 0, 0, 0, 0, 0, 0, 0, 0, 0, 0, 0, 0, 0, 0, 0, 0, 0, 0, 0, 0, 0, 0, 0, 0, 0, 0, 1, 1, 1, 0, 0, 0, 0, 0, 1, 1, 1, 0, 0, 0, 0, 0, 1, 0, 0, 0, 1, 0, 0, 0, 1, 0, 0, 1, 1, 1, 1, 0, 0, 0, 0, 0, 0, 1, 0, 0, 0, 0, 0, 0, 1, 0, 0, 0, 0, 1, 0, 0, 0, 1, 0, 0, 1, 1, 1, 0, 0, 0, 1, 1, 0, 0, 0, 1, 0, 0, 0, 0, 0, 0, 0, 0, 0, 0, 1, 0, 0, 0, 0, 0, 1, 0, 1, 0, 0, 0, 0, 0, 0, 0, 0, 1, 0, 0, 0, 1, 0, 0, 0, 1, 0, 0, 0, 0, 0, 0, 0, 0, 1, 1, 0, 0, 0, 0, 0, 0, 1, 0, 1, 0, 1, 0, 0, 0, 0, 0, 0, 0, 0, 0, 0, 0, 0, 0, 0, 0, 0, 0, 1, 0, 0, 0, 0, 1, 1, 0, 1, 0, 1, 0, 0, 0, 0, 1, 0, 0, 0, 0, 0, 0, 1, 0, 0, 0, 0, 0, 0, 0, 0, 0, 0, 0, 0, 1, 0, 0, 0, 1, 0, 0, 0, 0, 0, 0, 1, 1, 0, 0, 1, 1, 0, 1, 0, 0, 0, 0, 0, 0, 0, 0, 1, 0, 0, 0, 0, 0, 1, 1, 0, 0, 0, 0, 0, 1, 0, 0, 0, 0, 0, 1, 0, 0, 0, 0, 1, 0, 0, 0, 0, 0, 0, 1, 1, 0, 1, 0, 0, 0, 1, 1, 0, 0, 1, 1, 0, 0, 0, 0, 0, 0, 0, 0, 0, 0, 0, 0, 0, 1, 0, 0, 0, 0, 0, 1, 0, 0, 0, 0, 0, 0, 0, 0, 0, 0, 1, 0, 0, 1, 0, 0, 0, 0, 1, 0, 1, 0, 0, 0, 0, 0, 0, 0, 1, 0, 1, 0, 0, 0, 1, 0, 0, 0, 1, 1, 0, 0, 0, 0, 0, 0, 1, 0, 1, 0, 0, 0, 0, 0, 0, 0, 0, 1, 0, 0, 0, 0, 0, 1, 0, 1, 0, 0, 1, 0, 0, 0, 0, 0, 0, 0, 0, 0, 1, 0, 0, 0, 0, 0, 0, 0, 0, 0, 0, 0, 0, 0, 0, 0, 0, 0, 0, 0, 0, 0, 0, 0, 0, 0, 0, 0, 0, 1, 0, 0, 0, 1, 0, 0, 0, 0, 1, 0, 0, 0, 0, 0, 0, 0, 0, 0, 0, 0, 0, 1, 0, 1, 1, 0, 0, 0, 0, 0, 0, 0, 0, 0, 0, 1, 0, 0, 1, 1, 0, 0, 0, 0, 0, 0, 1, 1, 0, 1, 0, 0, 0, 0, 0, 1, 0, 1, 0, 0, 0, 0, 0, 0, 0, 0, 0, 0, 0, 0, 0, 0, 0, 0, 0, 0, 0, 0, 0, 1, 0, 1, 0, 0, 0, 0, 0, 0, 1, 0, 0, 0, 0, 0, 0, 0, 0, 1, 0, 0, 0, 0, 0, 0, 1, 1, 1, 0, 0, 1, 0, 0, 0, 0, 1, 0, 0, 1, 0, 1, 0, 0, 0, 0, 0, 1, 0, 1, 0, 0, 0, 0, 1, 1, 0, 0, 0, 0, 0, 1, 0, 0, 0, 1, 0, 0, 0, 1, 0, 1, 1, 0, 0, 1, 0, 0, 0, 0, 1, 0, 0, 0, 0, 0, 0, 1, 0, 1, 1, 0, 0, 0, 0, 1, 0, 0, 0, 1, 0, 0, 0, 0, 0, 0, 0, 0, 0, 0, 1, 1, 0, 0, 0, 0, 0, 0, 0, 0, 0, 1, 0, 1, 0, 1, 0, 0, 0, 1, 0, 0, 0, 0, 0, 1, 0, 0, 0, 0, 0, 0, 1, 0, 0, 0, 1, 1, 0, 0, 0, 1, 0, 1, 0, 1, 0, 1, 0, 0, 1, 0, 0, 0, 0, 1, 0, 0, 0, 0, 1, 0, 0, 0, 0, 0, 1, 0, 0, 0, 0, 1, 0, 0, 0, 0, 0, 0, 0, 0, 0, 1, 1, 1, 0, 0, 0, 0, 1, 1, 0, 0, 0, 0, 0, 0, 0, 0, 1, 0, 0, 1, 1, 0, 0, 0, 0, 0, 0, 1, 1, 0, 0, 0, 1, 0, 0, 0, 0, 0, 0, 1, 0, 0, 0, 1, 0, 0, 0, 0, 1, 0, 0, 0, 0, 0, 0, 0, 0, 0, 1, 0, 0, 0, 0, 0, 0, 0, 1, 0, 0, 0, 0, 0, 0, 0, 0, 0, 0, 0, 1, 0, 0, 0, 0, 0, 0, 0, 1, 0, 0, 0, 1, 1, 0, 1, 0, 0, 0, 0, 0, 0, 0, 0, 1, 0, 0, 0, 0, 0, 0, 0, 0, 0, 0, 0, 0, 0, 0, 1, 0, 0, 0, 1, 0, 0, 0, 0, 0, 0, 0, 0, 0, 0, 1, 0, 1, 0, 0, 0, 0, 0, 0, 0, 0, 0, 0, 0, 0, 1, 1, 0, 0, 0, 0, 0, 0, 1, 1, 1, 1, 0, 0, 0, 1, 0, 0, 0, 0, 0, 0, 0, 0, 0, 1, 0, 0, 0, 0, 0, 0, 0, 0, 0, 0, 1, 0, 0, 0, 0, 1, 0, 0, 0, 0, 0, 1, 1, 0, 0, 0, 0, 0, 1, 0, 1, 0, 1, 0, 1, 0, 0, 1, 1, 0, 0, 1, 0, 0, 1, 0, 0, 0, 0, 0, 0, 1, 0, 0, 1, 0, 0, 0, 0, 1, 0, 0, 1, 0, 0, 0, 1, 0, 0, 0, 1, 0, 0, 0, 0, 0, 0, 0, 0, 0, 0, 0, 1, 0, 0, 0, 0, 0, 0, 0, 0, 0, 1, 0, 0, 0, 0, 0, 1, 0, 1, 0, 0, 1, 0, 0, 0, 0, 0, 0, 0, 0, 0, 0, 0, 1, 0, 0, 0, 0, 1, 0, 0, 0, 0, 0, 0, 0, 0, 0, 0, 0, 0, 1, 0, 0, 0, 0, 0, 0, 1, 0, 0, 0, 0, 0, 1, 0, 0, 0, 1, 0, 1, 0, 0, 0, 0, 0, 1, 0, 0, 1, 0, 0, 0, 0, 0, 0, 0, 0, 0, 1, 1, 0, 1, 1, 0, 1, 0, 0, 0, 0, 0, 1, 0, 0, 1, 0, 0, 0, 0, 0, 0, 0, 1, 0, 0, 0, 0, 1, 0, 1, 0, 0, 0, 1, 0, 0, 0, 0, 0, 0, 0, 0, 1, 0, 0, 0, 0, 0, 0, 0, 0, 0, 0, 0, 0, 0, 0, 0, 1, 0, 0, 0, 0, 0, 0, 0, 0, 0, 1, 1, 0, 1, 0, 0, 1, 0, 0, 0, 0, 0, 0, 0, 1, 0, 0, 0, 0, 0, 0, 0, 1, 0, 0, 0, 0, 0, 0, 1, 0, 0, 0, 1, 0, 0, 1, 0, 0, 0, 0, 0, 1, 0, 1, 0, 0, 0, 0, 0, 0, 0, 0, 0, 0, 1, 0, 0, 1, 0, 0, 0, 0, 0, 0, 0, 1, 0, 0, 0, 1, 1, 1, 1, 0, 0, 0, 0, 0, 0, 1, 0, 0, 1, 0, 0, 1, 0, 0, 0, 0, 1, 0, 0, 1, 0, 0, 0, 0, 0, 0, 0, 0, 0, 1, 0, 0, 0, 0, 0, 0, 0, 0, 0, 0, 0, 0, 0, 0, 0, 1, 0, 1, 1, 0, 1, 0, 0, 1, 0, 0, 1, 1, 0, 0, 0, 0, 0, 0, 0, 0, 0, 1, 0, 0, 0, 0, 0, 0, 0, 0, 0, 0, 0, 1, 0, 0, 0, 0, 0, 0, 0, 0, 0, 0, 0, 0, 1, 0, 0, 1, 1, 1, 0, 0, 0, 0, 0, 0, 1, 1, 0, 0, 0, 1, 0, 0, 0, 1, 0, 0, 0, 1, 0, 0, 1, 0, 0, 0, 1, 1, 0, 0, 0, 0, 0, 0, 1, 0, 1, 0, 0, 1, 0, 0, 0, 1, 0, 0, 0, 0, 1, 0, 0, 0, 0, 0, 0, 0, 0, 1, 0, 0, 1, 0, 0, 0, 0, 0, 1, 0, 0, 0, 0, 0, 0, 0, 0, 0, 0, 1, 0, 0, 0, 0, 0, 0, 0, 0, 0, 0, 1, 0, 0, 0, 0, 0, 0, 0, 0, 1, 0, 1, 0, 0, 0, 1, 0, 0, 0, 0, 0, 0, 0, 0, 1, 0, 0, 0, 0, 0, 0, 0, 0, 0, 0, 0, 1, 0, 0, 0, 0, 0, 0, 0, 0, 0, 0, 0, 0, 0, 0, 1, 0, 0, 0, 0, 0, 0, 1, 0, 0, 0, 0, 0, 0, 1, 0, 0, 1, 0, 0, 0, 1, 0, 0, 0, 0, 0, 0, 0, 1, 0, 1, 0, 1, 0, 0, 0, 0, 0, 0, 0, 0, 0, 0, 0, 1, 0, 0, 0, 0, 0, 0, 0, 0, 1, 0, 0, 1, 1, 0, 0, 1, 0, 0, 0, 0, 0, 0, 0, 0, 0, 0, 0, 0, 0, 0, 0, 0, 0, 0, 0, 0, 0, 0, 0, 0, 0, 1, 0, 0, 0, 0, 0, 0, 0, 0, 0, 0, 0, 0, 0, 0, 0, 1, 0, 1, 0, 1, 0, 0, 1, 0, 0, 0, 1, 0, 1, 0, 0, 0, 0, 1, 0, 0, 0, 0, 0, 1, 0, 1, 0, 0, 0, 1, 0, 0, 0, 0, 0, 0, 0, 1, 1, 0, 0, 0, 1, 0, 0, 0, 1, 0, 0, 0, 0, 1, 1, 1, 0, 1, 0, 0, 1, 0, 1, 0, 1, 0, 0, 0, 1, 0, 1, 0, 0, 0, 0, 0, 0, 1, 0, 0, 0, 0, 0, 1, 1, 0, 1, 0, 0, 0, 0, 0, 0, 1, 0, 1, 0, 0, 0, 1, 0, 0, 0, 0, 0, 0, 0, 1, 0, 0, 0, 0, 1, 0, 1, 1, 0, 0, 0, 0, 0, 0, 0, 0, 0, 0, 0, 0, 1, 0, 1, 1, 0, 1, 0, 1, 0, 1, 0, 0, 0, 0, 0, 0, 0, 1, 0, 0, 1, 0, 1, 1, 0, 0, 1, 0, 0, 0, 0, 0, 1, 0, 0, 0, 0, 1, 1, 0, 1, 0, 0, 1, 0, 0, 0, 1, 0, 0, 0, 0, 1, 0, 1, 0, 1, 0, 0, 0, 1, 0, 0, 0, 0, 0, 1, 0, 1, 0, 0, 0, 0, 0, 0, 1, 0, 1, 0, 0, 0, 0, 1, 0, 0, 0, 0, 0, 1, 1, 0, 0, 0, 0, 1, 0, 0, 1, 0, 0, 1, 0, 0, 0, 0, 1, 0, 0, 0, 0, 0, 0, 0, 0, 1, 0, 0, 1, 1, 0, 1, 0, 0, 0, 0, 0, 1, 1, 0, 0, 0, 0, 1, 0, 0, 0, 0, 0, 1, 0, 0, 0, 0, 0, 0, 1, 0, 0, 1, 0, 0, 0, 0, 0, 0, 0, 1, 0, 0, 0, 1, 0, 0, 0, 0, 1, 1, 0, 0, 0, 0, 0, 0, 0, 0, 0, 0, 1, 0, 0, 0, 0, 1, 0, 0, 0, 0, 1, 0, 0, 0, 1, 0, 1, 0, 0, 0, 0, 1, 0, 0, 0, 0, 1, 0, 0, 0, 0, 0, 0, 1, 0, 0, 0, 0, 0, 1, 0, 0, 1, 1, 1, 1, 0, 0, 0, 1, 1, 0, 0, 1, 0, 0, 0, 1, 0, 0, 0, 1, 0, 1, 1, 0, 0, 0, 0, 0, 0, 0, 0, 0, 1, 0, 0, 0, 0, 0, 0, 0, 0, 0, 0, 0, 0, 1, 0, 0, 0, 0, 0, 0, 0, 0, 1, 0, 0, 0, 0, 1, 0, 0, 1, 1, 0, 0, 0, 0, 0, 0, 0, 0, 0, 0, 0, 0, 0, 0, 0, 0, 0, 1, 0, 0, 0, 0, 0, 0, 0, 0, 0, 0, 0, 0, 0, 1, 0, 1, 0, 0, 1, 0, 1, 0, 0, 0, 0, 0, 0, 0, 0, 0, 0, 1, 0, 1, 0, 1, 1, 1, 0, 0, 0, 0, 0, 1, 0, 0, 0, 0, 0, 0, 0, 0, 0, 1, 0, 0, 0, 0, 0, 1, 0, 0, 0, 0, 0, 0, 1, 1, 0, 1, 0, 0, 0, 0, 0, 0, 1, 0, 0, 0, 0, 0, 0, 1, 0, 0, 1, 0, 0, 0, 0, 1, 0, 0, 0, 0, 0, 0, 0, 0, 0, 1, 0, 0, 1, 0, 0, 0, 0, 0, 0, 1, 0, 0, 1, 0, 0, 0, 0, 0, 0, 0, 1, 1, 0, 0, 0, 1, 0, 0, 0, 1, 0, 0, 0, 1, 0, 0, 0, 0, 0, 0, 0, 0, 0, 0, 1, 0, 1, 0, 0, 0, 0, 1, 0, 0, 0, 0, 0, 0, 0, 0, 0, 0, 0, 0, 0, 0, 0, 0, 0, 0, 0, 0, 1, 0, 0, 1, 0, 0, 1, 0, 1, 0, 1, 1, 0, 0, 1, 0, 0, 0, 0, 0, 0, 0, 1, 0, 0, 0, 0, 0, 0, 0, 1, 0, 1, 0, 0, 0, 0, 0, 1, 0, 0, 0, 0, 0, 0, 0, 0, 0, 0, 0, 1, 0, 1, 0, 0, 0, 1, 1, 1, 0, 0, 1, 0, 0, 0, 0, 0, 0, 0, 1, 0, 0, 0, 0, 0, 0, 1, 0, 0, 0, 0, 0, 0, 0, 0, 0, 0, 0, 0, 1, 1, 0, 1, 1, 0, 1, 0, 1, 0, 0, 1, 0, 0, 0, 0, 1, 0, 0, 0, 0, 0, 0, 0, 0, 0, 0, 0, 0, 1, 0, 0, 0, 0, 0, 0, 0, 1, 0, 0, 0, 0, 0, 0, 0, 0, 0, 0, 0, 0, 0, 0, 0, 0, 0, 0, 0, 0, 0, 0, 1, 0, 1, 0, 1, 1, 0, 0, 0, 0, 1, 1, 0, 0, 0, 0, 0, 0, 0, 0, 1, 0, 0, 0, 0, 1, 0, 0, 0, 0, 0, 0, 0, 0, 0, 0, 1, 0, 0, 0, 0, 1, 0, 0, 0, 0, 0, 1, 0, 0, 0, 0, 0, 0, 1, 0, 0, 0, 0, 0, 0, 1, 1, 0, 0, 0, 0, 0, 0, 0, 0, 0, 0, 0, 0, 0, 0, 0, 0, 1, 0, 0, 0, 1, 0, 0, 0, 1, 0, 0, 0, 0, 1, 0, 1, 0, 1, 0, 0, 0, 0, 0, 0, 0, 0, 0, 0, 0, 1, 0, 0, 0, 0, 0, 0, 0, 0, 1, 0, 1, 0, 0, 0, 0, 0, 1, 0, 0, 0, 1, 0, 0, 0, 0, 0, 0, 0, 0, 1, 0, 0, 0, 0, 0, 1, 0, 0, 0, 0, 0, 0, 0, 0, 0, 0, 1, 0, 1, 0, 1, 0, 0, 1, 0, 0, 0, 0, 1, 0, 0, 0, 1, 0, 0, 0, 0, 0, 0, 0, 1, 0, 0, 0, 1, 0, 0, 0, 0, 0, 1, 0, 1, 0, 0, 0, 0, 0, 1, 0, 1, 0, 0, 0, 0, 0, 0, 0, 0, 0, 0, 0, 0, 0, 0, 0, 0, 0, 1, 1, 0, 0, 0, 0, 0, 1, 0, 0, 1, 0, 0, 0, 0, 0, 0, 0, 0, 0, 1, 1, 1, 0, 1, 0, 0, 0, 0, 1, 0, 0, 0, 0, 0, 0, 0, 1, 0, 0, 1, 0, 0, 0, 0, 0, 1, 0, 0, 0, 0, 0, 0, 0, 0, 0, 0, 1, 0, 1, 0, 0, 0, 0, 0, 0, 0, 1, 0, 0, 0, 1, 0, 0, 0, 0, 0, 0, 1, 0, 0, 0, 0, 1, 0, 0, 0, 0, 0, 0, 0, 0, 0, 0, 0, 0, 0, 0, 0, 0, 0, 0, 0, 1, 0, 0, 0, 0, 0, 0, 0, 0, 1, 0, 0, 0, 0, 0, 0, 0, 0, 0, 0, 0, 0, 0, 0, 0, 0, 0, 1, 1, 0, 0, 0, 0, 0, 0, 0, 0, 0, 1, 1, 0, 1, 0, 0, 0, 0, 0, 0, 0, 0, 0, 0, 0, 0, 1, 0, 0, 0, 0, 0, 0, 0, 0, 0, 0, 0, 0, 0, 0, 0, 0, 0, 0, 1, 0, 0, 0, 1, 0, 0, 0, 1, 1, 0, 0, 0, 0, 0, 1, 0, 0, 1, 0, 0, 0, 0, 1, 0, 1, 0, 0, 0, 0, 1, 0, 0, 0, 0, 0, 0, 1, 0, 1, 0, 0, 0, 0, 0, 0, 0, 0, 0, 0, 0, 0, 0, 1, 1, 0, 1, 0, 0, 0, 0, 0, 0, 1, 0, 0, 0, 0, 0, 0, 0, 0, 1, 0, 0, 0, 1, 1, 0, 0, 0, 0, 0, 0, 1, 0, 0, 0, 0, 0, 0, 0, 1, 0, 0, 0, 0, 1, 0, 0, 0, 0, 0, 1, 1, 0, 0, 0, 0, 0, 0, 0, 0, 0, 1, 0, 0, 0, 0, 0, 0, 0, 0, 0, 0, 0, 0, 0, 0, 0, 0, 1, 0, 0, 0, 1, 0, 0, 1, 0, 0, 0, 0, 0, 0, 0, 0, 0, 0, 1, 1, 0, 1, 0, 0, 0, 0, 0, 0, 0, 0, 0, 0, 1, 1, 0, 0, 0, 0, 1, 0, 0, 0, 1, 0, 0, 0, 0, 0, 0, 0, 0, 1, 0, 1, 0, 0, 0, 0, 0, 0, 0, 0, 1, 0, 0, 0, 0, 0, 0, 0, 1, 0, 0, 0, 0, 0, 1, 1, 0, 1, 1, 0, 0, 0, 1, 0, 0, 0, 0, 0, 1, 0, 0, 0, 0, 1, 0, 1, 0, 0, 0, 0, 0, 0, 0, 0, 1, 0, 0, 0, 0, 0, 0, 0, 0, 0, 0, 0, 0, 0, 0, 0, 0, 0, 0, 0, 1, 0, 0, 1, 0, 0, 0, 0, 0, 0, 0, 0, 1, 0, 0, 0, 0, 0, 1, 1, 1, 0, 1, 0, 0, 1, 0, 0, 0, 0, 1, 0, 0, 0, 1, 1, 0, 1, 0, 0, 0, 1, 0, 0, 0, 0, 1, 0, 1, 1, 0, 0, 0, 0, 0, 0, 0, 0, 0, 0, 0, 0, 0, 1, 0, 0, 0, 0, 0, 0, 0, 0, 0, 0, 0, 0, 0, 0, 0, 0, 0, 0, 0, 0, 0, 1, 0, 1, 0, 0, 0, 0, 0, 0, 1, 0, 0, 0, 0, 0, 1, 0, 1, 0, 0, 0, 0, 0, 1, 0, 1, 0, 0, 1, 0, 1, 0, 1, 1, 0, 0, 0, 0, 0, 1, 1, 0, 0, 0, 0, 0, 0, 0, 0, 0, 0, 0, 0, 1, 1, 0, 0, 0, 0, 0, 0, 0, 0, 0, 0, 0, 0, 1, 0, 1, 0, 0, 1, 1, 0, 1, 0, 0, 0, 0, 0, 1, 0, 0, 0, 1, 0, 0, 0, 0, 1, 1, 0, 0, 0, 0, 0, 0, 0, 0, 0, 1, 0, 1, 0, 0, 0, 0, 0, 1, 1, 0, 1, 0, 0, 1, 0, 1, 1, 0, 0, 0, 0, 1, 0, 0, 0, 0, 0, 0, 1, 0, 0, 1, 0, 0, 1, 0, 0, 0, 0, 0, 0, 0, 0, 0, 0, 0, 0, 0, 0, 0, 0, 0, 0, 0, 1, 0, 0, 0, 0, 0, 0, 0, 0, 0, 0, 0, 0, 1, 0, 0, 0, 0, 0, 0, 0, 0, 0, 0, 0, 0, 0, 0, 0, 0, 0, 0, 0, 0, 0, 0, 0, 0, 1, 0, 0, 0, 1, 0, 0, 0, 0, 0, 0, 0, 0, 1, 1, 0, 1, 0, 1, 0, 0, 0, 0, 1, 0, 0, 0, 0, 0, 0, 0, 0, 1, 0, 0, 0, 0, 1, 0, 0, 0, 0, 0, 0, 0, 0, 1, 0, 1, 0, 0, 1, 0, 0, 1, 0, 0, 1, 0, 0, 0, 0, 0, 0, 0, 0, 0, 0, 0, 0, 0, 0, 1, 0, 0, 0, 0, 0, 0, 0, 0, 0, 0, 0, 0, 0, 1, 0, 0, 1, 1, 0, 0, 0, 0, 0, 1, 0, 0, 1, 0, 1, 0, 1, 1, 0, 0, 0, 0, 0, 0, 0, 0, 1, 0, 0, 0, 0, 0, 0, 1, 0, 0, 0, 0, 0, 0, 0, 0, 1, 0, 0, 0, 0, 0, 0, 0, 0, 0, 0, 0, 0, 0, 0, 0, 0, 0, 0, 1, 0, 0, 0, 0, 0, 1, 0, 1, 0, 1, 0, 0, 0, 0, 0, 0, 0, 0, 0, 0, 0, 0, 0, 0, 1, 0, 0, 0, 0, 0, 0, 0, 0, 0, 1, 0, 0, 0, 1, 1, 1, 0, 1, 0, 0, 1, 1, 0, 0, 0, 0, 0, 0, 0, 0, 0, 0, 1, 0, 1, 1, 0, 1, 0, 0, 0, 0, 0, 0, 0, 0, 0, 0, 1, 1, 1, 0, 1, 0, 1, 0, 0, 0, 0, 0, 0, 0, 0, 1, 0, 1, 0, 0, 1, 0, 0, 0, 0, 1, 0, 0, 1, 1, 0, 0, 0, 0, 0, 0, 0, 0, 1, 0, 0, 0, 0, 0, 0, 0, 0, 0, 1, 1, 0, 0, 1, 0, 0, 0, 0, 0, 0, 0, 0, 0, 0, 0, 0, 0, 0, 0, 0, 0, 1, 0, 0, 0, 1, 0, 1, 0, 1, 0, 0, 0, 0, 0, 0, 0, 0, 0, 0, 0, 1, 1, 0, 1, 1, 0, 0, 0, 0, 0, 0, 0, 0, 1, 0, 1, 1, 0, 1, 0, 0, 0, 0, 0, 0, 0, 0, 1, 0, 0, 1, 0, 0, 1, 0, 1, 0, 0, 0, 0, 0, 0, 0, 0, 1, 0, 0, 0, 0, 0, 1, 1, 0, 1, 0, 0, 0, 0, 0, 0, 0, 0, 0, 1, 0, 0, 0, 0, 0, 0, 0, 1, 0, 0, 0, 1, 1, 0, 0, 0, 0, 0, 0, 1, 0, 1, 1, 0, 0, 0, 0, 1, 1, 0, 0, 0, 0, 0, 0, 0, 0, 0, 0, 0, 0, 0, 0, 0, 1, 0, 0, 0, 0, 0, 0, 0, 0, 0, 0, 0, 0, 0, 0, 0, 0, 0, 0, 0, 1, 1, 0, 0, 0, 0, 0, 0, 0, 0, 0, 0, 0, 0, 1, 0, 0, 0, 0, 0, 0, 1, 1, 0, 0, 0, 0, 0, 0, 1, 0, 0, 0, 0, 0, 0, 1, 1, 0, 0, 0, 0, 0, 0, 0, 1, 0, 1, 0, 0, 0, 0, 0, 0, 0, 0, 0, 0, 0, 0, 0, 0, 1, 0, 0, 1, 1, 0, 0, 0, 0, 0, 0, 0, 0, 0, 0, 0, 0, 0, 0, 0, 1, 0, 0, 1, 0, 0, 1, 0, 0, 0, 0, 0, 1, 0, 0, 0, 0, 0, 1, 1, 0, 0, 1, 0, 0, 0, 0, 1, 0, 0, 0, 0, 0, 0, 0, 0, 0, 0, 0, 0, 0, 0, 0, 0, 0, 0, 0, 1, 1, 0, 1, 0, 0, 0, 1, 0, 1, 0, 0, 0, 0, 1, 0, 0, 0, 1, 0, 0, 1, 0, 0, 0, 1, 0, 0, 0, 0, 0, 0, 0, 0, 0, 0, 1, 0, 0, 0, 0, 0, 0, 0, 0, 1, 0, 0, 0, 0, 0, 0, 0, 0, 0, 0, 1, 0, 1, 1, 0, 0, 0, 1, 0, 0, 0, 0, 0, 0, 0, 0, 1, 0, 0, 0, 1, 0, 0, 0, 0, 0, 0, 0, 0, 1, 0, 0, 0, 0, 0, 0, 1, 0, 0, 0, 0, 1, 0, 0, 0, 0, 0, 1, 0, 0, 0, 0, 0, 0, 0, 0, 1, 0, 0, 0, 0, 1, 0, 0, 0, 1, 0, 0, 0, 0, 1, 0, 1, 1, 0, 0, 0, 0, 0, 0, 1, 0, 0, 0, 0, 0, 0, 0, 0, 0, 0, 0, 0, 0, 0, 1, 1, 0, 1, 0, 0, 1, 0, 0, 0, 0, 0, 0, 0, 0, 1, 0, 0, 0, 0, 0, 0, 0, 0, 0, 1, 0, 0, 1, 0, 0, 0, 0, 0, 0, 0, 0, 0, 0, 0, 0, 0, 0, 0, 0, 0, 0, 0, 0, 1, 1, 0, 0, 0, 0, 1, 1, 0, 0, 1, 0, 0, 0, 0, 0, 0, 0, 1, 0, 0, 1, 0, 0, 1, 0, 0, 0, 1, 0, 0, 0, 0, 0, 0, 0, 0, 0, 0, 0, 0, 0, 0, 0, 0, 0, 0, 0, 0, 0, 0, 0, 0, 0, 1, 1, 1, 0, 0, 0, 0, 0, 0, 0, 0, 0, 1, 1, 1, 0, 1, 1, 1, 1, 0, 0, 0, 0, 1, 0, 1, 0, 0, 0, 1, 0, 0, 1, 0, 1, 0, 0, 1, 0, 1, 0, 0, 1, 0, 0, 0, 0, 0, 0, 0, 0, 0, 0, 0, 0, 0, 1, 0, 0, 0, 0, 0, 1, 0, 0, 0, 1, 0, 0, 0, 1, 0, 0, 0, 0, 1, 1, 0, 1, 0, 0, 0, 0, 0, 0, 0, 0, 1, 1, 1, 0, 0, 0, 0, 1, 0, 0, 0, 0, 1, 0, 0, 0, 0, 0, 0, 0, 0, 0, 1, 0, 0, 0, 0, 0, 0, 0, 1, 0, 1, 0, 0, 0, 1, 0, 0, 1, 0, 1, 0, 0, 0, 0, 1, 0, 0, 0, 0, 0, 1, 0, 0, 1, 0, 0, 1, 0, 1, 0, 0, 0, 0, 0, 0, 0, 0, 1, 0, 1, 0, 0, 0, 1, 0, 0, 0, 0, 0, 0, 0, 0, 0, 0, 1, 0, 0, 1, 0, 0, 0, 0, 0, 0, 1, 0, 0, 0, 0, 0, 0, 0, 1, 0, 0, 1, 1, 0, 0, 1, 0, 0, 0, 0, 0, 0, 0, 0, 0, 0, 1, 0, 0, 1, 1, 0, 0, 1, 0, 1, 0, 0, 0, 0, 0, 0, 1, 0, 0, 0, 0, 0, 0, 0, 1, 0, 0, 0, 0, 1, 1, 0, 0, 0, 0, 0, 0, 1, 0, 1, 0, 0, 0, 0, 1, 1, 0, 0, 1, 0, 0, 1, 0, 0, 0, 0, 0, 0, 0, 0, 0, 0, 0, 1, 0, 0, 0, 0, 1, 0, 0, 0, 1, 0, 0, 0, 0, 1, 0, 1, 1, 0, 0, 0, 0, 0, 0, 1, 0, 1, 0, 0, 0, 0, 0, 0, 0, 1, 1, 0, 0, 0, 0, 0, 0, 0, 0, 0, 0, 1, 0, 0, 0, 0, 0, 0, 0, 0, 0, 0, 0, 1, 0, 0, 1, 0, 0, 0, 0, 0, 0, 0, 1, 0, 0, 0, 0, 0, 0, 0, 0, 0, 0, 0, 0, 0, 0, 1, 0, 0, 1, 0, 0, 0, 0, 0, 0, 1, 0, 0, 0, 0, 0, 0, 0, 0, 0, 0, 0, 1, 0, 1, 0, 0, 1, 0, 0, 0, 0, 1, 0, 0, 0, 0, 0, 0, 0, 0, 0, 0, 0, 0, 0, 0, 0, 0, 0, 0, 1, 1, 1, 0, 1, 0, 0, 0, 0, 1, 1, 1, 1, 0, 0, 0, 0, 0, 0, 0, 1, 0, 0, 0, 0, 1, 0, 0, 0, 1, 0, 1, 0, 0, 0, 0, 0, 0, 0, 1, 0, 0, 1, 0, 1, 0, 0, 1, 0, 0, 0, 0, 1, 0, 0, 0, 0, 0, 0, 0, 0, 0, 1, 0, 1, 1, 1, 0, 0, 1, 0, 1, 0, 0, 1, 0, 1, 0, 0, 0, 0, 0, 0, 1, 0, 1, 0, 0, 0, 0, 0, 0, 0, 1, 0, 0, 0, 1, 0, 0, 0, 1, 0, 0, 0, 0, 0, 0, 0, 0, 0, 0, 0, 0, 0, 1, 0, 0, 1, 0, 0, 0, 0, 0, 0, 0, 0, 1, 0, 0, 0, 0, 1, 1, 1, 1, 1, 0, 0, 0, 0, 0, 0, 0, 0, 0, 0, 0, 0, 0, 1, 1, 0, 0, 0, 0, 0, 0, 0, 0, 1, 0, 1, 0, 1, 0, 0, 0, 0, 0, 0, 0, 0, 0, 0, 0, 0, 0, 1, 0, 0, 0, 0, 1, 0, 1, 0, 0, 0, 0, 1, 1, 0, 0, 0, 0, 0, 0, 1, 0, 0, 1, 1, 0, 0, 1, 0, 1, 0, 0, 0, 0, 1, 0, 0, 0, 0, 0, 0, 1, 0, 0, 0, 0, 0, 0, 1, 0, 0, 0, 0, 0, 0, 1, 1, 0, 0, 0, 1, 0, 0, 0, 1, 1, 0, 0, 0, 1, 0, 0, 0, 0, 0, 1, 0, 0, 0, 0, 0, 0, 0, 0, 1, 0, 0, 0, 1, 0, 0, 1, 0, 1, 1, 1, 0, 1, 0, 0, 0, 0, 0, 0, 1, 0, 0, 0, 0, 0, 1, 0, 1, 0, 0, 0, 0, 0, 0, 0, 1, 0, 0, 0, 0, 1, 0, 1, 0, 0, 0, 0, 0, 0, 1, 0, 0, 0, 0, 0, 1, 0, 0, 0, 0, 0, 0, 0, 1, 1, 0, 1, 1, 0, 0, 1, 0, 0, 1, 0, 0, 0, 1, 0, 0, 0, 0, 0, 0, 1, 0, 0, 0, 1, 0, 0, 0, 0, 0, 1, 0, 0, 0, 0, 0, 0, 0, 0, 0, 0, 0, 0, 0, 0, 0, 1, 0, 0, 0, 1, 1, 0, 0, 1, 0, 0, 0, 0, 0, 0, 0, 0, 0, 1, 1, 1, 0, 1, 0, 1, 0, 0, 0, 0, 0, 0, 0, 1, 0, 0, 0, 0, 0, 0, 0, 0, 0, 0, 0, 0, 0, 0, 0, 0, 1, 0, 1, 1, 0, 0, 1, 1, 0, 0, 0, 0, 0, 1, 0, 0, 0, 1, 0, 0, 0, 0, 0, 1, 0, 0, 0, 0, 1, 0, 0, 0, 1, 1, 1, 0, 0, 0, 0, 0, 1, 0, 0, 0, 0, 0, 0, 0, 0, 1, 0, 0, 0, 0, 0, 0, 0, 0, 0, 0, 0, 0, 0, 1, 0, 0, 0, 0, 0, 0, 0, 0, 0, 0, 0, 1, 0, 0, 0, 0, 0, 0, 1, 1, 0, 0, 0, 0, 0, 0, 0, 0, 0, 0, 1, 0, 0, 0, 0, 0, 1, 0, 0, 0, 0, 0, 0, 0, 0, 0, 0, 0, 0, 1, 0, 0, 0, 0, 1, 0, 0, 0, 0, 0, 1, 0, 0, 0, 0, 0, 0, 0, 0, 0, 0, 0, 0, 1, 0, 0, 0, 0, 1, 0, 0, 0, 0, 0, 0, 0, 0, 0, 0, 0, 0, 0, 0, 0, 0, 0, 1, 0, 0, 0, 0, 1, 0, 0, 0, 0, 0, 0, 1, 0, 0, 0, 0, 0, 0, 0, 0, 0, 0, 1, 0, 0, 0, 0, 0, 0, 0, 0, 0, 0, 0, 1, 0, 0, 1, 0, 0, 0, 1, 0, 0, 0, 0, 0, 0, 1, 0, 0, 1, 0, 0, 0, 1, 0, 0, 0, 0, 0, 0, 0, 0, 0, 0, 1, 0, 0, 0, 0, 0, 0, 0, 0, 1, 0, 0, 0, 0, 0, 0, 0, 1, 0, 1, 0, 0, 0, 0, 0, 1, 0, 0, 0, 0, 0, 1, 0, 0, 1, 0, 0, 0, 0, 0, 0, 0, 1, 0, 0, 1, 1, 1, 1, 1, 1, 0, 0, 1, 0, 0, 0, 0, 0, 0, 0, 1, 0, 0, 0, 0, 0, 0, 0, 0, 0, 0, 1, 0, 0, 0, 1, 0, 0, 0, 1, 0, 0, 0, 1, 0, 0, 0, 0, 0, 0, 0, 1, 0, 1, 0, 0, 0, 0, 0, 0, 0, 0, 0, 0, 0, 0, 0, 0, 0, 1, 0, 0, 0, 1, 0, 1, 0, 0, 0, 0, 0, 1, 0, 1, 0, 1, 0, 0, 0, 0, 0, 0, 0, 1, 0, 0, 0, 0, 0, 1, 0, 1, 1, 0, 0, 0, 1, 0, 0, 0, 1, 0, 0, 0, 0, 0, 0, 0, 0, 0, 0, 1, 0, 0, 0, 1, 1, 0, 0, 0, 0, 0, 0, 0, 0, 0, 0, 0, 0, 0, 0, 0, 0, 0, 0, 0, 0, 0, 0, 0, 0, 1, 0, 0, 0, 0, 0, 0, 0, 0, 1, 0, 0, 0, 0, 0, 0, 0, 0, 1, 0, 0, 0, 0, 1, 0, 0, 0, 1, 0, 0, 0, 0, 0, 0, 1, 0, 0, 0, 0, 0, 0, 1, 0, 0, 0, 0, 0, 0, 0, 1, 0, 0, 0, 0, 0, 0, 1, 0, 0, 0, 0, 0, 0, 0, 0, 0, 0, 0, 0, 1, 0, 0, 0, 0, 0, 1, 0, 0, 0, 0, 0, 0, 0, 0, 0, 0, 0, 1, 0, 0, 0, 0, 0, 0, 0, 1, 0, 0, 0, 0, 0, 0, 0, 1, 0, 0, 1, 0, 0, 0, 0, 0, 0, 1, 0, 0, 0, 0, 0, 0, 0, 0, 1, 1, 0, 0, 0, 1, 0, 0, 0, 0, 0, 1, 0, 1, 0, 0, 0, 0, 0, 0, 0, 0, 0, 0, 0, 0, 0, 0, 0, 0, 1, 1, 1, 0, 0, 0, 1, 0, 0, 0, 0, 0, 0, 0, 0, 1, 0, 0, 0, 1, 0, 0, 0, 0, 1, 0, 0, 0, 0, 0, 0, 0, 0, 0, 0, 0, 0, 0, 0, 0, 1, 0, 0, 0, 0, 1, 1, 0, 0, 0, 1, 0, 0, 0, 0, 0, 1, 0, 1, 1, 0, 0, 0, 0, 0, 0, 1, 0, 0, 0, 0, 1, 1, 1, 0, 1, 0, 1, 0, 1, 1, 0, 0, 0, 0, 0, 0, 1, 0, 0, 1, 0, 0, 0, 1, 0, 1, 0, 0, 1, 1, 0, 0, 0, 0, 0, 0, 0, 0, 0, 0, 0, 0, 0, 0, 1, 1, 1, 0, 1, 0, 0, 0, 1, 0, 0, 0, 0, 0, 0, 0, 0, 0, 0, 0, 0, 0, 1, 0, 0, 0, 0, 0, 0, 0, 1, 1, 0, 0, 0, 1, 0, 0, 0, 0, 0, 0, 0, 1, 1, 1, 0, 1, 0, 1, 0, 0, 0, 1, 0, 0, 1, 0, 1, 0, 0, 0, 0, 0, 0, 1, 0, 0, 0, 0, 0, 0, 1, 1, 1, 0, 1, 0, 1, 1, 1, 0, 0, 0, 0, 1, 0, 0, 1, 0, 0, 0, 1, 1, 1, 1, 0, 0, 0, 0, 0, 0, 0, 0, 0, 0, 0, 0, 1, 0, 0, 0, 1, 0, 0, 0, 0, 1, 0, 0, 0, 1, 0, 0, 0, 1, 0, 1, 0, 0, 1, 0, 0, 1, 0, 1, 0, 1, 0, 0, 1, 0, 0, 0, 0, 0, 1, 0, 0, 0, 0, 0, 0, 1, 0, 0, 0, 0, 0, 0, 0, 0, 1, 0, 0, 0, 0, 0, 1, 1, 0, 0, 1, 0, 0, 0, 0, 0, 0, 1, 0, 0, 0, 0, 0, 0, 0, 0, 0, 0, 0, 0, 0, 1, 0, 0, 0, 1, 0, 0, 1, 0, 0, 0, 0, 0, 0, 1, 0, 1, 0, 1, 0, 0, 0, 1, 0, 0, 0, 0, 0, 0, 0, 0, 0, 0, 0, 0, 0, 0, 0, 0, 0, 0, 0, 0, 0, 0, 0, 1, 0, 0, 0, 0, 0, 1, 0, 1, 0, 0, 0, 0, 1, 0, 0, 0, 0, 0, 0, 0, 1, 0, 0, 0, 0, 0, 0, 0, 1, 1, 0, 1, 1, 0, 0, 0, 0, 0, 0, 0, 1, 0, 0, 0, 0, 0, 0, 0, 0, 0, 0, 0, 0, 0, 1, 0, 0, 0, 0, 0, 1, 0, 0, 1, 0, 0, 1, 0, 0, 0, 0, 0, 0, 0, 0, 1, 0, 0, 0, 1, 0, 1, 0, 0, 1, 1, 1, 0, 0, 0, 0, 0, 0, 0, 0, 0, 0, 0, 0, 0, 0, 0, 0, 0, 1, 1, 0, 1, 0, 0, 0, 0, 0, 1, 0, 0, 0, 1, 0, 0, 0, 0, 0, 1, 1, 0, 0, 0, 0, 0, 0, 0, 0, 0, 0, 0, 0, 0, 0, 0, 0, 1, 0, 0, 0, 0, 0, 0, 1, 0, 0, 0, 1, 1, 0, 1, 0, 0, 0, 0, 0, 0, 0, 0, 1, 0, 0, 0, 0, 0, 1, 1, 1, 0, 1, 0, 0, 0, 0, 0, 0, 1, 1, 0, 0, 0, 0, 0, 0, 1, 0, 0, 0, 1, 1, 0, 1, 0, 0, 0, 1, 1, 0, 0, 0, 1, 0, 0, 1, 0, 0, 1, 0, 0, 0, 1, 0, 1, 0, 0, 0, 0, 1, 0, 0, 1, 0, 0, 0, 0, 0, 0, 1, 0, 0, 0, 1, 0, 0, 1, 0, 0, 0, 0, 0, 0, 0, 1, 0, 0, 0, 1, 0, 0, 1, 0, 0, 0, 1, 1, 0, 0, 0, 0, 1, 0, 0, 0, 0, 0, 0, 0, 0, 0, 0, 0, 0, 0, 0, 0, 0, 0, 0, 0, 1, 0, 0, 0, 0, 0, 1, 0, 0, 1, 0, 0, 0, 0, 1, 0, 0, 1, 0, 0, 0, 1, 0, 1, 0, 0, 0, 1, 0, 0, 0, 0, 0, 1, 0, 0, 0, 0, 0, 0, 0, 0, 0, 0, 0, 0, 0, 1, 1, 0, 0, 0, 0, 0, 1, 0, 0, 0, 0, 1, 0, 0, 0, 0, 0, 0, 0, 1, 0, 0, 1, 0, 0, 1, 0, 0, 1, 0, 0, 0, 0, 0, 0, 0, 0, 0, 0, 0, 1, 1, 0, 0, 0, 0, 0, 1, 0, 0, 1, 0, 0, 0, 1, 0, 0, 0, 0, 0, 0, 0, 1, 0, 1, 0, 0, 0, 0, 0, 1, 0, 0, 0, 1, 0, 0, 0, 1, 1, 0, 0, 0, 1, 0, 1, 0, 0, 0, 0, 1, 1, 0, 0, 0, 1, 0, 0, 0, 0, 0, 0, 0, 0, 0, 0, 0, 0, 0, 0, 0, 0, 0, 0, 1, 0, 0, 1, 0, 1, 1, 0, 0, 1, 1, 0, 0, 1, 1, 0, 0, 0, 0, 0, 0, 0, 1, 0, 1, 0, 1, 1, 1, 0, 0, 1, 0, 0, 0, 0, 1, 0, 0, 0, 1, 0, 0, 0, 0, 1, 0, 0, 0, 0, 0, 0, 1, 0, 0, 0, 0, 0, 1, 0, 0, 0, 0, 0, 1, 0, 0, 1, 0, 0, 0, 1, 1, 0, 0, 0, 1, 0, 0, 0, 0, 0, 0, 0, 0, 0, 0, 0, 0, 0, 0, 0, 0, 1, 0, 0, 1, 1, 0, 1, 0, 0, 0, 0, 0, 0, 0, 0, 0, 0, 0, 0, 0, 0, 0, 1, 0, 0, 0, 0, 0, 0, 0, 1, 0, 0, 0, 0, 0, 0, 1, 0, 0, 0, 0, 0, 1, 0, 0, 1, 0, 0, 0, 1, 0, 0, 0, 0, 0, 0, 0, 1, 1, 0, 1, 0, 1, 0, 0, 0, 0, 1, 0, 0, 0, 0, 0, 0, 0, 0, 0, 1, 0, 0, 0, 0, 0, 0, 0, 1, 0, 0, 0, 0, 1, 0, 0, 0, 0, 0, 0, 1, 0, 0, 0, 0, 1, 0, 0, 0, 0, 0, 0, 1, 1, 0, 0, 0, 0, 0, 0, 0, 0, 0, 0, 1, 0, 1, 0, 1, 0, 0, 0, 1, 0, 0, 0, 1, 0, 0, 0, 0, 0, 0, 0, 0, 0, 0, 0, 0, 0, 0, 1, 0, 1, 0, 0, 0, 0, 0, 0, 0, 1, 0, 0, 0, 0, 1, 0, 1, 0, 0, 0, 0, 0, 0, 0, 0, 1, 0, 1, 1, 0, 0, 0, 0, 0, 0, 0, 0, 0, 0, 0, 0, 0, 1, 0, 0, 0, 1, 0, 0, 1, 0, 0, 0, 0, 0, 0, 0, 0, 1, 0, 0, 0, 0, 0, 1, 0, 0, 0, 0, 0, 0, 1, 0, 0, 0, 0, 0, 0, 0, 1, 0, 0, 0, 0, 1, 1, 0, 1, 0, 0, 0, 0, 0, 0, 0, 0, 0, 0, 0, 1, 0, 1, 0, 0, 0, 0, 0, 1, 0, 0, 0, 0, 0, 1, 0, 1, 0, 1, 0, 0, 0, 0, 0, 1, 0, 0, 0, 0, 0, 1, 0, 0, 0, 0, 0, 0, 0, 1, 0, 0, 0, 0, 0, 0, 1, 0, 0, 0, 0, 1, 0, 1, 0, 0, 0, 0, 1, 0, 1, 0, 0, 1, 0, 0, 0, 0, 0, 0, 0, 0, 0, 0, 0, 0, 1, 0, 0, 0, 0, 0, 0, 1, 0, 0, 0, 0, 0, 1, 0, 0, 0, 0, 0, 0, 0, 0, 0, 0, 0, 0, 0, 0, 0, 0, 0, 0, 0, 0, 0, 0, 0, 0, 0, 0, 0, 0, 0, 0, 1, 0, 0, 0, 0, 1, 0, 0, 0, 0, 0, 0, 0, 0, 0, 0, 0, 0, 1, 0, 0, 1, 0, 1, 0, 0, 0, 1, 0, 0, 0, 1, 0, 0, 1, 0, 1, 0, 0, 1, 0, 0, 0, 0, 0, 0, 1, 1, 1, 1, 0, 0, 1, 0, 0, 1, 0, 1, 0, 0, 0, 0, 0, 0, 0, 1, 1, 0, 0, 1, 0, 0, 0, 1, 1, 0, 0, 0, 0, 0, 1, 1, 1, 0, 1, 0, 0, 0, 0, 0, 0, 0, 0, 1, 0, 0, 0, 0, 0, 1, 0, 0, 1, 1, 0, 0, 0, 0, 0, 0, 1, 0, 0, 0, 1, 1, 0, 0, 0, 0, 0, 0, 0, 0, 0, 0, 0, 0, 1, 0, 0, 0, 1, 0, 0, 0, 0, 0, 0, 0, 0, 1, 0, 0, 0, 0, 0, 0, 1, 0, 0, 0, 0, 0, 0, 0, 0, 0, 0, 0, 0, 0, 0, 0, 0, 0, 0, 0, 0, 0, 0, 0, 0, 0, 1, 0, 1, 0, 0, 0, 0, 1, 0, 0, 1, 0, 0, 0, 0, 1, 0, 1, 0, 1, 0, 0, 0, 0, 0, 0, 1, 0, 0, 0, 0, 0, 0, 0, 1, 0, 0, 0, 0, 0, 0, 0, 0, 1, 0, 0, 0, 0, 0, 0, 0, 0, 0, 0, 0, 0, 0, 0, 0, 0, 0, 1, 0, 0, 0, 1, 0, 0, 0, 0, 0, 0, 1, 0, 0, 0, 1, 0, 0, 0, 0, 0, 0, 0, 0, 0, 0, 0, 0, 0, 1, 0, 0, 0, 0, 0, 0, 0, 0, 1, 0, 0, 0, 0, 0, 0, 0, 0, 0, 1, 0, 0, 0, 0, 0, 1, 1, 0, 0, 0, 1, 0, 0, 0, 0, 0, 0, 1, 0, 0, 0, 0, 0, 0, 0, 0, 1, 0, 0, 0, 0, 0, 1, 0, 0, 0, 0, 0, 0, 1, 0, 1, 0, 0, 0, 0, 1, 0, 0, 1, 0, 0, 0, 0, 0, 1, 0, 0, 1, 0, 0, 0, 1, 0, 0, 0, 0, 1, 1, 0, 0, 0, 0, 0, 0, 1, 0, 0, 0, 0, 1, 0, 0, 1, 0, 0, 0, 0, 0, 0, 0, 0, 0, 0, 1, 0, 0, 0, 0, 1, 0, 1, 0, 0, 0, 0, 0, 0, 0, 0, 1, 0, 1, 1, 1, 0, 1, 0, 0, 0, 0, 0, 0, 0, 0, 0, 0, 0, 1, 0, 0, 0, 0, 0, 0, 0, 1, 0, 0, 0, 1, 0, 0, 0, 0, 0, 0, 0, 0, 0, 0, 0, 0, 0, 0, 0, 0, 0, 0, 0, 0, 0, 1, 0, 0, 0, 0, 0, 0, 0, 1, 0, 0, 0, 0, 1, 0, 0, 0, 0, 0, 1, 0, 0, 0, 0, 0, 0, 0, 0, 1, 0, 0, 0, 0, 1, 0, 0, 0, 1, 1, 0, 0, 1, 0, 0, 0, 0, 0, 0, 1, 1, 1, 0, 0, 0, 0, 0, 0, 0, 0, 1, 0, 1, 1, 0, 0, 0, 0, 0, 0, 0, 1, 0, 0, 0, 0, 0, 0, 0, 1, 0, 0, 0, 0, 0, 0, 1, 0, 0, 0, 0, 0, 0, 0, 0, 0, 1, 1, 1, 0, 1, 0, 0, 0, 1, 0, 0, 0, 0, 0, 1, 0, 0, 1, 0, 0, 0, 0, 0, 1, 0, 0, 1, 0, 0, 1, 1, 1, 0, 0, 0, 0, 0, 0, 0, 0, 1, 1, 0, 1, 0, 1, 1, 0, 0, 0, 0, 1, 0, 0, 1, 0, 0, 0, 1, 0, 0, 0, 0, 0, 0, 0, 1, 0, 0, 0, 1, 0, 1, 0, 0, 0, 1, 1, 0, 0, 0, 0, 0, 1, 0, 0, 1, 0, 0, 1, 1, 0, 0, 0, 0, 1, 0, 0, 0, 0, 0, 0, 0, 0, 1, 0, 0, 0, 0, 0, 0, 1, 0, 0, 0, 0, 0, 0, 0, 0, 0, 0, 1, 0, 0, 0, 1, 0, 0, 0, 0, 0, 1, 0, 0, 0, 0, 0, 1, 0, 0, 0, 0, 0, 0, 0, 1, 1, 0, 0, 0, 0, 0, 0, 0, 0, 0, 0, 0, 0, 0, 0, 1, 0, 0, 0, 0, 0, 0, 0, 0, 1, 0, 0, 1, 0, 0, 0, 0, 1, 0, 0, 0, 0, 0, 0, 0, 0, 1, 0, 0, 1, 0, 0, 0, 0, 1, 0, 1, 0, 0, 1, 1, 1, 0, 0, 0, 0, 0, 0, 0, 0, 0, 0, 0, 1, 0, 0, 1, 0, 1, 0, 0, 0, 0, 0, 0, 0, 0, 0, 0, 0, 0, 0, 0, 0, 0, 0, 0, 1, 0, 0, 0, 1, 0, 0, 0, 0, 1, 0, 0, 0, 0, 0, 0, 0, 1, 0, 0, 0, 0, 0, 1, 0, 0, 0, 0, 0, 0, 0, 0, 0, 0, 0, 0, 0, 1, 0, 0, 0, 1, 0, 0, 0, 0, 0, 1, 0, 0, 0, 0, 0, 0, 0, 0, 1, 1, 0, 1, 0, 1, 0, 0, 0, 0, 0, 1, 0, 1, 0, 0, 0, 0, 0, 0, 1, 1, 0, 0, 1, 0, 0, 1, 0, 0, 0, 0, 1, 0, 0, 1, 0, 1, 0, 1, 0, 0, 0, 1, 0, 0, 0, 1, 0, 0, 1, 0, 0, 0, 0, 0, 0, 0, 0, 0, 0, 0, 0, 1, 1, 1, 1, 0, 0, 0, 0, 1, 1, 1, 1, 0, 0, 0, 0, 0, 0, 0, 1, 0, 0, 0, 0, 1, 0, 0, 0, 0, 0, 0, 0, 1, 0, 0, 0, 1, 0, 1, 0, 0, 1, 0, 0, 1, 0, 0, 0, 0, 0, 0, 1, 0, 1, 0, 0, 1, 0, 0, 0, 1, 0, 0, 0, 0, 0, 0, 0, 1, 0, 1, 0, 0, 0, 0, 0, 0, 0, 1, 0, 0, 0, 0, 0, 0, 0, 0, 1, 0, 0, 0, 0, 1, 0, 0, 0, 0, 1, 0, 0, 0, 0, 1, 0, 1, 0, 1, 1, 0, 1, 0, 1, 0, 1, 0, 0, 0, 0, 0, 1, 0, 0, 1, 1, 1, 0, 0, 0, 0, 1, 0, 0, 0, 1, 0, 1, 0, 0, 0, 0, 0, 1, 1, 1, 0, 1, 0, 0, 1, 0, 1, 0, 0, 1, 0, 1, 0, 0, 0, 0, 0, 0, 0, 0, 1, 0, 0, 0, 0, 0, 0, 0, 0, 0, 1, 0, 0, 0, 0, 1, 0, 1, 0, 0, 0, 0, 0, 0, 0, 1, 0, 0, 1, 0, 0, 1, 0, 0, 0, 0, 1, 0, 0, 1, 0, 1, 0, 0, 0, 0, 0, 0, 0, 0, 0, 1, 1, 0, 0, 0, 0, 0, 0, 1, 0, 1, 1, 0, 0, 1, 0, 1, 0, 1, 0, 0, 0, 1, 0, 0, 0, 1, 0, 0, 1, 0, 1, 0, 0, 0, 0, 0, 0, 0, 0, 0, 0, 0, 0, 0, 0, 0, 0, 0, 1, 0, 0, 0, 0, 0, 0, 1, 1, 0, 0, 1, 0, 0, 0, 0, 0, 0, 1, 1, 0, 0, 0, 0, 0, 0, 0, 1, 0, 0, 0, 0, 0, 0, 0, 0, 1, 0, 0, 0, 1, 0, 0, 0, 0, 0, 0, 1, 1, 0, 0, 1, 1, 0, 0, 0, 0, 0, 0, 0, 1, 0, 0, 0, 0, 1, 1, 1, 0, 0, 0, 0, 1, 0, 0, 0, 0, 1, 0, 0, 0, 1, 0, 0, 0, 1, 0, 1, 0, 0, 0, 0, 0, 0, 0, 0, 0, 0, 0, 0, 1, 1, 0, 1, 1, 1, 1, 0, 0, 0, 0, 0, 0, 0, 0, 0, 1, 1, 0, 0, 0, 0, 0, 0, 1, 0, 0, 0, 0, 0, 0, 0, 0, 0, 0, 1, 0, 1, 0, 1, 0, 1, 0, 0, 0, 1, 0, 0, 0, 0, 0, 0, 0, 0, 0, 0, 0, 0, 0, 0, 0, 1, 0, 1, 0, 0, 0, 0, 0, 1, 0, 0, 0, 0, 0, 1, 0, 0, 1, 1, 0, 0, 0, 0, 0, 1, 0, 0, 1, 0, 0, 0, 0, 1, 0, 0, 1, 0, 1, 1, 0, 0, 0, 0, 0, 0, 0, 0, 1, 0, 0, 1, 0, 0, 0, 0, 0, 0, 1, 0, 0, 1, 0, 0, 0, 0, 0, 0, 0, 0, 0, 0, 0, 0, 1, 0, 0, 0, 0, 0, 0, 1, 0, 0, 1, 1, 0, 0, 1, 1, 0, 0, 0, 0, 0, 0, 0, 0, 0, 0, 0, 0, 0, 0, 0, 1, 1, 1, 1, 0, 0, 1, 0, 0, 0, 0, 1, 0, 0, 0, 0, 1, 1, 1, 0, 0, 0, 0, 1], \"legendgroup\": \"\", \"name\": \"\", \"showlegend\": true, \"textinfo\": \"percent+label\", \"textposition\": \"inside\", \"type\": \"pie\"}],\n",
              "                        {\"legend\": {\"tracegroupgap\": 0}, \"template\": {\"data\": {\"bar\": [{\"error_x\": {\"color\": \"#2a3f5f\"}, \"error_y\": {\"color\": \"#2a3f5f\"}, \"marker\": {\"line\": {\"color\": \"#E5ECF6\", \"width\": 0.5}}, \"type\": \"bar\"}], \"barpolar\": [{\"marker\": {\"line\": {\"color\": \"#E5ECF6\", \"width\": 0.5}}, \"type\": \"barpolar\"}], \"carpet\": [{\"aaxis\": {\"endlinecolor\": \"#2a3f5f\", \"gridcolor\": \"white\", \"linecolor\": \"white\", \"minorgridcolor\": \"white\", \"startlinecolor\": \"#2a3f5f\"}, \"baxis\": {\"endlinecolor\": \"#2a3f5f\", \"gridcolor\": \"white\", \"linecolor\": \"white\", \"minorgridcolor\": \"white\", \"startlinecolor\": \"#2a3f5f\"}, \"type\": \"carpet\"}], \"choropleth\": [{\"colorbar\": {\"outlinewidth\": 0, \"ticks\": \"\"}, \"type\": \"choropleth\"}], \"contour\": [{\"colorbar\": {\"outlinewidth\": 0, \"ticks\": \"\"}, \"colorscale\": [[0.0, \"#0d0887\"], [0.1111111111111111, \"#46039f\"], [0.2222222222222222, \"#7201a8\"], [0.3333333333333333, \"#9c179e\"], [0.4444444444444444, \"#bd3786\"], [0.5555555555555556, \"#d8576b\"], [0.6666666666666666, \"#ed7953\"], [0.7777777777777778, \"#fb9f3a\"], [0.8888888888888888, \"#fdca26\"], [1.0, \"#f0f921\"]], \"type\": \"contour\"}], \"contourcarpet\": [{\"colorbar\": {\"outlinewidth\": 0, \"ticks\": \"\"}, \"type\": \"contourcarpet\"}], \"heatmap\": [{\"colorbar\": {\"outlinewidth\": 0, \"ticks\": \"\"}, \"colorscale\": [[0.0, \"#0d0887\"], [0.1111111111111111, \"#46039f\"], [0.2222222222222222, \"#7201a8\"], [0.3333333333333333, \"#9c179e\"], [0.4444444444444444, \"#bd3786\"], [0.5555555555555556, \"#d8576b\"], [0.6666666666666666, \"#ed7953\"], [0.7777777777777778, \"#fb9f3a\"], [0.8888888888888888, \"#fdca26\"], [1.0, \"#f0f921\"]], \"type\": \"heatmap\"}], \"heatmapgl\": [{\"colorbar\": {\"outlinewidth\": 0, \"ticks\": \"\"}, \"colorscale\": [[0.0, \"#0d0887\"], [0.1111111111111111, \"#46039f\"], [0.2222222222222222, \"#7201a8\"], [0.3333333333333333, \"#9c179e\"], [0.4444444444444444, \"#bd3786\"], [0.5555555555555556, \"#d8576b\"], [0.6666666666666666, \"#ed7953\"], [0.7777777777777778, \"#fb9f3a\"], [0.8888888888888888, \"#fdca26\"], [1.0, \"#f0f921\"]], \"type\": \"heatmapgl\"}], \"histogram\": [{\"marker\": {\"colorbar\": {\"outlinewidth\": 0, \"ticks\": \"\"}}, \"type\": \"histogram\"}], \"histogram2d\": [{\"colorbar\": {\"outlinewidth\": 0, \"ticks\": \"\"}, \"colorscale\": [[0.0, \"#0d0887\"], [0.1111111111111111, \"#46039f\"], [0.2222222222222222, \"#7201a8\"], [0.3333333333333333, \"#9c179e\"], [0.4444444444444444, \"#bd3786\"], [0.5555555555555556, \"#d8576b\"], [0.6666666666666666, \"#ed7953\"], [0.7777777777777778, \"#fb9f3a\"], [0.8888888888888888, \"#fdca26\"], [1.0, \"#f0f921\"]], \"type\": \"histogram2d\"}], \"histogram2dcontour\": [{\"colorbar\": {\"outlinewidth\": 0, \"ticks\": \"\"}, \"colorscale\": [[0.0, \"#0d0887\"], [0.1111111111111111, \"#46039f\"], [0.2222222222222222, \"#7201a8\"], [0.3333333333333333, \"#9c179e\"], [0.4444444444444444, \"#bd3786\"], [0.5555555555555556, \"#d8576b\"], [0.6666666666666666, \"#ed7953\"], [0.7777777777777778, \"#fb9f3a\"], [0.8888888888888888, \"#fdca26\"], [1.0, \"#f0f921\"]], \"type\": \"histogram2dcontour\"}], \"mesh3d\": [{\"colorbar\": {\"outlinewidth\": 0, \"ticks\": \"\"}, \"type\": \"mesh3d\"}], \"parcoords\": [{\"line\": {\"colorbar\": {\"outlinewidth\": 0, \"ticks\": \"\"}}, \"type\": \"parcoords\"}], \"pie\": [{\"automargin\": true, \"type\": \"pie\"}], \"scatter\": [{\"marker\": {\"colorbar\": {\"outlinewidth\": 0, \"ticks\": \"\"}}, \"type\": \"scatter\"}], \"scatter3d\": [{\"line\": {\"colorbar\": {\"outlinewidth\": 0, \"ticks\": \"\"}}, \"marker\": {\"colorbar\": {\"outlinewidth\": 0, \"ticks\": \"\"}}, \"type\": \"scatter3d\"}], \"scattercarpet\": [{\"marker\": {\"colorbar\": {\"outlinewidth\": 0, \"ticks\": \"\"}}, \"type\": \"scattercarpet\"}], \"scattergeo\": [{\"marker\": {\"colorbar\": {\"outlinewidth\": 0, \"ticks\": \"\"}}, \"type\": \"scattergeo\"}], \"scattergl\": [{\"marker\": {\"colorbar\": {\"outlinewidth\": 0, \"ticks\": \"\"}}, \"type\": \"scattergl\"}], \"scattermapbox\": [{\"marker\": {\"colorbar\": {\"outlinewidth\": 0, \"ticks\": \"\"}}, \"type\": \"scattermapbox\"}], \"scatterpolar\": [{\"marker\": {\"colorbar\": {\"outlinewidth\": 0, \"ticks\": \"\"}}, \"type\": \"scatterpolar\"}], \"scatterpolargl\": [{\"marker\": {\"colorbar\": {\"outlinewidth\": 0, \"ticks\": \"\"}}, \"type\": \"scatterpolargl\"}], \"scatterternary\": [{\"marker\": {\"colorbar\": {\"outlinewidth\": 0, \"ticks\": \"\"}}, \"type\": \"scatterternary\"}], \"surface\": [{\"colorbar\": {\"outlinewidth\": 0, \"ticks\": \"\"}, \"colorscale\": [[0.0, \"#0d0887\"], [0.1111111111111111, \"#46039f\"], [0.2222222222222222, \"#7201a8\"], [0.3333333333333333, \"#9c179e\"], [0.4444444444444444, \"#bd3786\"], [0.5555555555555556, \"#d8576b\"], [0.6666666666666666, \"#ed7953\"], [0.7777777777777778, \"#fb9f3a\"], [0.8888888888888888, \"#fdca26\"], [1.0, \"#f0f921\"]], \"type\": \"surface\"}], \"table\": [{\"cells\": {\"fill\": {\"color\": \"#EBF0F8\"}, \"line\": {\"color\": \"white\"}}, \"header\": {\"fill\": {\"color\": \"#C8D4E3\"}, \"line\": {\"color\": \"white\"}}, \"type\": \"table\"}]}, \"layout\": {\"annotationdefaults\": {\"arrowcolor\": \"#2a3f5f\", \"arrowhead\": 0, \"arrowwidth\": 1}, \"coloraxis\": {\"colorbar\": {\"outlinewidth\": 0, \"ticks\": \"\"}}, \"colorscale\": {\"diverging\": [[0, \"#8e0152\"], [0.1, \"#c51b7d\"], [0.2, \"#de77ae\"], [0.3, \"#f1b6da\"], [0.4, \"#fde0ef\"], [0.5, \"#f7f7f7\"], [0.6, \"#e6f5d0\"], [0.7, \"#b8e186\"], [0.8, \"#7fbc41\"], [0.9, \"#4d9221\"], [1, \"#276419\"]], \"sequential\": [[0.0, \"#0d0887\"], [0.1111111111111111, \"#46039f\"], [0.2222222222222222, \"#7201a8\"], [0.3333333333333333, \"#9c179e\"], [0.4444444444444444, \"#bd3786\"], [0.5555555555555556, \"#d8576b\"], [0.6666666666666666, \"#ed7953\"], [0.7777777777777778, \"#fb9f3a\"], [0.8888888888888888, \"#fdca26\"], [1.0, \"#f0f921\"]], \"sequentialminus\": [[0.0, \"#0d0887\"], [0.1111111111111111, \"#46039f\"], [0.2222222222222222, \"#7201a8\"], [0.3333333333333333, \"#9c179e\"], [0.4444444444444444, \"#bd3786\"], [0.5555555555555556, \"#d8576b\"], [0.6666666666666666, \"#ed7953\"], [0.7777777777777778, \"#fb9f3a\"], [0.8888888888888888, \"#fdca26\"], [1.0, \"#f0f921\"]]}, \"colorway\": [\"#636efa\", \"#EF553B\", \"#00cc96\", \"#ab63fa\", \"#FFA15A\", \"#19d3f3\", \"#FF6692\", \"#B6E880\", \"#FF97FF\", \"#FECB52\"], \"font\": {\"color\": \"#2a3f5f\"}, \"geo\": {\"bgcolor\": \"white\", \"lakecolor\": \"white\", \"landcolor\": \"#E5ECF6\", \"showlakes\": true, \"showland\": true, \"subunitcolor\": \"white\"}, \"hoverlabel\": {\"align\": \"left\"}, \"hovermode\": \"closest\", \"mapbox\": {\"style\": \"light\"}, \"paper_bgcolor\": \"white\", \"plot_bgcolor\": \"#E5ECF6\", \"polar\": {\"angularaxis\": {\"gridcolor\": \"white\", \"linecolor\": \"white\", \"ticks\": \"\"}, \"bgcolor\": \"#E5ECF6\", \"radialaxis\": {\"gridcolor\": \"white\", \"linecolor\": \"white\", \"ticks\": \"\"}}, \"scene\": {\"xaxis\": {\"backgroundcolor\": \"#E5ECF6\", \"gridcolor\": \"white\", \"gridwidth\": 2, \"linecolor\": \"white\", \"showbackground\": true, \"ticks\": \"\", \"zerolinecolor\": \"white\"}, \"yaxis\": {\"backgroundcolor\": \"#E5ECF6\", \"gridcolor\": \"white\", \"gridwidth\": 2, \"linecolor\": \"white\", \"showbackground\": true, \"ticks\": \"\", \"zerolinecolor\": \"white\"}, \"zaxis\": {\"backgroundcolor\": \"#E5ECF6\", \"gridcolor\": \"white\", \"gridwidth\": 2, \"linecolor\": \"white\", \"showbackground\": true, \"ticks\": \"\", \"zerolinecolor\": \"white\"}}, \"shapedefaults\": {\"line\": {\"color\": \"#2a3f5f\"}}, \"ternary\": {\"aaxis\": {\"gridcolor\": \"white\", \"linecolor\": \"white\", \"ticks\": \"\"}, \"baxis\": {\"gridcolor\": \"white\", \"linecolor\": \"white\", \"ticks\": \"\"}, \"bgcolor\": \"#E5ECF6\", \"caxis\": {\"gridcolor\": \"white\", \"linecolor\": \"white\", \"ticks\": \"\"}}, \"title\": {\"x\": 0.05}, \"xaxis\": {\"automargin\": true, \"gridcolor\": \"white\", \"linecolor\": \"white\", \"ticks\": \"\", \"title\": {\"standoff\": 15}, \"zerolinecolor\": \"white\", \"zerolinewidth\": 2}, \"yaxis\": {\"automargin\": true, \"gridcolor\": \"white\", \"linecolor\": \"white\", \"ticks\": \"\", \"title\": {\"standoff\": 15}, \"zerolinecolor\": \"white\", \"zerolinewidth\": 2}}}, \"title\": {\"text\": \"Ratio of customers who exited vs not exited\"}},\n",
              "                        {\"responsive\": true}\n",
              "                    ).then(function(){\n",
              "                            \n",
              "var gd = document.getElementById('c095f654-ca8c-4d57-be30-cd1db918044d');\n",
              "var x = new MutationObserver(function (mutations, observer) {{\n",
              "        var display = window.getComputedStyle(gd).display;\n",
              "        if (!display || display === 'none') {{\n",
              "            console.log([gd, 'removed!']);\n",
              "            Plotly.purge(gd);\n",
              "            observer.disconnect();\n",
              "        }}\n",
              "}});\n",
              "\n",
              "// Listen for the removal of the full notebook cells\n",
              "var notebookContainer = gd.closest('#notebook-container');\n",
              "if (notebookContainer) {{\n",
              "    x.observe(notebookContainer, {childList: true});\n",
              "}}\n",
              "\n",
              "// Listen for the clearing of the current output cell\n",
              "var outputEl = gd.closest('.output');\n",
              "if (outputEl) {{\n",
              "    x.observe(outputEl, {childList: true});\n",
              "}}\n",
              "\n",
              "                        })\n",
              "                };\n",
              "                \n",
              "            </script>\n",
              "        </div>\n",
              "</body>\n",
              "</html>"
            ]
          },
          "metadata": {
            "tags": []
          }
        }
      ]
    },
    {
      "cell_type": "code",
      "metadata": {
        "colab": {
          "base_uri": "https://localhost:8080/",
          "height": 439
        },
        "id": "PZ0VkQwZPQsV",
        "outputId": "c20f061a-ec6a-4a97-d682-ace48c928ed0"
      },
      "source": [
        "# This will look through column Gender and change all Males to 0 and all Females to 1\n",
        "given_dataset.loc[given_dataset['Gender'] == 'Male','Gender'] = 0\n",
        "given_dataset.loc[given_dataset['Gender'] == 'Female','Gender'] = 1\n",
        "given_dataset # Makes sure that all genders has been changed to numbers"
      ],
      "execution_count": 78,
      "outputs": [
        {
          "output_type": "execute_result",
          "data": {
            "text/html": [
              "<div>\n",
              "<style scoped>\n",
              "    .dataframe tbody tr th:only-of-type {\n",
              "        vertical-align: middle;\n",
              "    }\n",
              "\n",
              "    .dataframe tbody tr th {\n",
              "        vertical-align: top;\n",
              "    }\n",
              "\n",
              "    .dataframe thead th {\n",
              "        text-align: right;\n",
              "    }\n",
              "</style>\n",
              "<table border=\"1\" class=\"dataframe\">\n",
              "  <thead>\n",
              "    <tr style=\"text-align: right;\">\n",
              "      <th></th>\n",
              "      <th>CustomerId</th>\n",
              "      <th>Surname</th>\n",
              "      <th>CreditScore</th>\n",
              "      <th>Geography</th>\n",
              "      <th>Gender</th>\n",
              "      <th>Age</th>\n",
              "      <th>Tenure</th>\n",
              "      <th>Balance</th>\n",
              "      <th>NumOfProducts</th>\n",
              "      <th>HasCrCard</th>\n",
              "      <th>IsActiveMember</th>\n",
              "      <th>EstimatedSalary</th>\n",
              "      <th>Exited</th>\n",
              "    </tr>\n",
              "  </thead>\n",
              "  <tbody>\n",
              "    <tr>\n",
              "      <th>0</th>\n",
              "      <td>15647572</td>\n",
              "      <td>Greece</td>\n",
              "      <td>504</td>\n",
              "      <td>Spain</td>\n",
              "      <td>0</td>\n",
              "      <td>34</td>\n",
              "      <td>0</td>\n",
              "      <td>54980.81</td>\n",
              "      <td>1</td>\n",
              "      <td>1</td>\n",
              "      <td>1</td>\n",
              "      <td>136909.88</td>\n",
              "      <td>0</td>\n",
              "    </tr>\n",
              "    <tr>\n",
              "      <th>1</th>\n",
              "      <td>15797692</td>\n",
              "      <td>Volkova</td>\n",
              "      <td>659</td>\n",
              "      <td>France</td>\n",
              "      <td>1</td>\n",
              "      <td>33</td>\n",
              "      <td>7</td>\n",
              "      <td>89939.62</td>\n",
              "      <td>1</td>\n",
              "      <td>1</td>\n",
              "      <td>0</td>\n",
              "      <td>136540.09</td>\n",
              "      <td>0</td>\n",
              "    </tr>\n",
              "    <tr>\n",
              "      <th>2</th>\n",
              "      <td>15713559</td>\n",
              "      <td>Onyemauchechukwu</td>\n",
              "      <td>473</td>\n",
              "      <td>Germany</td>\n",
              "      <td>1</td>\n",
              "      <td>32</td>\n",
              "      <td>5</td>\n",
              "      <td>146602.25</td>\n",
              "      <td>2</td>\n",
              "      <td>1</td>\n",
              "      <td>1</td>\n",
              "      <td>72946.95</td>\n",
              "      <td>0</td>\n",
              "    </tr>\n",
              "    <tr>\n",
              "      <th>3</th>\n",
              "      <td>15595067</td>\n",
              "      <td>Zhirov</td>\n",
              "      <td>637</td>\n",
              "      <td>Spain</td>\n",
              "      <td>1</td>\n",
              "      <td>40</td>\n",
              "      <td>6</td>\n",
              "      <td>0.00</td>\n",
              "      <td>2</td>\n",
              "      <td>1</td>\n",
              "      <td>1</td>\n",
              "      <td>181610.60</td>\n",
              "      <td>0</td>\n",
              "    </tr>\n",
              "    <tr>\n",
              "      <th>4</th>\n",
              "      <td>15810167</td>\n",
              "      <td>Scott</td>\n",
              "      <td>657</td>\n",
              "      <td>Spain</td>\n",
              "      <td>0</td>\n",
              "      <td>75</td>\n",
              "      <td>7</td>\n",
              "      <td>126273.95</td>\n",
              "      <td>1</td>\n",
              "      <td>0</td>\n",
              "      <td>1</td>\n",
              "      <td>91673.60</td>\n",
              "      <td>0</td>\n",
              "    </tr>\n",
              "    <tr>\n",
              "      <th>...</th>\n",
              "      <td>...</td>\n",
              "      <td>...</td>\n",
              "      <td>...</td>\n",
              "      <td>...</td>\n",
              "      <td>...</td>\n",
              "      <td>...</td>\n",
              "      <td>...</td>\n",
              "      <td>...</td>\n",
              "      <td>...</td>\n",
              "      <td>...</td>\n",
              "      <td>...</td>\n",
              "      <td>...</td>\n",
              "      <td>...</td>\n",
              "    </tr>\n",
              "    <tr>\n",
              "      <th>8995</th>\n",
              "      <td>15770214</td>\n",
              "      <td>Bryant</td>\n",
              "      <td>754</td>\n",
              "      <td>France</td>\n",
              "      <td>1</td>\n",
              "      <td>27</td>\n",
              "      <td>7</td>\n",
              "      <td>0.00</td>\n",
              "      <td>2</td>\n",
              "      <td>1</td>\n",
              "      <td>0</td>\n",
              "      <td>144134.64</td>\n",
              "      <td>0</td>\n",
              "    </tr>\n",
              "    <tr>\n",
              "      <th>8996</th>\n",
              "      <td>15720134</td>\n",
              "      <td>Reynolds</td>\n",
              "      <td>709</td>\n",
              "      <td>Germany</td>\n",
              "      <td>0</td>\n",
              "      <td>30</td>\n",
              "      <td>9</td>\n",
              "      <td>115479.48</td>\n",
              "      <td>2</td>\n",
              "      <td>1</td>\n",
              "      <td>1</td>\n",
              "      <td>134732.99</td>\n",
              "      <td>0</td>\n",
              "    </tr>\n",
              "    <tr>\n",
              "      <th>8997</th>\n",
              "      <td>15700549</td>\n",
              "      <td>Alvares</td>\n",
              "      <td>721</td>\n",
              "      <td>France</td>\n",
              "      <td>0</td>\n",
              "      <td>54</td>\n",
              "      <td>5</td>\n",
              "      <td>0.00</td>\n",
              "      <td>2</td>\n",
              "      <td>1</td>\n",
              "      <td>1</td>\n",
              "      <td>4493.12</td>\n",
              "      <td>0</td>\n",
              "    </tr>\n",
              "    <tr>\n",
              "      <th>8998</th>\n",
              "      <td>15704081</td>\n",
              "      <td>Findlay</td>\n",
              "      <td>595</td>\n",
              "      <td>Germany</td>\n",
              "      <td>0</td>\n",
              "      <td>30</td>\n",
              "      <td>9</td>\n",
              "      <td>130682.11</td>\n",
              "      <td>2</td>\n",
              "      <td>1</td>\n",
              "      <td>1</td>\n",
              "      <td>57862.88</td>\n",
              "      <td>0</td>\n",
              "    </tr>\n",
              "    <tr>\n",
              "      <th>8999</th>\n",
              "      <td>15767729</td>\n",
              "      <td>Smith</td>\n",
              "      <td>646</td>\n",
              "      <td>Spain</td>\n",
              "      <td>0</td>\n",
              "      <td>25</td>\n",
              "      <td>5</td>\n",
              "      <td>182876.88</td>\n",
              "      <td>2</td>\n",
              "      <td>1</td>\n",
              "      <td>1</td>\n",
              "      <td>42537.59</td>\n",
              "      <td>1</td>\n",
              "    </tr>\n",
              "  </tbody>\n",
              "</table>\n",
              "<p>9000 rows × 13 columns</p>\n",
              "</div>"
            ],
            "text/plain": [
              "      CustomerId           Surname  ...  EstimatedSalary Exited\n",
              "0       15647572            Greece  ...        136909.88      0\n",
              "1       15797692           Volkova  ...        136540.09      0\n",
              "2       15713559  Onyemauchechukwu  ...         72946.95      0\n",
              "3       15595067            Zhirov  ...        181610.60      0\n",
              "4       15810167             Scott  ...         91673.60      0\n",
              "...          ...               ...  ...              ...    ...\n",
              "8995    15770214            Bryant  ...        144134.64      0\n",
              "8996    15720134          Reynolds  ...        134732.99      0\n",
              "8997    15700549           Alvares  ...          4493.12      0\n",
              "8998    15704081           Findlay  ...         57862.88      0\n",
              "8999    15767729             Smith  ...         42537.59      1\n",
              "\n",
              "[9000 rows x 13 columns]"
            ]
          },
          "metadata": {
            "tags": []
          },
          "execution_count": 78
        }
      ]
    },
    {
      "cell_type": "code",
      "metadata": {
        "colab": {
          "base_uri": "https://localhost:8080/",
          "height": 439
        },
        "id": "67mDMJZEPVAI",
        "outputId": "b15e47aa-8eb6-404e-b3d1-5dffba4975ce"
      },
      "source": [
        "# This will look through column Geography and change all France to 0, all Spain to 1, and all Germany to 2\n",
        "given_dataset.loc[given_dataset['Geography'] == 'France','Geography'] = 0\n",
        "given_dataset.loc[given_dataset['Geography'] == 'Spain','Geography'] = 1\n",
        "given_dataset.loc[given_dataset['Geography'] == 'Germany','Geography'] = 2\n",
        "given_dataset # Checks to make sure that all geography has been changed to numbers"
      ],
      "execution_count": 79,
      "outputs": [
        {
          "output_type": "execute_result",
          "data": {
            "text/html": [
              "<div>\n",
              "<style scoped>\n",
              "    .dataframe tbody tr th:only-of-type {\n",
              "        vertical-align: middle;\n",
              "    }\n",
              "\n",
              "    .dataframe tbody tr th {\n",
              "        vertical-align: top;\n",
              "    }\n",
              "\n",
              "    .dataframe thead th {\n",
              "        text-align: right;\n",
              "    }\n",
              "</style>\n",
              "<table border=\"1\" class=\"dataframe\">\n",
              "  <thead>\n",
              "    <tr style=\"text-align: right;\">\n",
              "      <th></th>\n",
              "      <th>CustomerId</th>\n",
              "      <th>Surname</th>\n",
              "      <th>CreditScore</th>\n",
              "      <th>Geography</th>\n",
              "      <th>Gender</th>\n",
              "      <th>Age</th>\n",
              "      <th>Tenure</th>\n",
              "      <th>Balance</th>\n",
              "      <th>NumOfProducts</th>\n",
              "      <th>HasCrCard</th>\n",
              "      <th>IsActiveMember</th>\n",
              "      <th>EstimatedSalary</th>\n",
              "      <th>Exited</th>\n",
              "    </tr>\n",
              "  </thead>\n",
              "  <tbody>\n",
              "    <tr>\n",
              "      <th>0</th>\n",
              "      <td>15647572</td>\n",
              "      <td>Greece</td>\n",
              "      <td>504</td>\n",
              "      <td>1</td>\n",
              "      <td>0</td>\n",
              "      <td>34</td>\n",
              "      <td>0</td>\n",
              "      <td>54980.81</td>\n",
              "      <td>1</td>\n",
              "      <td>1</td>\n",
              "      <td>1</td>\n",
              "      <td>136909.88</td>\n",
              "      <td>0</td>\n",
              "    </tr>\n",
              "    <tr>\n",
              "      <th>1</th>\n",
              "      <td>15797692</td>\n",
              "      <td>Volkova</td>\n",
              "      <td>659</td>\n",
              "      <td>0</td>\n",
              "      <td>1</td>\n",
              "      <td>33</td>\n",
              "      <td>7</td>\n",
              "      <td>89939.62</td>\n",
              "      <td>1</td>\n",
              "      <td>1</td>\n",
              "      <td>0</td>\n",
              "      <td>136540.09</td>\n",
              "      <td>0</td>\n",
              "    </tr>\n",
              "    <tr>\n",
              "      <th>2</th>\n",
              "      <td>15713559</td>\n",
              "      <td>Onyemauchechukwu</td>\n",
              "      <td>473</td>\n",
              "      <td>2</td>\n",
              "      <td>1</td>\n",
              "      <td>32</td>\n",
              "      <td>5</td>\n",
              "      <td>146602.25</td>\n",
              "      <td>2</td>\n",
              "      <td>1</td>\n",
              "      <td>1</td>\n",
              "      <td>72946.95</td>\n",
              "      <td>0</td>\n",
              "    </tr>\n",
              "    <tr>\n",
              "      <th>3</th>\n",
              "      <td>15595067</td>\n",
              "      <td>Zhirov</td>\n",
              "      <td>637</td>\n",
              "      <td>1</td>\n",
              "      <td>1</td>\n",
              "      <td>40</td>\n",
              "      <td>6</td>\n",
              "      <td>0.00</td>\n",
              "      <td>2</td>\n",
              "      <td>1</td>\n",
              "      <td>1</td>\n",
              "      <td>181610.60</td>\n",
              "      <td>0</td>\n",
              "    </tr>\n",
              "    <tr>\n",
              "      <th>4</th>\n",
              "      <td>15810167</td>\n",
              "      <td>Scott</td>\n",
              "      <td>657</td>\n",
              "      <td>1</td>\n",
              "      <td>0</td>\n",
              "      <td>75</td>\n",
              "      <td>7</td>\n",
              "      <td>126273.95</td>\n",
              "      <td>1</td>\n",
              "      <td>0</td>\n",
              "      <td>1</td>\n",
              "      <td>91673.60</td>\n",
              "      <td>0</td>\n",
              "    </tr>\n",
              "    <tr>\n",
              "      <th>...</th>\n",
              "      <td>...</td>\n",
              "      <td>...</td>\n",
              "      <td>...</td>\n",
              "      <td>...</td>\n",
              "      <td>...</td>\n",
              "      <td>...</td>\n",
              "      <td>...</td>\n",
              "      <td>...</td>\n",
              "      <td>...</td>\n",
              "      <td>...</td>\n",
              "      <td>...</td>\n",
              "      <td>...</td>\n",
              "      <td>...</td>\n",
              "    </tr>\n",
              "    <tr>\n",
              "      <th>8995</th>\n",
              "      <td>15770214</td>\n",
              "      <td>Bryant</td>\n",
              "      <td>754</td>\n",
              "      <td>0</td>\n",
              "      <td>1</td>\n",
              "      <td>27</td>\n",
              "      <td>7</td>\n",
              "      <td>0.00</td>\n",
              "      <td>2</td>\n",
              "      <td>1</td>\n",
              "      <td>0</td>\n",
              "      <td>144134.64</td>\n",
              "      <td>0</td>\n",
              "    </tr>\n",
              "    <tr>\n",
              "      <th>8996</th>\n",
              "      <td>15720134</td>\n",
              "      <td>Reynolds</td>\n",
              "      <td>709</td>\n",
              "      <td>2</td>\n",
              "      <td>0</td>\n",
              "      <td>30</td>\n",
              "      <td>9</td>\n",
              "      <td>115479.48</td>\n",
              "      <td>2</td>\n",
              "      <td>1</td>\n",
              "      <td>1</td>\n",
              "      <td>134732.99</td>\n",
              "      <td>0</td>\n",
              "    </tr>\n",
              "    <tr>\n",
              "      <th>8997</th>\n",
              "      <td>15700549</td>\n",
              "      <td>Alvares</td>\n",
              "      <td>721</td>\n",
              "      <td>0</td>\n",
              "      <td>0</td>\n",
              "      <td>54</td>\n",
              "      <td>5</td>\n",
              "      <td>0.00</td>\n",
              "      <td>2</td>\n",
              "      <td>1</td>\n",
              "      <td>1</td>\n",
              "      <td>4493.12</td>\n",
              "      <td>0</td>\n",
              "    </tr>\n",
              "    <tr>\n",
              "      <th>8998</th>\n",
              "      <td>15704081</td>\n",
              "      <td>Findlay</td>\n",
              "      <td>595</td>\n",
              "      <td>2</td>\n",
              "      <td>0</td>\n",
              "      <td>30</td>\n",
              "      <td>9</td>\n",
              "      <td>130682.11</td>\n",
              "      <td>2</td>\n",
              "      <td>1</td>\n",
              "      <td>1</td>\n",
              "      <td>57862.88</td>\n",
              "      <td>0</td>\n",
              "    </tr>\n",
              "    <tr>\n",
              "      <th>8999</th>\n",
              "      <td>15767729</td>\n",
              "      <td>Smith</td>\n",
              "      <td>646</td>\n",
              "      <td>1</td>\n",
              "      <td>0</td>\n",
              "      <td>25</td>\n",
              "      <td>5</td>\n",
              "      <td>182876.88</td>\n",
              "      <td>2</td>\n",
              "      <td>1</td>\n",
              "      <td>1</td>\n",
              "      <td>42537.59</td>\n",
              "      <td>1</td>\n",
              "    </tr>\n",
              "  </tbody>\n",
              "</table>\n",
              "<p>9000 rows × 13 columns</p>\n",
              "</div>"
            ],
            "text/plain": [
              "      CustomerId           Surname  ...  EstimatedSalary Exited\n",
              "0       15647572            Greece  ...        136909.88      0\n",
              "1       15797692           Volkova  ...        136540.09      0\n",
              "2       15713559  Onyemauchechukwu  ...         72946.95      0\n",
              "3       15595067            Zhirov  ...        181610.60      0\n",
              "4       15810167             Scott  ...         91673.60      0\n",
              "...          ...               ...  ...              ...    ...\n",
              "8995    15770214            Bryant  ...        144134.64      0\n",
              "8996    15720134          Reynolds  ...        134732.99      0\n",
              "8997    15700549           Alvares  ...          4493.12      0\n",
              "8998    15704081           Findlay  ...         57862.88      0\n",
              "8999    15767729             Smith  ...         42537.59      1\n",
              "\n",
              "[9000 rows x 13 columns]"
            ]
          },
          "metadata": {
            "tags": []
          },
          "execution_count": 79
        }
      ]
    },
    {
      "cell_type": "code",
      "metadata": {
        "colab": {
          "base_uri": "https://localhost:8080/",
          "height": 419
        },
        "id": "mUyThlj1PbWV",
        "outputId": "9e9937fb-4f61-49b3-b981-2334dae68244"
      },
      "source": [
        "######## Maybe try to change the name of male, female into binary and location into number corresponding with 1, 2, 3, etc... ########\n",
        "# Below we will split the dataset.csv into two sets. One set is training set, the other is the testing set.\n",
        "\n",
        "# This will remove the entire column name \"Exited, Surname, and CustomerId\" with all of its values for every row.\n",
        "# We removed this so our scalar.fit_transform() function below will only work with floats and not strings\n",
        "Given_X = given_dataset.drop(['Exited','Surname','CustomerId'], axis = 1) \n",
        "#X = dataset.drop('Surname', axis = 1) # This will remove the entire column name \"Surname\" with all of its values for every row.\n",
        "#X = dataset.drop('Geography', axis = 1) # This will remove the entire column name \"Surname\" with all of its values for every row.\n",
        "#X = dataset.drop('Gender', axis = 1) # This will remove the entire column name \"Surname\" with all of its values for every row.\n",
        "Guess_Y = given_dataset['Exited']\n",
        "Given_X # This will print the dataset without the values of the Exited \n",
        "# Also makes sure that all dat values have been changed into numbers"
      ],
      "execution_count": 80,
      "outputs": [
        {
          "output_type": "execute_result",
          "data": {
            "text/html": [
              "<div>\n",
              "<style scoped>\n",
              "    .dataframe tbody tr th:only-of-type {\n",
              "        vertical-align: middle;\n",
              "    }\n",
              "\n",
              "    .dataframe tbody tr th {\n",
              "        vertical-align: top;\n",
              "    }\n",
              "\n",
              "    .dataframe thead th {\n",
              "        text-align: right;\n",
              "    }\n",
              "</style>\n",
              "<table border=\"1\" class=\"dataframe\">\n",
              "  <thead>\n",
              "    <tr style=\"text-align: right;\">\n",
              "      <th></th>\n",
              "      <th>CreditScore</th>\n",
              "      <th>Geography</th>\n",
              "      <th>Gender</th>\n",
              "      <th>Age</th>\n",
              "      <th>Tenure</th>\n",
              "      <th>Balance</th>\n",
              "      <th>NumOfProducts</th>\n",
              "      <th>HasCrCard</th>\n",
              "      <th>IsActiveMember</th>\n",
              "      <th>EstimatedSalary</th>\n",
              "    </tr>\n",
              "  </thead>\n",
              "  <tbody>\n",
              "    <tr>\n",
              "      <th>0</th>\n",
              "      <td>504</td>\n",
              "      <td>1</td>\n",
              "      <td>0</td>\n",
              "      <td>34</td>\n",
              "      <td>0</td>\n",
              "      <td>54980.81</td>\n",
              "      <td>1</td>\n",
              "      <td>1</td>\n",
              "      <td>1</td>\n",
              "      <td>136909.88</td>\n",
              "    </tr>\n",
              "    <tr>\n",
              "      <th>1</th>\n",
              "      <td>659</td>\n",
              "      <td>0</td>\n",
              "      <td>1</td>\n",
              "      <td>33</td>\n",
              "      <td>7</td>\n",
              "      <td>89939.62</td>\n",
              "      <td>1</td>\n",
              "      <td>1</td>\n",
              "      <td>0</td>\n",
              "      <td>136540.09</td>\n",
              "    </tr>\n",
              "    <tr>\n",
              "      <th>2</th>\n",
              "      <td>473</td>\n",
              "      <td>2</td>\n",
              "      <td>1</td>\n",
              "      <td>32</td>\n",
              "      <td>5</td>\n",
              "      <td>146602.25</td>\n",
              "      <td>2</td>\n",
              "      <td>1</td>\n",
              "      <td>1</td>\n",
              "      <td>72946.95</td>\n",
              "    </tr>\n",
              "    <tr>\n",
              "      <th>3</th>\n",
              "      <td>637</td>\n",
              "      <td>1</td>\n",
              "      <td>1</td>\n",
              "      <td>40</td>\n",
              "      <td>6</td>\n",
              "      <td>0.00</td>\n",
              "      <td>2</td>\n",
              "      <td>1</td>\n",
              "      <td>1</td>\n",
              "      <td>181610.60</td>\n",
              "    </tr>\n",
              "    <tr>\n",
              "      <th>4</th>\n",
              "      <td>657</td>\n",
              "      <td>1</td>\n",
              "      <td>0</td>\n",
              "      <td>75</td>\n",
              "      <td>7</td>\n",
              "      <td>126273.95</td>\n",
              "      <td>1</td>\n",
              "      <td>0</td>\n",
              "      <td>1</td>\n",
              "      <td>91673.60</td>\n",
              "    </tr>\n",
              "    <tr>\n",
              "      <th>...</th>\n",
              "      <td>...</td>\n",
              "      <td>...</td>\n",
              "      <td>...</td>\n",
              "      <td>...</td>\n",
              "      <td>...</td>\n",
              "      <td>...</td>\n",
              "      <td>...</td>\n",
              "      <td>...</td>\n",
              "      <td>...</td>\n",
              "      <td>...</td>\n",
              "    </tr>\n",
              "    <tr>\n",
              "      <th>8995</th>\n",
              "      <td>754</td>\n",
              "      <td>0</td>\n",
              "      <td>1</td>\n",
              "      <td>27</td>\n",
              "      <td>7</td>\n",
              "      <td>0.00</td>\n",
              "      <td>2</td>\n",
              "      <td>1</td>\n",
              "      <td>0</td>\n",
              "      <td>144134.64</td>\n",
              "    </tr>\n",
              "    <tr>\n",
              "      <th>8996</th>\n",
              "      <td>709</td>\n",
              "      <td>2</td>\n",
              "      <td>0</td>\n",
              "      <td>30</td>\n",
              "      <td>9</td>\n",
              "      <td>115479.48</td>\n",
              "      <td>2</td>\n",
              "      <td>1</td>\n",
              "      <td>1</td>\n",
              "      <td>134732.99</td>\n",
              "    </tr>\n",
              "    <tr>\n",
              "      <th>8997</th>\n",
              "      <td>721</td>\n",
              "      <td>0</td>\n",
              "      <td>0</td>\n",
              "      <td>54</td>\n",
              "      <td>5</td>\n",
              "      <td>0.00</td>\n",
              "      <td>2</td>\n",
              "      <td>1</td>\n",
              "      <td>1</td>\n",
              "      <td>4493.12</td>\n",
              "    </tr>\n",
              "    <tr>\n",
              "      <th>8998</th>\n",
              "      <td>595</td>\n",
              "      <td>2</td>\n",
              "      <td>0</td>\n",
              "      <td>30</td>\n",
              "      <td>9</td>\n",
              "      <td>130682.11</td>\n",
              "      <td>2</td>\n",
              "      <td>1</td>\n",
              "      <td>1</td>\n",
              "      <td>57862.88</td>\n",
              "    </tr>\n",
              "    <tr>\n",
              "      <th>8999</th>\n",
              "      <td>646</td>\n",
              "      <td>1</td>\n",
              "      <td>0</td>\n",
              "      <td>25</td>\n",
              "      <td>5</td>\n",
              "      <td>182876.88</td>\n",
              "      <td>2</td>\n",
              "      <td>1</td>\n",
              "      <td>1</td>\n",
              "      <td>42537.59</td>\n",
              "    </tr>\n",
              "  </tbody>\n",
              "</table>\n",
              "<p>9000 rows × 10 columns</p>\n",
              "</div>"
            ],
            "text/plain": [
              "      CreditScore Geography Gender  ...  HasCrCard  IsActiveMember  EstimatedSalary\n",
              "0             504         1      0  ...          1               1        136909.88\n",
              "1             659         0      1  ...          1               0        136540.09\n",
              "2             473         2      1  ...          1               1         72946.95\n",
              "3             637         1      1  ...          1               1        181610.60\n",
              "4             657         1      0  ...          0               1         91673.60\n",
              "...           ...       ...    ...  ...        ...             ...              ...\n",
              "8995          754         0      1  ...          1               0        144134.64\n",
              "8996          709         2      0  ...          1               1        134732.99\n",
              "8997          721         0      0  ...          1               1          4493.12\n",
              "8998          595         2      0  ...          1               1         57862.88\n",
              "8999          646         1      0  ...          1               1         42537.59\n",
              "\n",
              "[9000 rows x 10 columns]"
            ]
          },
          "metadata": {
            "tags": []
          },
          "execution_count": 80
        }
      ]
    },
    {
      "cell_type": "code",
      "metadata": {
        "colab": {
          "base_uri": "https://localhost:8080/"
        },
        "id": "adgkwjgOPcFH",
        "outputId": "f812ed36-27b0-4d46-baa3-bd661df5e6d6"
      },
      "source": [
        "Guess_Y # This will print all the values for Exited"
      ],
      "execution_count": 81,
      "outputs": [
        {
          "output_type": "execute_result",
          "data": {
            "text/plain": [
              "0       0\n",
              "1       0\n",
              "2       0\n",
              "3       0\n",
              "4       0\n",
              "       ..\n",
              "8995    0\n",
              "8996    0\n",
              "8997    0\n",
              "8998    0\n",
              "8999    1\n",
              "Name: Exited, Length: 9000, dtype: int64"
            ]
          },
          "metadata": {
            "tags": []
          },
          "execution_count": 81
        }
      ]
    },
    {
      "cell_type": "code",
      "metadata": {
        "colab": {
          "base_uri": "https://localhost:8080/",
          "height": 419
        },
        "id": "necxIDd6Pei9",
        "outputId": "ad972f77-5f0d-4662-d8b1-d69730c3e4d7"
      },
      "source": [
        "# We will split the dataset.csv into training and testing sets. Training will have 80% of the file randomized.\n",
        "# Testing will have 20% of the file that was not used.\n",
        "x_train, x_test, y_train, y_test = train_test_split(Given_X, Guess_Y, test_size = 0.20, random_state = 37)\n",
        "x_train # This will display the 80% of the randomized rows that will be used to train the ANN"
      ],
      "execution_count": 82,
      "outputs": [
        {
          "output_type": "execute_result",
          "data": {
            "text/html": [
              "<div>\n",
              "<style scoped>\n",
              "    .dataframe tbody tr th:only-of-type {\n",
              "        vertical-align: middle;\n",
              "    }\n",
              "\n",
              "    .dataframe tbody tr th {\n",
              "        vertical-align: top;\n",
              "    }\n",
              "\n",
              "    .dataframe thead th {\n",
              "        text-align: right;\n",
              "    }\n",
              "</style>\n",
              "<table border=\"1\" class=\"dataframe\">\n",
              "  <thead>\n",
              "    <tr style=\"text-align: right;\">\n",
              "      <th></th>\n",
              "      <th>CreditScore</th>\n",
              "      <th>Geography</th>\n",
              "      <th>Gender</th>\n",
              "      <th>Age</th>\n",
              "      <th>Tenure</th>\n",
              "      <th>Balance</th>\n",
              "      <th>NumOfProducts</th>\n",
              "      <th>HasCrCard</th>\n",
              "      <th>IsActiveMember</th>\n",
              "      <th>EstimatedSalary</th>\n",
              "    </tr>\n",
              "  </thead>\n",
              "  <tbody>\n",
              "    <tr>\n",
              "      <th>7106</th>\n",
              "      <td>679</td>\n",
              "      <td>0</td>\n",
              "      <td>0</td>\n",
              "      <td>48</td>\n",
              "      <td>8</td>\n",
              "      <td>0.00</td>\n",
              "      <td>2</td>\n",
              "      <td>1</td>\n",
              "      <td>0</td>\n",
              "      <td>23344.94</td>\n",
              "    </tr>\n",
              "    <tr>\n",
              "      <th>3380</th>\n",
              "      <td>661</td>\n",
              "      <td>0</td>\n",
              "      <td>0</td>\n",
              "      <td>41</td>\n",
              "      <td>5</td>\n",
              "      <td>0.00</td>\n",
              "      <td>1</td>\n",
              "      <td>0</td>\n",
              "      <td>1</td>\n",
              "      <td>88279.60</td>\n",
              "    </tr>\n",
              "    <tr>\n",
              "      <th>1446</th>\n",
              "      <td>675</td>\n",
              "      <td>1</td>\n",
              "      <td>0</td>\n",
              "      <td>36</td>\n",
              "      <td>9</td>\n",
              "      <td>106190.55</td>\n",
              "      <td>1</td>\n",
              "      <td>0</td>\n",
              "      <td>1</td>\n",
              "      <td>22994.32</td>\n",
              "    </tr>\n",
              "    <tr>\n",
              "      <th>2304</th>\n",
              "      <td>623</td>\n",
              "      <td>1</td>\n",
              "      <td>1</td>\n",
              "      <td>43</td>\n",
              "      <td>4</td>\n",
              "      <td>123536.52</td>\n",
              "      <td>2</td>\n",
              "      <td>0</td>\n",
              "      <td>0</td>\n",
              "      <td>154908.52</td>\n",
              "    </tr>\n",
              "    <tr>\n",
              "      <th>3532</th>\n",
              "      <td>635</td>\n",
              "      <td>0</td>\n",
              "      <td>0</td>\n",
              "      <td>42</td>\n",
              "      <td>1</td>\n",
              "      <td>146766.72</td>\n",
              "      <td>2</td>\n",
              "      <td>0</td>\n",
              "      <td>1</td>\n",
              "      <td>164357.10</td>\n",
              "    </tr>\n",
              "    <tr>\n",
              "      <th>...</th>\n",
              "      <td>...</td>\n",
              "      <td>...</td>\n",
              "      <td>...</td>\n",
              "      <td>...</td>\n",
              "      <td>...</td>\n",
              "      <td>...</td>\n",
              "      <td>...</td>\n",
              "      <td>...</td>\n",
              "      <td>...</td>\n",
              "      <td>...</td>\n",
              "    </tr>\n",
              "    <tr>\n",
              "      <th>5795</th>\n",
              "      <td>625</td>\n",
              "      <td>1</td>\n",
              "      <td>1</td>\n",
              "      <td>31</td>\n",
              "      <td>8</td>\n",
              "      <td>0.00</td>\n",
              "      <td>2</td>\n",
              "      <td>1</td>\n",
              "      <td>0</td>\n",
              "      <td>151843.54</td>\n",
              "    </tr>\n",
              "    <tr>\n",
              "      <th>4118</th>\n",
              "      <td>658</td>\n",
              "      <td>0</td>\n",
              "      <td>0</td>\n",
              "      <td>36</td>\n",
              "      <td>8</td>\n",
              "      <td>174060.46</td>\n",
              "      <td>1</td>\n",
              "      <td>1</td>\n",
              "      <td>1</td>\n",
              "      <td>94925.62</td>\n",
              "    </tr>\n",
              "    <tr>\n",
              "      <th>988</th>\n",
              "      <td>545</td>\n",
              "      <td>0</td>\n",
              "      <td>0</td>\n",
              "      <td>23</td>\n",
              "      <td>2</td>\n",
              "      <td>0.00</td>\n",
              "      <td>2</td>\n",
              "      <td>1</td>\n",
              "      <td>0</td>\n",
              "      <td>189613.12</td>\n",
              "    </tr>\n",
              "    <tr>\n",
              "      <th>4459</th>\n",
              "      <td>699</td>\n",
              "      <td>0</td>\n",
              "      <td>0</td>\n",
              "      <td>64</td>\n",
              "      <td>9</td>\n",
              "      <td>113109.52</td>\n",
              "      <td>1</td>\n",
              "      <td>1</td>\n",
              "      <td>0</td>\n",
              "      <td>27980.80</td>\n",
              "    </tr>\n",
              "    <tr>\n",
              "      <th>1935</th>\n",
              "      <td>737</td>\n",
              "      <td>2</td>\n",
              "      <td>0</td>\n",
              "      <td>31</td>\n",
              "      <td>5</td>\n",
              "      <td>121192.22</td>\n",
              "      <td>2</td>\n",
              "      <td>1</td>\n",
              "      <td>1</td>\n",
              "      <td>74890.58</td>\n",
              "    </tr>\n",
              "  </tbody>\n",
              "</table>\n",
              "<p>7200 rows × 10 columns</p>\n",
              "</div>"
            ],
            "text/plain": [
              "      CreditScore Geography Gender  ...  HasCrCard  IsActiveMember  EstimatedSalary\n",
              "7106          679         0      0  ...          1               0         23344.94\n",
              "3380          661         0      0  ...          0               1         88279.60\n",
              "1446          675         1      0  ...          0               1         22994.32\n",
              "2304          623         1      1  ...          0               0        154908.52\n",
              "3532          635         0      0  ...          0               1        164357.10\n",
              "...           ...       ...    ...  ...        ...             ...              ...\n",
              "5795          625         1      1  ...          1               0        151843.54\n",
              "4118          658         0      0  ...          1               1         94925.62\n",
              "988           545         0      0  ...          1               0        189613.12\n",
              "4459          699         0      0  ...          1               0         27980.80\n",
              "1935          737         2      0  ...          1               1         74890.58\n",
              "\n",
              "[7200 rows x 10 columns]"
            ]
          },
          "metadata": {
            "tags": []
          },
          "execution_count": 82
        }
      ]
    },
    {
      "cell_type": "code",
      "metadata": {
        "colab": {
          "base_uri": "https://localhost:8080/",
          "height": 419
        },
        "id": "2FYj6oh_Pi3i",
        "outputId": "2c3c677c-b5e8-491a-8cef-09372f8af4ac"
      },
      "source": [
        "x_test # This will display the 20% of the randomized rows that will be used to test the ANN"
      ],
      "execution_count": 83,
      "outputs": [
        {
          "output_type": "execute_result",
          "data": {
            "text/html": [
              "<div>\n",
              "<style scoped>\n",
              "    .dataframe tbody tr th:only-of-type {\n",
              "        vertical-align: middle;\n",
              "    }\n",
              "\n",
              "    .dataframe tbody tr th {\n",
              "        vertical-align: top;\n",
              "    }\n",
              "\n",
              "    .dataframe thead th {\n",
              "        text-align: right;\n",
              "    }\n",
              "</style>\n",
              "<table border=\"1\" class=\"dataframe\">\n",
              "  <thead>\n",
              "    <tr style=\"text-align: right;\">\n",
              "      <th></th>\n",
              "      <th>CreditScore</th>\n",
              "      <th>Geography</th>\n",
              "      <th>Gender</th>\n",
              "      <th>Age</th>\n",
              "      <th>Tenure</th>\n",
              "      <th>Balance</th>\n",
              "      <th>NumOfProducts</th>\n",
              "      <th>HasCrCard</th>\n",
              "      <th>IsActiveMember</th>\n",
              "      <th>EstimatedSalary</th>\n",
              "    </tr>\n",
              "  </thead>\n",
              "  <tbody>\n",
              "    <tr>\n",
              "      <th>7472</th>\n",
              "      <td>590</td>\n",
              "      <td>0</td>\n",
              "      <td>0</td>\n",
              "      <td>41</td>\n",
              "      <td>1</td>\n",
              "      <td>89086.31</td>\n",
              "      <td>1</td>\n",
              "      <td>1</td>\n",
              "      <td>0</td>\n",
              "      <td>24499.97</td>\n",
              "    </tr>\n",
              "    <tr>\n",
              "      <th>6459</th>\n",
              "      <td>693</td>\n",
              "      <td>0</td>\n",
              "      <td>1</td>\n",
              "      <td>35</td>\n",
              "      <td>5</td>\n",
              "      <td>124151.09</td>\n",
              "      <td>1</td>\n",
              "      <td>1</td>\n",
              "      <td>0</td>\n",
              "      <td>88705.14</td>\n",
              "    </tr>\n",
              "    <tr>\n",
              "      <th>4760</th>\n",
              "      <td>599</td>\n",
              "      <td>2</td>\n",
              "      <td>0</td>\n",
              "      <td>61</td>\n",
              "      <td>1</td>\n",
              "      <td>124737.96</td>\n",
              "      <td>1</td>\n",
              "      <td>0</td>\n",
              "      <td>1</td>\n",
              "      <td>90389.61</td>\n",
              "    </tr>\n",
              "    <tr>\n",
              "      <th>5182</th>\n",
              "      <td>692</td>\n",
              "      <td>1</td>\n",
              "      <td>1</td>\n",
              "      <td>47</td>\n",
              "      <td>3</td>\n",
              "      <td>0.00</td>\n",
              "      <td>2</td>\n",
              "      <td>1</td>\n",
              "      <td>0</td>\n",
              "      <td>150802.41</td>\n",
              "    </tr>\n",
              "    <tr>\n",
              "      <th>5588</th>\n",
              "      <td>789</td>\n",
              "      <td>0</td>\n",
              "      <td>1</td>\n",
              "      <td>27</td>\n",
              "      <td>8</td>\n",
              "      <td>66201.96</td>\n",
              "      <td>1</td>\n",
              "      <td>1</td>\n",
              "      <td>1</td>\n",
              "      <td>79458.12</td>\n",
              "    </tr>\n",
              "    <tr>\n",
              "      <th>...</th>\n",
              "      <td>...</td>\n",
              "      <td>...</td>\n",
              "      <td>...</td>\n",
              "      <td>...</td>\n",
              "      <td>...</td>\n",
              "      <td>...</td>\n",
              "      <td>...</td>\n",
              "      <td>...</td>\n",
              "      <td>...</td>\n",
              "      <td>...</td>\n",
              "    </tr>\n",
              "    <tr>\n",
              "      <th>4857</th>\n",
              "      <td>644</td>\n",
              "      <td>0</td>\n",
              "      <td>0</td>\n",
              "      <td>37</td>\n",
              "      <td>2</td>\n",
              "      <td>186347.97</td>\n",
              "      <td>2</td>\n",
              "      <td>1</td>\n",
              "      <td>0</td>\n",
              "      <td>92809.73</td>\n",
              "    </tr>\n",
              "    <tr>\n",
              "      <th>316</th>\n",
              "      <td>570</td>\n",
              "      <td>0</td>\n",
              "      <td>1</td>\n",
              "      <td>29</td>\n",
              "      <td>4</td>\n",
              "      <td>153040.03</td>\n",
              "      <td>1</td>\n",
              "      <td>1</td>\n",
              "      <td>1</td>\n",
              "      <td>131363.57</td>\n",
              "    </tr>\n",
              "    <tr>\n",
              "      <th>3152</th>\n",
              "      <td>724</td>\n",
              "      <td>0</td>\n",
              "      <td>0</td>\n",
              "      <td>30</td>\n",
              "      <td>10</td>\n",
              "      <td>0.00</td>\n",
              "      <td>2</td>\n",
              "      <td>1</td>\n",
              "      <td>1</td>\n",
              "      <td>54265.55</td>\n",
              "    </tr>\n",
              "    <tr>\n",
              "      <th>5157</th>\n",
              "      <td>500</td>\n",
              "      <td>2</td>\n",
              "      <td>0</td>\n",
              "      <td>30</td>\n",
              "      <td>2</td>\n",
              "      <td>125495.64</td>\n",
              "      <td>2</td>\n",
              "      <td>1</td>\n",
              "      <td>1</td>\n",
              "      <td>68807.47</td>\n",
              "    </tr>\n",
              "    <tr>\n",
              "      <th>8485</th>\n",
              "      <td>645</td>\n",
              "      <td>2</td>\n",
              "      <td>1</td>\n",
              "      <td>59</td>\n",
              "      <td>8</td>\n",
              "      <td>121669.93</td>\n",
              "      <td>2</td>\n",
              "      <td>0</td>\n",
              "      <td>0</td>\n",
              "      <td>91.75</td>\n",
              "    </tr>\n",
              "  </tbody>\n",
              "</table>\n",
              "<p>1800 rows × 10 columns</p>\n",
              "</div>"
            ],
            "text/plain": [
              "      CreditScore Geography Gender  ...  HasCrCard  IsActiveMember  EstimatedSalary\n",
              "7472          590         0      0  ...          1               0         24499.97\n",
              "6459          693         0      1  ...          1               0         88705.14\n",
              "4760          599         2      0  ...          0               1         90389.61\n",
              "5182          692         1      1  ...          1               0        150802.41\n",
              "5588          789         0      1  ...          1               1         79458.12\n",
              "...           ...       ...    ...  ...        ...             ...              ...\n",
              "4857          644         0      0  ...          1               0         92809.73\n",
              "316           570         0      1  ...          1               1        131363.57\n",
              "3152          724         0      0  ...          1               1         54265.55\n",
              "5157          500         2      0  ...          1               1         68807.47\n",
              "8485          645         2      1  ...          0               0            91.75\n",
              "\n",
              "[1800 rows x 10 columns]"
            ]
          },
          "metadata": {
            "tags": []
          },
          "execution_count": 83
        }
      ]
    },
    {
      "cell_type": "code",
      "metadata": {
        "colab": {
          "base_uri": "https://localhost:8080/"
        },
        "id": "z6BZdK0TPlpA",
        "outputId": "8b19be05-aafc-4c3c-ae12-338a1075b12b"
      },
      "source": [
        "#Get_Numeric = preprocessing.LabelEncoder()\n",
        "#Get_Numeric.fit(x_train)\n",
        "\n",
        "# Define min max scaler from the import file and save it to variable scaler\n",
        "scaler = MinMaxScaler()\n",
        "# We will transform data for x_train\n",
        "x_given_train_scaler = scaler.fit_transform(x_train)\n",
        "x_given_train_scaler "
      ],
      "execution_count": 84,
      "outputs": [
        {
          "output_type": "execute_result",
          "data": {
            "text/plain": [
              "array([[0.658     , 0.        , 0.        , ..., 1.        , 0.        ,\n",
              "        0.11633111],\n",
              "       [0.622     , 0.        , 0.        , ..., 0.        , 1.        ,\n",
              "        0.44116292],\n",
              "       [0.65      , 0.5       , 0.        , ..., 0.        , 1.        ,\n",
              "        0.11457716],\n",
              "       ...,\n",
              "       [0.39      , 0.        , 0.        , ..., 1.        , 0.        ,\n",
              "        0.94807786],\n",
              "       [0.698     , 0.        , 0.        , ..., 1.        , 0.        ,\n",
              "        0.13952173],\n",
              "       [0.774     , 1.        , 0.        , ..., 1.        , 1.        ,\n",
              "        0.37418513]])"
            ]
          },
          "metadata": {
            "tags": []
          },
          "execution_count": 84
        }
      ]
    },
    {
      "cell_type": "code",
      "metadata": {
        "colab": {
          "base_uri": "https://localhost:8080/"
        },
        "id": "jHnXENOvPoDr",
        "outputId": "5520c733-76d3-40ff-8119-bfb4948518d9"
      },
      "source": [
        "#Get_Numeric = preprocessing.LabelEncoder()\n",
        "#Get_Numeric.fit(x_test)\n",
        "\n",
        "# Define min max scaler from the import file and save it to variable scaler\n",
        "scaler = MinMaxScaler()\n",
        "# We will transform data for x_test\n",
        "x_given_test_scaler = scaler.fit_transform(x_test)\n",
        "x_given_test_scaler"
      ],
      "execution_count": 85,
      "outputs": [
        {
          "output_type": "execute_result",
          "data": {
            "text/plain": [
              "array([[0.48      , 0.        , 0.        , ..., 1.        , 0.        ,\n",
              "        0.12221594],\n",
              "       [0.686     , 0.        , 1.        , ..., 1.        , 0.        ,\n",
              "        0.44370171],\n",
              "       [0.498     , 1.        , 0.        , ..., 0.        , 1.        ,\n",
              "        0.45213613],\n",
              "       ...,\n",
              "       [0.748     , 0.        , 0.        , ..., 1.        , 1.        ,\n",
              "        0.27125706],\n",
              "       [0.3       , 1.        , 0.        , ..., 1.        , 1.        ,\n",
              "        0.34407083],\n",
              "       [0.59      , 1.        , 1.        , ..., 0.        , 0.        ,\n",
              "        0.        ]])"
            ]
          },
          "metadata": {
            "tags": []
          },
          "execution_count": 85
        }
      ]
    },
    {
      "cell_type": "code",
      "metadata": {
        "colab": {
          "base_uri": "https://localhost:8080/"
        },
        "id": "yLFCMVz-QIBN",
        "outputId": "d02e8b75-2c7c-4102-81ff-dbca583af149"
      },
      "source": [
        "\"\"\"\n",
        "# This is needed\n",
        "x_train_scaled = np.asarray(x_train_scaled).astype(np.float32)\n",
        "y_train = np.asarray(y_train).astype(np.float32)\n",
        "x_test_scaled = np.asarray(x_test_scaled).astype(np.float32)\n",
        "y_test = np.asarray(y_test).astype(np.float32)\n",
        "\"\"\"\n",
        "\n",
        "# This is the original model. I have made multiple different architectures to see which one makes the highest accuracy.\n",
        "# This is my ANN model that will use 12 layers and decreases the neuron amount by 2 in each layer until last layer has 1 neuron\n",
        "Nick_ANN_Model = keras.Sequential(#name = 'Nick_ANN_Model'\n",
        "    [\n",
        "        layers.Dense(units = 23, activation = 'sigmoid', kernel_initializer = 'he_uniform', name = 'sigmoid_layer1'),\n",
        "        layers.Dense(units = 21, activation = 'sigmoid',  name = 'sigmoid_layer2'),\n",
        "        layers.Dense(units = 19, activation = 'relu',  name = 'relu_layer3'),\n",
        "        layers.Dense(units = 17, activation = 'relu', kernel_initializer = 'he_uniform', name = 'relu_layer4'),\n",
        "        layers.Dense(units = 15, activation = 'relu', kernel_initializer = 'he_uniform', name = 'relu_layer5'),\n",
        "        layers.Dense(units = 13, activation = 'sigmoid', kernel_initializer = 'he_uniform', name = 'sigmoid_layer6'),\n",
        "        layers.Dense(units = 11, activation = 'relu', name = 'relu_layer7'),\n",
        "        layers.Dense(units = 9, activation = 'sigmoid', name = 'sigmoid_layer8'),\n",
        "        layers.Dense(units = 7, activation = 'sigmoid', kernel_initializer = 'he_uniform', name = 'sigmoid_layer9'),\n",
        "        layers.Dense(units = 5, activation = 'relu', kernel_initializer = 'he_uniform', name = 'relu_layer10'),\n",
        "        layers.Dense(units = 3, activation = 'sigmoid', name = 'sigmoid_layer11'),\n",
        "        layers.Dense(units = 1, activation = 'sigmoid', name = 'sigmoid_layer12')\n",
        "    ] # 87% is the highest currently\n",
        ")  \n",
        "\n",
        "# This will help us evaluate our training model.\n",
        "metrics_evaluation = []\n",
        "metrics_evaluation\n",
        "[\n",
        "  keras.metrics.Precision(name = 'Precision'),\n",
        "  keras.metrics.Recall(name = 'Recall'),\n",
        "  keras.metrics.Accuracy(name = 'accuracy'),\n",
        "]\n",
        "\n",
        "\n",
        "# We need this to complete question 3 of programming assignment 1\n",
        "Nick_ANN_Model.compile(optimizer = 'adam', loss = 'binary_crossentropy', metrics = ['accuracy', 'Precision', 'Recall'])\n",
        "# The original is batch_size = 2, validation_split = 0.20, epochs = 150\n",
        "Nick_ANN_Model.fit(x = x_given_train_scaler, y = y_train, batch_size = 5, validation_split = 0.20, epochs = 150)\n"
      ],
      "execution_count": 86,
      "outputs": [
        {
          "output_type": "stream",
          "text": [
            "Epoch 1/150\n",
            "1152/1152 [==============================] - 4s 2ms/step - loss: 0.5413 - accuracy: 0.8015 - precision: 0.0000e+00 - recall: 0.0000e+00 - val_loss: 0.4940 - val_accuracy: 0.8049 - val_precision: 0.0000e+00 - val_recall: 0.0000e+00\n",
            "Epoch 2/150\n",
            "1152/1152 [==============================] - 2s 2ms/step - loss: 0.5020 - accuracy: 0.7991 - precision: 0.0000e+00 - recall: 0.0000e+00 - val_loss: 0.4938 - val_accuracy: 0.8049 - val_precision: 0.0000e+00 - val_recall: 0.0000e+00\n",
            "Epoch 3/150\n",
            "1152/1152 [==============================] - 2s 2ms/step - loss: 0.4985 - accuracy: 0.8015 - precision: 0.0000e+00 - recall: 0.0000e+00 - val_loss: 0.4944 - val_accuracy: 0.8049 - val_precision: 0.0000e+00 - val_recall: 0.0000e+00\n",
            "Epoch 4/150\n",
            "1152/1152 [==============================] - 2s 2ms/step - loss: 0.5215 - accuracy: 0.7844 - precision: 0.0000e+00 - recall: 0.0000e+00 - val_loss: 0.4936 - val_accuracy: 0.8049 - val_precision: 0.0000e+00 - val_recall: 0.0000e+00\n",
            "Epoch 5/150\n",
            "1152/1152 [==============================] - 2s 2ms/step - loss: 0.4963 - accuracy: 0.8028 - precision: 0.0000e+00 - recall: 0.0000e+00 - val_loss: 0.4861 - val_accuracy: 0.8049 - val_precision: 0.0000e+00 - val_recall: 0.0000e+00\n",
            "Epoch 6/150\n",
            "1152/1152 [==============================] - 2s 2ms/step - loss: 0.4809 - accuracy: 0.7976 - precision: 0.0000e+00 - recall: 0.0000e+00 - val_loss: 0.4626 - val_accuracy: 0.8049 - val_precision: 0.0000e+00 - val_recall: 0.0000e+00\n",
            "Epoch 7/150\n",
            "1152/1152 [==============================] - 3s 2ms/step - loss: 0.4815 - accuracy: 0.7897 - precision: 0.0000e+00 - recall: 0.0000e+00 - val_loss: 0.4840 - val_accuracy: 0.8049 - val_precision: 0.0000e+00 - val_recall: 0.0000e+00\n",
            "Epoch 8/150\n",
            "1152/1152 [==============================] - 3s 2ms/step - loss: 0.4589 - accuracy: 0.8031 - precision: 0.0000e+00 - recall: 0.0000e+00 - val_loss: 0.4500 - val_accuracy: 0.8049 - val_precision: 0.0000e+00 - val_recall: 0.0000e+00\n",
            "Epoch 9/150\n",
            "1152/1152 [==============================] - 3s 2ms/step - loss: 0.4632 - accuracy: 0.7983 - precision: 0.0000e+00 - recall: 0.0000e+00 - val_loss: 0.4454 - val_accuracy: 0.8049 - val_precision: 0.0000e+00 - val_recall: 0.0000e+00\n",
            "Epoch 10/150\n",
            "1152/1152 [==============================] - 3s 2ms/step - loss: 0.4680 - accuracy: 0.7940 - precision: 0.0000e+00 - recall: 0.0000e+00 - val_loss: 0.4539 - val_accuracy: 0.8049 - val_precision: 0.0000e+00 - val_recall: 0.0000e+00\n",
            "Epoch 11/150\n",
            "1152/1152 [==============================] - 3s 2ms/step - loss: 0.4675 - accuracy: 0.7895 - precision: 0.0000e+00 - recall: 0.0000e+00 - val_loss: 0.4423 - val_accuracy: 0.8049 - val_precision: 0.0000e+00 - val_recall: 0.0000e+00\n",
            "Epoch 12/150\n",
            "1152/1152 [==============================] - 2s 2ms/step - loss: 0.4674 - accuracy: 0.7879 - precision: 0.0000e+00 - recall: 0.0000e+00 - val_loss: 0.4403 - val_accuracy: 0.8049 - val_precision: 0.0000e+00 - val_recall: 0.0000e+00\n",
            "Epoch 13/150\n",
            "1152/1152 [==============================] - 3s 2ms/step - loss: 0.4569 - accuracy: 0.7940 - precision: 0.0000e+00 - recall: 0.0000e+00 - val_loss: 0.4368 - val_accuracy: 0.8049 - val_precision: 0.0000e+00 - val_recall: 0.0000e+00\n",
            "Epoch 14/150\n",
            "1152/1152 [==============================] - 3s 2ms/step - loss: 0.4582 - accuracy: 0.7937 - precision: 0.0000e+00 - recall: 0.0000e+00 - val_loss: 0.4351 - val_accuracy: 0.8049 - val_precision: 0.0000e+00 - val_recall: 0.0000e+00\n",
            "Epoch 15/150\n",
            "1152/1152 [==============================] - 2s 2ms/step - loss: 0.4504 - accuracy: 0.7968 - precision: 0.0000e+00 - recall: 0.0000e+00 - val_loss: 0.4360 - val_accuracy: 0.8049 - val_precision: 0.0000e+00 - val_recall: 0.0000e+00\n",
            "Epoch 16/150\n",
            "1152/1152 [==============================] - 2s 2ms/step - loss: 0.4351 - accuracy: 0.8034 - precision: 0.0000e+00 - recall: 0.0000e+00 - val_loss: 0.4364 - val_accuracy: 0.8049 - val_precision: 0.0000e+00 - val_recall: 0.0000e+00\n",
            "Epoch 17/150\n",
            "1152/1152 [==============================] - 3s 2ms/step - loss: 0.4576 - accuracy: 0.7896 - precision: 0.0000e+00 - recall: 0.0000e+00 - val_loss: 0.4310 - val_accuracy: 0.8049 - val_precision: 0.0000e+00 - val_recall: 0.0000e+00\n",
            "Epoch 18/150\n",
            "1152/1152 [==============================] - 3s 2ms/step - loss: 0.4326 - accuracy: 0.8063 - precision: 0.2317 - recall: 0.0188 - val_loss: 0.4258 - val_accuracy: 0.8049 - val_precision: 0.5000 - val_recall: 0.2954\n",
            "Epoch 19/150\n",
            "1152/1152 [==============================] - 3s 2ms/step - loss: 0.4277 - accuracy: 0.8067 - precision: 0.4998 - recall: 0.1927 - val_loss: 0.4246 - val_accuracy: 0.8111 - val_precision: 0.5319 - val_recall: 0.2669\n",
            "Epoch 20/150\n",
            "1152/1152 [==============================] - 2s 2ms/step - loss: 0.4486 - accuracy: 0.8059 - precision: 0.5766 - recall: 0.2793 - val_loss: 0.4230 - val_accuracy: 0.8125 - val_precision: 0.5414 - val_recall: 0.2562\n",
            "Epoch 21/150\n",
            "1152/1152 [==============================] - 2s 2ms/step - loss: 0.4309 - accuracy: 0.8146 - precision: 0.5943 - recall: 0.2648 - val_loss: 0.4250 - val_accuracy: 0.8104 - val_precision: 0.5800 - val_recall: 0.1032\n",
            "Epoch 22/150\n",
            "1152/1152 [==============================] - 3s 2ms/step - loss: 0.4361 - accuracy: 0.8046 - precision: 0.5183 - recall: 0.2152 - val_loss: 0.4265 - val_accuracy: 0.8035 - val_precision: 0.4956 - val_recall: 0.4021\n",
            "Epoch 23/150\n",
            "1152/1152 [==============================] - 3s 2ms/step - loss: 0.4393 - accuracy: 0.8145 - precision: 0.5698 - recall: 0.2662 - val_loss: 0.4313 - val_accuracy: 0.8014 - val_precision: 0.4900 - val_recall: 0.4342\n",
            "Epoch 24/150\n",
            "1152/1152 [==============================] - 3s 2ms/step - loss: 0.4429 - accuracy: 0.8081 - precision: 0.5529 - recall: 0.2941 - val_loss: 0.4222 - val_accuracy: 0.8062 - val_precision: 0.5049 - val_recall: 0.3701\n",
            "Epoch 25/150\n",
            "1152/1152 [==============================] - 2s 2ms/step - loss: 0.4287 - accuracy: 0.8193 - precision: 0.5903 - recall: 0.3549 - val_loss: 0.4213 - val_accuracy: 0.8146 - val_precision: 0.5778 - val_recall: 0.1851\n",
            "Epoch 26/150\n",
            "1152/1152 [==============================] - 3s 2ms/step - loss: 0.4472 - accuracy: 0.8031 - precision: 0.5643 - recall: 0.2412 - val_loss: 0.4226 - val_accuracy: 0.8076 - val_precision: 0.5100 - val_recall: 0.3630\n",
            "Epoch 27/150\n",
            "1152/1152 [==============================] - 3s 2ms/step - loss: 0.4383 - accuracy: 0.8073 - precision: 0.5579 - recall: 0.2894 - val_loss: 0.4182 - val_accuracy: 0.8097 - val_precision: 0.5241 - val_recall: 0.2705\n",
            "Epoch 28/150\n",
            "1152/1152 [==============================] - 3s 2ms/step - loss: 0.4419 - accuracy: 0.8043 - precision: 0.5567 - recall: 0.2318 - val_loss: 0.4198 - val_accuracy: 0.8056 - val_precision: 0.5031 - val_recall: 0.2847\n",
            "Epoch 29/150\n",
            "1152/1152 [==============================] - 3s 2ms/step - loss: 0.4312 - accuracy: 0.8167 - precision: 0.6078 - recall: 0.2988 - val_loss: 0.4179 - val_accuracy: 0.8132 - val_precision: 0.5545 - val_recall: 0.2171\n",
            "Epoch 30/150\n",
            "1152/1152 [==============================] - 3s 2ms/step - loss: 0.4318 - accuracy: 0.8097 - precision: 0.5707 - recall: 0.2388 - val_loss: 0.4155 - val_accuracy: 0.8132 - val_precision: 0.5429 - val_recall: 0.2705\n",
            "Epoch 31/150\n",
            "1152/1152 [==============================] - 3s 2ms/step - loss: 0.4324 - accuracy: 0.8110 - precision: 0.5716 - recall: 0.2788 - val_loss: 0.4216 - val_accuracy: 0.8153 - val_precision: 0.6829 - val_recall: 0.0996\n",
            "Epoch 32/150\n",
            "1152/1152 [==============================] - 3s 2ms/step - loss: 0.4415 - accuracy: 0.8030 - precision: 0.5459 - recall: 0.2022 - val_loss: 0.4158 - val_accuracy: 0.8153 - val_precision: 0.5773 - val_recall: 0.1993\n",
            "Epoch 33/150\n",
            "1152/1152 [==============================] - 3s 2ms/step - loss: 0.4340 - accuracy: 0.8147 - precision: 0.6006 - recall: 0.2335 - val_loss: 0.4127 - val_accuracy: 0.8125 - val_precision: 0.5369 - val_recall: 0.2847\n",
            "Epoch 34/150\n",
            "1152/1152 [==============================] - 3s 2ms/step - loss: 0.4392 - accuracy: 0.8010 - precision: 0.5487 - recall: 0.2704 - val_loss: 0.4291 - val_accuracy: 0.8014 - val_precision: 0.4907 - val_recall: 0.4698\n",
            "Epoch 35/150\n",
            "1152/1152 [==============================] - 3s 2ms/step - loss: 0.4061 - accuracy: 0.8264 - precision: 0.5832 - recall: 0.3181 - val_loss: 0.4129 - val_accuracy: 0.8222 - val_precision: 0.6316 - val_recall: 0.2135\n",
            "Epoch 36/150\n",
            "1152/1152 [==============================] - 3s 2ms/step - loss: 0.4253 - accuracy: 0.8203 - precision: 0.6385 - recall: 0.2422 - val_loss: 0.4190 - val_accuracy: 0.8250 - val_precision: 0.6986 - val_recall: 0.1815\n",
            "Epoch 37/150\n",
            "1152/1152 [==============================] - 3s 2ms/step - loss: 0.4266 - accuracy: 0.8191 - precision: 0.6365 - recall: 0.2935 - val_loss: 0.4173 - val_accuracy: 0.8319 - val_precision: 0.6102 - val_recall: 0.3843\n",
            "Epoch 38/150\n",
            "1152/1152 [==============================] - 3s 2ms/step - loss: 0.4228 - accuracy: 0.8233 - precision: 0.6266 - recall: 0.2612 - val_loss: 0.3991 - val_accuracy: 0.8326 - val_precision: 0.7000 - val_recall: 0.2491\n",
            "Epoch 39/150\n",
            "1152/1152 [==============================] - 3s 2ms/step - loss: 0.4052 - accuracy: 0.8375 - precision: 0.6788 - recall: 0.3048 - val_loss: 0.4135 - val_accuracy: 0.8278 - val_precision: 0.5855 - val_recall: 0.4021\n",
            "Epoch 40/150\n",
            "1152/1152 [==============================] - 3s 2ms/step - loss: 0.4159 - accuracy: 0.8303 - precision: 0.6627 - recall: 0.3345 - val_loss: 0.3999 - val_accuracy: 0.8396 - val_precision: 0.6761 - val_recall: 0.3416\n",
            "Epoch 41/150\n",
            "1152/1152 [==============================] - 3s 2ms/step - loss: 0.4156 - accuracy: 0.8346 - precision: 0.7245 - recall: 0.2842 - val_loss: 0.3950 - val_accuracy: 0.8417 - val_precision: 0.7677 - val_recall: 0.2705\n",
            "Epoch 42/150\n",
            "1152/1152 [==============================] - 3s 2ms/step - loss: 0.4076 - accuracy: 0.8302 - precision: 0.7013 - recall: 0.3021 - val_loss: 0.3948 - val_accuracy: 0.8375 - val_precision: 0.6424 - val_recall: 0.3772\n",
            "Epoch 43/150\n",
            "1152/1152 [==============================] - 3s 2ms/step - loss: 0.4201 - accuracy: 0.8262 - precision: 0.6589 - recall: 0.3451 - val_loss: 0.3967 - val_accuracy: 0.8417 - val_precision: 0.6934 - val_recall: 0.3381\n",
            "Epoch 44/150\n",
            "1152/1152 [==============================] - 3s 2ms/step - loss: 0.4046 - accuracy: 0.8395 - precision: 0.7484 - recall: 0.2626 - val_loss: 0.3938 - val_accuracy: 0.8326 - val_precision: 0.5990 - val_recall: 0.4306\n",
            "Epoch 45/150\n",
            "1152/1152 [==============================] - 3s 2ms/step - loss: 0.4078 - accuracy: 0.8311 - precision: 0.6761 - recall: 0.3230 - val_loss: 0.3893 - val_accuracy: 0.8431 - val_precision: 0.7311 - val_recall: 0.3096\n",
            "Epoch 46/150\n",
            "1152/1152 [==============================] - 3s 2ms/step - loss: 0.3918 - accuracy: 0.8454 - precision: 0.7416 - recall: 0.3164 - val_loss: 0.3861 - val_accuracy: 0.8431 - val_precision: 0.7068 - val_recall: 0.3345\n",
            "Epoch 47/150\n",
            "1152/1152 [==============================] - 3s 2ms/step - loss: 0.4122 - accuracy: 0.8321 - precision: 0.7222 - recall: 0.3292 - val_loss: 0.3878 - val_accuracy: 0.8410 - val_precision: 0.6940 - val_recall: 0.3310\n",
            "Epoch 48/150\n",
            "1152/1152 [==============================] - 3s 2ms/step - loss: 0.3959 - accuracy: 0.8444 - precision: 0.7392 - recall: 0.3134 - val_loss: 0.3872 - val_accuracy: 0.8451 - val_precision: 0.7339 - val_recall: 0.3238\n",
            "Epoch 49/150\n",
            "1152/1152 [==============================] - 3s 2ms/step - loss: 0.4073 - accuracy: 0.8341 - precision: 0.6831 - recall: 0.3107 - val_loss: 0.3849 - val_accuracy: 0.8417 - val_precision: 0.6906 - val_recall: 0.3416\n",
            "Epoch 50/150\n",
            "1152/1152 [==============================] - 3s 2ms/step - loss: 0.4056 - accuracy: 0.8344 - precision: 0.7064 - recall: 0.3003 - val_loss: 0.3935 - val_accuracy: 0.8424 - val_precision: 0.6646 - val_recall: 0.3879\n",
            "Epoch 51/150\n",
            "1152/1152 [==============================] - 3s 2ms/step - loss: 0.3954 - accuracy: 0.8385 - precision: 0.7189 - recall: 0.3271 - val_loss: 0.3945 - val_accuracy: 0.8396 - val_precision: 0.8049 - val_recall: 0.2349\n",
            "Epoch 52/150\n",
            "1152/1152 [==============================] - 3s 2ms/step - loss: 0.3979 - accuracy: 0.8427 - precision: 0.7403 - recall: 0.3294 - val_loss: 0.4085 - val_accuracy: 0.8278 - val_precision: 0.5740 - val_recall: 0.4555\n",
            "Epoch 53/150\n",
            "1152/1152 [==============================] - 3s 2ms/step - loss: 0.4105 - accuracy: 0.8305 - precision: 0.6865 - recall: 0.3149 - val_loss: 0.3888 - val_accuracy: 0.8396 - val_precision: 0.6582 - val_recall: 0.3701\n",
            "Epoch 54/150\n",
            "1152/1152 [==============================] - 3s 2ms/step - loss: 0.3990 - accuracy: 0.8401 - precision: 0.7564 - recall: 0.3393 - val_loss: 0.3861 - val_accuracy: 0.8438 - val_precision: 0.7593 - val_recall: 0.2918\n",
            "Epoch 55/150\n",
            "1152/1152 [==============================] - 3s 2ms/step - loss: 0.3956 - accuracy: 0.8442 - precision: 0.7354 - recall: 0.3415 - val_loss: 0.3941 - val_accuracy: 0.8361 - val_precision: 0.6119 - val_recall: 0.4377\n",
            "Epoch 56/150\n",
            "1152/1152 [==============================] - 3s 2ms/step - loss: 0.3870 - accuracy: 0.8440 - precision: 0.7180 - recall: 0.3665 - val_loss: 0.3894 - val_accuracy: 0.8368 - val_precision: 0.7738 - val_recall: 0.2313\n",
            "Epoch 57/150\n",
            "1152/1152 [==============================] - 3s 2ms/step - loss: 0.3936 - accuracy: 0.8401 - precision: 0.7365 - recall: 0.3256 - val_loss: 0.3898 - val_accuracy: 0.8424 - val_precision: 0.7015 - val_recall: 0.3345\n",
            "Epoch 58/150\n",
            "1152/1152 [==============================] - 3s 2ms/step - loss: 0.3950 - accuracy: 0.8412 - precision: 0.7264 - recall: 0.2827 - val_loss: 0.3957 - val_accuracy: 0.8333 - val_precision: 0.8254 - val_recall: 0.1851\n",
            "Epoch 59/150\n",
            "1152/1152 [==============================] - 3s 2ms/step - loss: 0.3918 - accuracy: 0.8472 - precision: 0.7838 - recall: 0.2997 - val_loss: 0.3853 - val_accuracy: 0.8431 - val_precision: 0.6871 - val_recall: 0.3594\n",
            "Epoch 60/150\n",
            "1152/1152 [==============================] - 3s 2ms/step - loss: 0.3921 - accuracy: 0.8440 - precision: 0.7368 - recall: 0.3388 - val_loss: 0.3845 - val_accuracy: 0.8424 - val_precision: 0.7143 - val_recall: 0.3203\n",
            "Epoch 61/150\n",
            "1152/1152 [==============================] - 3s 2ms/step - loss: 0.3999 - accuracy: 0.8384 - precision: 0.7314 - recall: 0.3155 - val_loss: 0.3876 - val_accuracy: 0.8458 - val_precision: 0.7565 - val_recall: 0.3096\n",
            "Epoch 62/150\n",
            "1152/1152 [==============================] - 3s 2ms/step - loss: 0.4020 - accuracy: 0.8322 - precision: 0.7320 - recall: 0.3305 - val_loss: 0.3851 - val_accuracy: 0.8431 - val_precision: 0.7434 - val_recall: 0.2989\n",
            "Epoch 63/150\n",
            "1152/1152 [==============================] - 3s 2ms/step - loss: 0.3983 - accuracy: 0.8409 - precision: 0.7354 - recall: 0.3187 - val_loss: 0.3821 - val_accuracy: 0.8424 - val_precision: 0.6627 - val_recall: 0.3915\n",
            "Epoch 64/150\n",
            "1152/1152 [==============================] - 3s 2ms/step - loss: 0.4027 - accuracy: 0.8309 - precision: 0.7043 - recall: 0.3272 - val_loss: 0.3829 - val_accuracy: 0.8382 - val_precision: 0.6481 - val_recall: 0.3737\n",
            "Epoch 65/150\n",
            "1152/1152 [==============================] - 3s 2ms/step - loss: 0.3878 - accuracy: 0.8386 - precision: 0.7213 - recall: 0.3336 - val_loss: 0.3822 - val_accuracy: 0.8417 - val_precision: 0.6646 - val_recall: 0.3808\n",
            "Epoch 66/150\n",
            "1152/1152 [==============================] - 3s 2ms/step - loss: 0.3827 - accuracy: 0.8455 - precision: 0.7446 - recall: 0.3362 - val_loss: 0.3839 - val_accuracy: 0.8382 - val_precision: 0.6395 - val_recall: 0.3915\n",
            "Epoch 67/150\n",
            "1152/1152 [==============================] - 2s 2ms/step - loss: 0.3929 - accuracy: 0.8377 - precision: 0.7264 - recall: 0.3379 - val_loss: 0.3893 - val_accuracy: 0.8417 - val_precision: 0.6497 - val_recall: 0.4093\n",
            "Epoch 68/150\n",
            "1152/1152 [==============================] - 3s 2ms/step - loss: 0.4066 - accuracy: 0.8325 - precision: 0.7171 - recall: 0.3347 - val_loss: 0.3949 - val_accuracy: 0.8299 - val_precision: 0.7647 - val_recall: 0.1851\n",
            "Epoch 69/150\n",
            "1152/1152 [==============================] - 3s 2ms/step - loss: 0.3936 - accuracy: 0.8396 - precision: 0.7501 - recall: 0.3233 - val_loss: 0.3797 - val_accuracy: 0.8438 - val_precision: 0.6818 - val_recall: 0.3737\n",
            "Epoch 70/150\n",
            "1152/1152 [==============================] - 3s 2ms/step - loss: 0.3921 - accuracy: 0.8340 - precision: 0.7101 - recall: 0.3089 - val_loss: 0.3841 - val_accuracy: 0.8465 - val_precision: 0.7239 - val_recall: 0.3452\n",
            "Epoch 71/150\n",
            "1152/1152 [==============================] - 3s 2ms/step - loss: 0.3854 - accuracy: 0.8458 - precision: 0.7424 - recall: 0.3195 - val_loss: 0.3793 - val_accuracy: 0.8438 - val_precision: 0.6750 - val_recall: 0.3843\n",
            "Epoch 72/150\n",
            "1152/1152 [==============================] - 3s 2ms/step - loss: 0.3887 - accuracy: 0.8416 - precision: 0.7250 - recall: 0.3419 - val_loss: 0.3786 - val_accuracy: 0.8424 - val_precision: 0.7288 - val_recall: 0.3060\n",
            "Epoch 73/150\n",
            "1152/1152 [==============================] - 3s 2ms/step - loss: 0.3907 - accuracy: 0.8408 - precision: 0.7498 - recall: 0.3177 - val_loss: 0.3823 - val_accuracy: 0.8319 - val_precision: 0.5942 - val_recall: 0.4377\n",
            "Epoch 74/150\n",
            "1152/1152 [==============================] - 3s 2ms/step - loss: 0.3843 - accuracy: 0.8378 - precision: 0.7334 - recall: 0.3583 - val_loss: 0.3773 - val_accuracy: 0.8431 - val_precision: 0.7477 - val_recall: 0.2954\n",
            "Epoch 75/150\n",
            "1152/1152 [==============================] - 3s 2ms/step - loss: 0.3902 - accuracy: 0.8383 - precision: 0.7158 - recall: 0.3131 - val_loss: 0.3780 - val_accuracy: 0.8438 - val_precision: 0.6573 - val_recall: 0.4164\n",
            "Epoch 76/150\n",
            "1152/1152 [==============================] - 3s 2ms/step - loss: 0.3779 - accuracy: 0.8478 - precision: 0.7597 - recall: 0.3259 - val_loss: 0.3755 - val_accuracy: 0.8417 - val_precision: 0.6803 - val_recall: 0.3559\n",
            "Epoch 77/150\n",
            "1152/1152 [==============================] - 3s 2ms/step - loss: 0.3666 - accuracy: 0.8502 - precision: 0.7354 - recall: 0.3509 - val_loss: 0.3901 - val_accuracy: 0.8472 - val_precision: 0.6548 - val_recall: 0.4591\n",
            "Epoch 78/150\n",
            "1152/1152 [==============================] - 3s 2ms/step - loss: 0.3738 - accuracy: 0.8500 - precision: 0.7521 - recall: 0.3828 - val_loss: 0.3752 - val_accuracy: 0.8382 - val_precision: 0.6644 - val_recall: 0.3452\n",
            "Epoch 79/150\n",
            "1152/1152 [==============================] - 3s 2ms/step - loss: 0.3667 - accuracy: 0.8520 - precision: 0.7693 - recall: 0.3745 - val_loss: 0.3745 - val_accuracy: 0.8472 - val_precision: 0.7103 - val_recall: 0.3665\n",
            "Epoch 80/150\n",
            "1152/1152 [==============================] - 3s 2ms/step - loss: 0.3687 - accuracy: 0.8479 - precision: 0.7389 - recall: 0.3597 - val_loss: 0.3702 - val_accuracy: 0.8431 - val_precision: 0.6627 - val_recall: 0.3986\n",
            "Epoch 81/150\n",
            "1152/1152 [==============================] - 3s 2ms/step - loss: 0.3894 - accuracy: 0.8373 - precision: 0.7407 - recall: 0.3882 - val_loss: 0.3670 - val_accuracy: 0.8493 - val_precision: 0.7581 - val_recall: 0.3345\n",
            "Epoch 82/150\n",
            "1152/1152 [==============================] - 3s 2ms/step - loss: 0.3736 - accuracy: 0.8452 - precision: 0.7477 - recall: 0.3923 - val_loss: 0.3620 - val_accuracy: 0.8479 - val_precision: 0.7385 - val_recall: 0.3416\n",
            "Epoch 83/150\n",
            "1152/1152 [==============================] - 3s 2ms/step - loss: 0.3580 - accuracy: 0.8513 - precision: 0.7564 - recall: 0.3910 - val_loss: 0.3638 - val_accuracy: 0.8472 - val_precision: 0.7440 - val_recall: 0.3310\n",
            "Epoch 84/150\n",
            "1152/1152 [==============================] - 3s 2ms/step - loss: 0.3603 - accuracy: 0.8492 - precision: 0.7398 - recall: 0.3543 - val_loss: 0.3584 - val_accuracy: 0.8493 - val_precision: 0.7078 - val_recall: 0.3879\n",
            "Epoch 85/150\n",
            "1152/1152 [==============================] - 3s 2ms/step - loss: 0.3656 - accuracy: 0.8419 - precision: 0.7064 - recall: 0.3602 - val_loss: 0.3658 - val_accuracy: 0.8424 - val_precision: 0.6164 - val_recall: 0.5089\n",
            "Epoch 86/150\n",
            "1152/1152 [==============================] - 3s 3ms/step - loss: 0.3616 - accuracy: 0.8477 - precision: 0.7106 - recall: 0.3929 - val_loss: 0.3537 - val_accuracy: 0.8521 - val_precision: 0.6932 - val_recall: 0.4342\n",
            "Epoch 87/150\n",
            "1152/1152 [==============================] - 3s 3ms/step - loss: 0.3592 - accuracy: 0.8547 - precision: 0.7803 - recall: 0.3957 - val_loss: 0.3518 - val_accuracy: 0.8507 - val_precision: 0.6875 - val_recall: 0.4306\n",
            "Epoch 88/150\n",
            "1152/1152 [==============================] - 3s 2ms/step - loss: 0.3545 - accuracy: 0.8572 - precision: 0.7481 - recall: 0.3877 - val_loss: 0.3448 - val_accuracy: 0.8507 - val_precision: 0.7115 - val_recall: 0.3950\n",
            "Epoch 89/150\n",
            "1152/1152 [==============================] - 3s 2ms/step - loss: 0.3465 - accuracy: 0.8609 - precision: 0.7759 - recall: 0.4295 - val_loss: 0.3441 - val_accuracy: 0.8583 - val_precision: 0.6915 - val_recall: 0.4947\n",
            "Epoch 90/150\n",
            "1152/1152 [==============================] - 3s 2ms/step - loss: 0.3497 - accuracy: 0.8555 - precision: 0.7747 - recall: 0.4278 - val_loss: 0.3412 - val_accuracy: 0.8590 - val_precision: 0.7955 - val_recall: 0.3737\n",
            "Epoch 91/150\n",
            "1152/1152 [==============================] - 3s 2ms/step - loss: 0.3509 - accuracy: 0.8590 - precision: 0.7947 - recall: 0.4129 - val_loss: 0.3462 - val_accuracy: 0.8556 - val_precision: 0.8349 - val_recall: 0.3238\n",
            "Epoch 92/150\n",
            "1152/1152 [==============================] - 3s 2ms/step - loss: 0.3490 - accuracy: 0.8549 - precision: 0.7665 - recall: 0.4284 - val_loss: 0.3366 - val_accuracy: 0.8583 - val_precision: 0.7127 - val_recall: 0.4591\n",
            "Epoch 93/150\n",
            "1152/1152 [==============================] - 3s 2ms/step - loss: 0.3479 - accuracy: 0.8563 - precision: 0.7526 - recall: 0.4313 - val_loss: 0.3479 - val_accuracy: 0.8521 - val_precision: 0.6429 - val_recall: 0.5445\n",
            "Epoch 94/150\n",
            "1152/1152 [==============================] - 3s 2ms/step - loss: 0.3390 - accuracy: 0.8656 - precision: 0.8025 - recall: 0.4724 - val_loss: 0.3399 - val_accuracy: 0.8562 - val_precision: 0.6796 - val_recall: 0.4982\n",
            "Epoch 95/150\n",
            "1152/1152 [==============================] - 3s 2ms/step - loss: 0.3440 - accuracy: 0.8657 - precision: 0.7791 - recall: 0.4634 - val_loss: 0.3736 - val_accuracy: 0.8396 - val_precision: 0.5828 - val_recall: 0.6263\n",
            "Epoch 96/150\n",
            "1152/1152 [==============================] - 3s 2ms/step - loss: 0.3373 - accuracy: 0.8628 - precision: 0.7984 - recall: 0.4460 - val_loss: 0.3394 - val_accuracy: 0.8521 - val_precision: 0.6683 - val_recall: 0.4804\n",
            "Epoch 97/150\n",
            "1152/1152 [==============================] - 3s 2ms/step - loss: 0.3323 - accuracy: 0.8645 - precision: 0.7755 - recall: 0.4281 - val_loss: 0.3309 - val_accuracy: 0.8632 - val_precision: 0.7727 - val_recall: 0.4235\n",
            "Epoch 98/150\n",
            "1152/1152 [==============================] - 3s 2ms/step - loss: 0.3486 - accuracy: 0.8551 - precision: 0.7672 - recall: 0.3930 - val_loss: 0.3335 - val_accuracy: 0.8618 - val_precision: 0.7470 - val_recall: 0.4413\n",
            "Epoch 99/150\n",
            "1152/1152 [==============================] - 3s 2ms/step - loss: 0.3503 - accuracy: 0.8561 - precision: 0.7979 - recall: 0.4193 - val_loss: 0.3332 - val_accuracy: 0.8576 - val_precision: 0.7021 - val_recall: 0.4698\n",
            "Epoch 100/150\n",
            "1152/1152 [==============================] - 3s 2ms/step - loss: 0.3548 - accuracy: 0.8543 - precision: 0.7687 - recall: 0.4371 - val_loss: 0.3329 - val_accuracy: 0.8604 - val_precision: 0.7532 - val_recall: 0.4235\n",
            "Epoch 101/150\n",
            "1152/1152 [==============================] - 3s 2ms/step - loss: 0.3467 - accuracy: 0.8555 - precision: 0.7721 - recall: 0.4127 - val_loss: 0.3299 - val_accuracy: 0.8667 - val_precision: 0.7947 - val_recall: 0.4270\n",
            "Epoch 102/150\n",
            "1152/1152 [==============================] - 3s 2ms/step - loss: 0.3598 - accuracy: 0.8526 - precision: 0.7798 - recall: 0.4303 - val_loss: 0.3318 - val_accuracy: 0.8611 - val_precision: 0.7189 - val_recall: 0.4733\n",
            "Epoch 103/150\n",
            "1152/1152 [==============================] - 3s 2ms/step - loss: 0.3492 - accuracy: 0.8565 - precision: 0.7913 - recall: 0.4256 - val_loss: 0.3349 - val_accuracy: 0.8583 - val_precision: 0.7484 - val_recall: 0.4128\n",
            "Epoch 104/150\n",
            "1152/1152 [==============================] - 3s 2ms/step - loss: 0.3424 - accuracy: 0.8629 - precision: 0.7953 - recall: 0.4519 - val_loss: 0.3363 - val_accuracy: 0.8611 - val_precision: 0.6976 - val_recall: 0.5089\n",
            "Epoch 105/150\n",
            "1152/1152 [==============================] - 3s 3ms/step - loss: 0.3471 - accuracy: 0.8608 - precision: 0.7821 - recall: 0.4078 - val_loss: 0.3532 - val_accuracy: 0.8444 - val_precision: 0.6029 - val_recall: 0.5943\n",
            "Epoch 106/150\n",
            "1152/1152 [==============================] - 3s 3ms/step - loss: 0.3417 - accuracy: 0.8511 - precision: 0.7490 - recall: 0.4037 - val_loss: 0.3317 - val_accuracy: 0.8660 - val_precision: 0.7973 - val_recall: 0.4199\n",
            "Epoch 107/150\n",
            "1152/1152 [==============================] - 3s 2ms/step - loss: 0.3497 - accuracy: 0.8574 - precision: 0.7828 - recall: 0.4437 - val_loss: 0.3390 - val_accuracy: 0.8549 - val_precision: 0.6915 - val_recall: 0.4626\n",
            "Epoch 108/150\n",
            "1152/1152 [==============================] - 3s 2ms/step - loss: 0.3490 - accuracy: 0.8510 - precision: 0.7701 - recall: 0.4195 - val_loss: 0.3398 - val_accuracy: 0.8556 - val_precision: 0.6608 - val_recall: 0.5338\n",
            "Epoch 109/150\n",
            "1152/1152 [==============================] - 3s 2ms/step - loss: 0.3446 - accuracy: 0.8568 - precision: 0.7630 - recall: 0.4303 - val_loss: 0.3339 - val_accuracy: 0.8653 - val_precision: 0.7919 - val_recall: 0.4199\n",
            "Epoch 110/150\n",
            "1152/1152 [==============================] - 3s 2ms/step - loss: 0.3463 - accuracy: 0.8558 - precision: 0.7947 - recall: 0.4312 - val_loss: 0.3367 - val_accuracy: 0.8590 - val_precision: 0.8000 - val_recall: 0.3701\n",
            "Epoch 111/150\n",
            "1152/1152 [==============================] - 3s 2ms/step - loss: 0.3296 - accuracy: 0.8627 - precision: 0.7672 - recall: 0.4447 - val_loss: 0.3819 - val_accuracy: 0.8458 - val_precision: 0.6065 - val_recall: 0.5979\n",
            "Epoch 112/150\n",
            "1152/1152 [==============================] - 3s 3ms/step - loss: 0.3409 - accuracy: 0.8634 - precision: 0.7854 - recall: 0.4338 - val_loss: 0.3310 - val_accuracy: 0.8576 - val_precision: 0.7568 - val_recall: 0.3986\n",
            "Epoch 113/150\n",
            "1152/1152 [==============================] - 3s 2ms/step - loss: 0.3456 - accuracy: 0.8559 - precision: 0.7841 - recall: 0.4224 - val_loss: 0.3637 - val_accuracy: 0.8451 - val_precision: 0.9028 - val_recall: 0.2313\n",
            "Epoch 114/150\n",
            "1152/1152 [==============================] - 3s 2ms/step - loss: 0.3536 - accuracy: 0.8591 - precision: 0.8141 - recall: 0.3903 - val_loss: 0.3340 - val_accuracy: 0.8639 - val_precision: 0.8195 - val_recall: 0.3879\n",
            "Epoch 115/150\n",
            "1152/1152 [==============================] - 3s 2ms/step - loss: 0.3417 - accuracy: 0.8589 - precision: 0.7986 - recall: 0.4023 - val_loss: 0.3449 - val_accuracy: 0.8556 - val_precision: 0.6594 - val_recall: 0.5374\n",
            "Epoch 116/150\n",
            "1152/1152 [==============================] - 3s 2ms/step - loss: 0.3398 - accuracy: 0.8615 - precision: 0.7812 - recall: 0.4418 - val_loss: 0.3301 - val_accuracy: 0.8632 - val_precision: 0.7692 - val_recall: 0.4270\n",
            "Epoch 117/150\n",
            "1152/1152 [==============================] - 3s 2ms/step - loss: 0.3432 - accuracy: 0.8583 - precision: 0.7957 - recall: 0.4459 - val_loss: 0.3628 - val_accuracy: 0.8562 - val_precision: 0.6667 - val_recall: 0.5267\n",
            "Epoch 118/150\n",
            "1152/1152 [==============================] - 3s 2ms/step - loss: 0.3349 - accuracy: 0.8654 - precision: 0.7744 - recall: 0.4334 - val_loss: 0.3323 - val_accuracy: 0.8611 - val_precision: 0.7872 - val_recall: 0.3950\n",
            "Epoch 119/150\n",
            "1152/1152 [==============================] - 3s 2ms/step - loss: 0.3308 - accuracy: 0.8642 - precision: 0.7939 - recall: 0.4109 - val_loss: 0.3339 - val_accuracy: 0.8604 - val_precision: 0.7381 - val_recall: 0.4413\n",
            "Epoch 120/150\n",
            "1152/1152 [==============================] - 3s 2ms/step - loss: 0.3283 - accuracy: 0.8671 - precision: 0.7838 - recall: 0.4317 - val_loss: 0.3450 - val_accuracy: 0.8514 - val_precision: 0.6516 - val_recall: 0.5125\n",
            "Epoch 121/150\n",
            "1152/1152 [==============================] - 3s 2ms/step - loss: 0.3493 - accuracy: 0.8542 - precision: 0.7605 - recall: 0.4098 - val_loss: 0.3377 - val_accuracy: 0.8590 - val_precision: 0.6893 - val_recall: 0.5053\n",
            "Epoch 122/150\n",
            "1152/1152 [==============================] - 3s 2ms/step - loss: 0.3507 - accuracy: 0.8578 - precision: 0.7931 - recall: 0.4389 - val_loss: 0.3416 - val_accuracy: 0.8576 - val_precision: 0.7235 - val_recall: 0.4377\n",
            "Epoch 123/150\n",
            "1152/1152 [==============================] - 3s 2ms/step - loss: 0.3401 - accuracy: 0.8595 - precision: 0.7957 - recall: 0.4357 - val_loss: 0.3340 - val_accuracy: 0.8604 - val_precision: 0.7273 - val_recall: 0.4555\n",
            "Epoch 124/150\n",
            "1152/1152 [==============================] - 3s 2ms/step - loss: 0.3466 - accuracy: 0.8615 - precision: 0.8001 - recall: 0.4241 - val_loss: 0.3329 - val_accuracy: 0.8632 - val_precision: 0.7414 - val_recall: 0.4591\n",
            "Epoch 125/150\n",
            "1152/1152 [==============================] - 3s 2ms/step - loss: 0.3316 - accuracy: 0.8661 - precision: 0.7692 - recall: 0.4413 - val_loss: 0.3364 - val_accuracy: 0.8542 - val_precision: 0.6766 - val_recall: 0.4840\n",
            "Epoch 126/150\n",
            "1152/1152 [==============================] - 3s 2ms/step - loss: 0.3290 - accuracy: 0.8672 - precision: 0.7889 - recall: 0.4081 - val_loss: 0.3601 - val_accuracy: 0.8514 - val_precision: 0.6264 - val_recall: 0.5907\n",
            "Epoch 127/150\n",
            "1152/1152 [==============================] - 3s 2ms/step - loss: 0.3343 - accuracy: 0.8594 - precision: 0.7936 - recall: 0.4233 - val_loss: 0.3329 - val_accuracy: 0.8632 - val_precision: 0.7019 - val_recall: 0.5196\n",
            "Epoch 128/150\n",
            "1152/1152 [==============================] - 3s 2ms/step - loss: 0.3231 - accuracy: 0.8689 - precision: 0.7753 - recall: 0.4585 - val_loss: 0.3313 - val_accuracy: 0.8639 - val_precision: 0.7815 - val_recall: 0.4199\n",
            "Epoch 129/150\n",
            "1152/1152 [==============================] - 3s 2ms/step - loss: 0.3245 - accuracy: 0.8699 - precision: 0.7979 - recall: 0.4348 - val_loss: 0.3333 - val_accuracy: 0.8597 - val_precision: 0.7182 - val_recall: 0.4626\n",
            "Epoch 130/150\n",
            "1152/1152 [==============================] - 3s 2ms/step - loss: 0.3301 - accuracy: 0.8676 - precision: 0.7977 - recall: 0.4410 - val_loss: 0.3310 - val_accuracy: 0.8646 - val_precision: 0.7905 - val_recall: 0.4164\n",
            "Epoch 131/150\n",
            "1152/1152 [==============================] - 3s 2ms/step - loss: 0.3528 - accuracy: 0.8582 - precision: 0.7987 - recall: 0.4075 - val_loss: 0.3341 - val_accuracy: 0.8549 - val_precision: 0.6875 - val_recall: 0.4698\n",
            "Epoch 132/150\n",
            "1152/1152 [==============================] - 3s 2ms/step - loss: 0.3263 - accuracy: 0.8650 - precision: 0.7699 - recall: 0.4697 - val_loss: 0.3335 - val_accuracy: 0.8639 - val_precision: 0.7742 - val_recall: 0.4270\n",
            "Epoch 133/150\n",
            "1152/1152 [==============================] - 3s 2ms/step - loss: 0.3385 - accuracy: 0.8552 - precision: 0.7875 - recall: 0.4245 - val_loss: 0.3376 - val_accuracy: 0.8528 - val_precision: 0.6481 - val_recall: 0.5374\n",
            "Epoch 134/150\n",
            "1152/1152 [==============================] - 3s 2ms/step - loss: 0.3474 - accuracy: 0.8550 - precision: 0.7803 - recall: 0.4244 - val_loss: 0.3323 - val_accuracy: 0.8611 - val_precision: 0.7832 - val_recall: 0.3986\n",
            "Epoch 135/150\n",
            "1152/1152 [==============================] - 3s 2ms/step - loss: 0.3456 - accuracy: 0.8591 - precision: 0.7757 - recall: 0.4233 - val_loss: 0.3332 - val_accuracy: 0.8625 - val_precision: 0.7610 - val_recall: 0.4306\n",
            "Epoch 136/150\n",
            "1152/1152 [==============================] - 3s 3ms/step - loss: 0.3442 - accuracy: 0.8614 - precision: 0.8069 - recall: 0.4127 - val_loss: 0.3395 - val_accuracy: 0.8618 - val_precision: 0.8361 - val_recall: 0.3630\n",
            "Epoch 137/150\n",
            "1152/1152 [==============================] - 3s 2ms/step - loss: 0.3242 - accuracy: 0.8653 - precision: 0.8113 - recall: 0.4202 - val_loss: 0.3353 - val_accuracy: 0.8604 - val_precision: 0.7597 - val_recall: 0.4164\n",
            "Epoch 138/150\n",
            "1152/1152 [==============================] - 3s 2ms/step - loss: 0.3534 - accuracy: 0.8589 - precision: 0.8254 - recall: 0.4096 - val_loss: 0.3330 - val_accuracy: 0.8583 - val_precision: 0.7278 - val_recall: 0.4377\n",
            "Epoch 139/150\n",
            "1152/1152 [==============================] - 3s 2ms/step - loss: 0.3427 - accuracy: 0.8611 - precision: 0.7858 - recall: 0.4420 - val_loss: 0.3312 - val_accuracy: 0.8618 - val_precision: 0.7563 - val_recall: 0.4306\n",
            "Epoch 140/150\n",
            "1152/1152 [==============================] - 3s 2ms/step - loss: 0.3552 - accuracy: 0.8554 - precision: 0.7812 - recall: 0.4314 - val_loss: 0.3321 - val_accuracy: 0.8618 - val_precision: 0.7303 - val_recall: 0.4626\n",
            "Epoch 141/150\n",
            "1152/1152 [==============================] - 3s 2ms/step - loss: 0.3366 - accuracy: 0.8588 - precision: 0.7963 - recall: 0.4318 - val_loss: 0.3326 - val_accuracy: 0.8632 - val_precision: 0.7763 - val_recall: 0.4199\n",
            "Epoch 142/150\n",
            "1152/1152 [==============================] - 3s 2ms/step - loss: 0.3353 - accuracy: 0.8674 - precision: 0.8051 - recall: 0.4431 - val_loss: 0.3318 - val_accuracy: 0.8625 - val_precision: 0.7399 - val_recall: 0.4555\n",
            "Epoch 143/150\n",
            "1152/1152 [==============================] - 3s 2ms/step - loss: 0.3351 - accuracy: 0.8624 - precision: 0.7998 - recall: 0.4372 - val_loss: 0.3369 - val_accuracy: 0.8521 - val_precision: 0.6771 - val_recall: 0.4626\n",
            "Epoch 144/150\n",
            "1152/1152 [==============================] - 3s 2ms/step - loss: 0.3374 - accuracy: 0.8648 - precision: 0.7934 - recall: 0.4501 - val_loss: 0.3340 - val_accuracy: 0.8576 - val_precision: 0.7346 - val_recall: 0.4235\n",
            "Epoch 145/150\n",
            "1152/1152 [==============================] - 3s 2ms/step - loss: 0.3236 - accuracy: 0.8686 - precision: 0.7959 - recall: 0.4465 - val_loss: 0.3538 - val_accuracy: 0.8514 - val_precision: 0.6476 - val_recall: 0.5231\n",
            "Epoch 146/150\n",
            "1152/1152 [==============================] - 3s 2ms/step - loss: 0.3310 - accuracy: 0.8660 - precision: 0.7700 - recall: 0.4141 - val_loss: 0.3354 - val_accuracy: 0.8535 - val_precision: 0.6989 - val_recall: 0.4377\n",
            "Epoch 147/150\n",
            "1152/1152 [==============================] - 3s 2ms/step - loss: 0.3402 - accuracy: 0.8612 - precision: 0.7717 - recall: 0.4420 - val_loss: 0.3303 - val_accuracy: 0.8639 - val_precision: 0.7742 - val_recall: 0.4270\n",
            "Epoch 148/150\n",
            "1152/1152 [==============================] - 3s 2ms/step - loss: 0.3328 - accuracy: 0.8645 - precision: 0.8354 - recall: 0.4334 - val_loss: 0.3331 - val_accuracy: 0.8646 - val_precision: 0.7905 - val_recall: 0.4164\n",
            "Epoch 149/150\n",
            "1152/1152 [==============================] - 3s 2ms/step - loss: 0.3405 - accuracy: 0.8570 - precision: 0.7943 - recall: 0.4488 - val_loss: 0.3353 - val_accuracy: 0.8590 - val_precision: 0.7671 - val_recall: 0.3986\n",
            "Epoch 150/150\n",
            "1152/1152 [==============================] - 3s 2ms/step - loss: 0.3178 - accuracy: 0.8717 - precision: 0.8134 - recall: 0.4118 - val_loss: 0.3311 - val_accuracy: 0.8639 - val_precision: 0.7576 - val_recall: 0.4448\n"
          ],
          "name": "stdout"
        },
        {
          "output_type": "execute_result",
          "data": {
            "text/plain": [
              "<tensorflow.python.keras.callbacks.History at 0x7faf75d557d0>"
            ]
          },
          "metadata": {
            "tags": []
          },
          "execution_count": 86
        }
      ]
    },
    {
      "cell_type": "code",
      "metadata": {
        "colab": {
          "base_uri": "https://localhost:8080/"
        },
        "id": "Onswg64Jdd7Q",
        "outputId": "f5dd39f1-25d9-4a6f-b0ad-87179634d5d7"
      },
      "source": [
        "# Prints the summary of my ANN model.\n",
        "Nick_ANN_Model.summary()"
      ],
      "execution_count": 87,
      "outputs": [
        {
          "output_type": "stream",
          "text": [
            "Model: \"sequential_2\"\n",
            "_________________________________________________________________\n",
            "Layer (type)                 Output Shape              Param #   \n",
            "=================================================================\n",
            "sigmoid_layer1 (Dense)       (5, 23)                   253       \n",
            "_________________________________________________________________\n",
            "sigmoid_layer2 (Dense)       (5, 21)                   504       \n",
            "_________________________________________________________________\n",
            "relu_layer3 (Dense)          (5, 19)                   418       \n",
            "_________________________________________________________________\n",
            "relu_layer4 (Dense)          (5, 17)                   340       \n",
            "_________________________________________________________________\n",
            "relu_layer5 (Dense)          (5, 15)                   270       \n",
            "_________________________________________________________________\n",
            "sigmoid_layer6 (Dense)       (5, 13)                   208       \n",
            "_________________________________________________________________\n",
            "relu_layer7 (Dense)          (5, 11)                   154       \n",
            "_________________________________________________________________\n",
            "sigmoid_layer8 (Dense)       (5, 9)                    108       \n",
            "_________________________________________________________________\n",
            "sigmoid_layer9 (Dense)       (5, 7)                    70        \n",
            "_________________________________________________________________\n",
            "relu_layer10 (Dense)         (5, 5)                    40        \n",
            "_________________________________________________________________\n",
            "sigmoid_layer11 (Dense)      (5, 3)                    18        \n",
            "_________________________________________________________________\n",
            "sigmoid_layer12 (Dense)      (5, 1)                    4         \n",
            "=================================================================\n",
            "Total params: 2,387\n",
            "Trainable params: 2,387\n",
            "Non-trainable params: 0\n",
            "_________________________________________________________________\n"
          ],
          "name": "stdout"
        }
      ]
    },
    {
      "cell_type": "code",
      "metadata": {
        "colab": {
          "base_uri": "https://localhost:8080/"
        },
        "id": "-ClgYWdClOl3",
        "outputId": "cfb891ab-0cb7-455c-f80c-c33e4bcdbd5c"
      },
      "source": [
        "# Could not find an import for f1-score so I made a def to evaluate the f1-score using precision and recall data provided.\n",
        "f1_score = 0\n",
        "# This will evaluate the f1-score for both test and train sets and returns the f1-score to be printed.\n",
        "def get_f1_score(Precision, Recall):\n",
        "  # If both precision and recall is 0, set the f1-score to 0\n",
        "  if(Precision == 0 and Recall == 0):\n",
        "    f1_score = 0\n",
        "    return f1_score\n",
        "  # If precision or recall is not 0, calculate f1-score\n",
        "  else:\n",
        "    f1_score = 2 * (Precision * Recall) / (Precision + Recall)\n",
        "    return f1_score\n",
        "\n",
        "# Evaluates and returns the data for accuracy, precision, and recall on the training set.\n",
        "loss, Accuracy, Precision, Recall = Nick_ANN_Model.evaluate(x = x_given_train_scaler, y = y_train, verbose=1, batch_size = 5)\n",
        "\n",
        "# Evaluates and returns the data for accuracy, precision, and recall on the test set.\n",
        "val_loss, val_Accuracy, val_Precision, val_Recall = Nick_ANN_Model.evaluate(x = x_given_test_scaler, y = y_test, verbose=1, batch_size = 5)\n",
        "\n",
        "#print(type(Precision))\n",
        "\n",
        "# The 6 print statement below will print out loss, accuracy, recall, precision, and f1_score for the training set.\n",
        "print(\"\\nBelow is my classification report by evaluating my training model.\")\n",
        "print(\"For evaluation, this is loss:\", loss)\n",
        "print(\"For evaluation, this is accuracy:\", Accuracy)\n",
        "print(\"For evaluation, this is recall:\", Recall)\n",
        "print(\"For evaluation, this is precision:\", Precision)\n",
        "print(\"For evaluation, this is f1_score:\", get_f1_score(Precision, Recall))\n",
        "\n",
        "# The 6 print statement below will print out loss, accuracy, recall, precision, and f1_score for the test set.\n",
        "print(\"\\nBelow is my classification report by evaluating my testing model.\")\n",
        "print(\"For evaluation, this is loss:\", val_loss)\n",
        "print(\"For evaluation, this is accuracy:\", val_Accuracy)\n",
        "print(\"For evaluation, this is recall:\", val_Recall)\n",
        "print(\"For evaluation, this is precision:\", val_Precision)\n",
        "print(\"For evaluation, this is f1_score:\", get_f1_score(val_Precision, val_Recall))\n",
        "\n",
        "Nick_ANN_Model.metrics_names # Prints out the metrics names.\n",
        "#Nick_ANN_Model.metrics\n"
      ],
      "execution_count": 88,
      "outputs": [
        {
          "output_type": "stream",
          "text": [
            "1440/1440 [==============================] - 2s 1ms/step - loss: 0.3292 - accuracy: 0.8657 - precision: 0.8243 - recall: 0.4216\n",
            "360/360 [==============================] - 0s 1ms/step - loss: 0.3730 - accuracy: 0.8483 - precision: 0.7229 - recall: 0.4688\n",
            "\n",
            "Below is my classification report by evaluating my training model.\n",
            "For evaluation, this is loss: 0.32921943068504333\n",
            "For evaluation, this is accuracy: 0.8656944632530212\n",
            "For evaluation, this is recall: 0.4215618669986725\n",
            "For evaluation, this is precision: 0.8243243098258972\n",
            "For evaluation, this is f1_score: 0.5578418021272076\n",
            "\n",
            "Below is my classification report by evaluating my testing model.\n",
            "For evaluation, this is loss: 0.372999906539917\n",
            "For evaluation, this is accuracy: 0.8483333587646484\n",
            "For evaluation, this is recall: 0.46875\n",
            "For evaluation, this is precision: 0.7228915691375732\n",
            "For evaluation, this is f1_score: 0.5687203800358815\n"
          ],
          "name": "stdout"
        },
        {
          "output_type": "execute_result",
          "data": {
            "text/plain": [
              "['loss', 'accuracy', 'precision', 'recall']"
            ]
          },
          "metadata": {
            "tags": []
          },
          "execution_count": 88
        }
      ]
    },
    {
      "cell_type": "code",
      "metadata": {
        "id": "lQacdGfQXIJP",
        "colab": {
          "base_uri": "https://localhost:8080/"
        },
        "outputId": "2bc7a6d9-fc76-45f9-ed38-a9fde6551f65"
      },
      "source": [
        "# We will run our model and have it predict whether the customers exited using our 20% test set.\n",
        "Prediction = Nick_ANN_Model.predict(x_given_test_scaler) # Will predict if the customers exit or not\n",
        "Get_Round_Prediction = Prediction.round() # Rounds the predictions up to 0 or 1. Before, the predictions returned floats.\n",
        "Display_Prediction_Not_Exited = sum(Get_Round_Prediction == 0) # Gets the total amount of 0's predicted\n",
        "Display_Actual_Not_Exit = sum(y_test == 0) # Gets the total amount of 0's predicted\n",
        "\n",
        "# Prints the predicted and actual 0's from the test set\n",
        "print(\"This is Predicted Not Exited:\", Display_Prediction_Not_Exited)\n",
        "print(\"This is Actual Not Exited:\", Display_Actual_Not_Exit)"
      ],
      "execution_count": 89,
      "outputs": [
        {
          "output_type": "stream",
          "text": [
            "This is Predicted Not Exited: [1551]\n",
            "This is Actual Not Exited: 1416\n"
          ],
          "name": "stdout"
        }
      ]
    },
    {
      "cell_type": "code",
      "metadata": {
        "id": "9LwQk2IKpzbg",
        "colab": {
          "base_uri": "https://localhost:8080/"
        },
        "outputId": "1f83096c-9be2-4fb9-cc80-eeca615c62f6"
      },
      "source": [
        "# We will run our model and have it predict whether the customers exited using our 20% test set.\n",
        "#Prediction = Nick_ANN_Model.predict(x_test_scaled) # Will predict if the customers exit or not\n",
        "Display_Prediction_Exited = sum(Get_Round_Prediction == 1) # Rounds the predictions up to 0 or 1. Before, the predictions returned floats.\n",
        "Display_Actual_Exit = sum(y_test == 1) # Gets the total amount of 1's predicted\n",
        "\n",
        "# Prints the predicted and actual 1's from the test set\n",
        "print(\"This is Predicted Exited:\", Display_Prediction_Exited)\n",
        "print(\"This is Actual Exited:\", Display_Actual_Exit)"
      ],
      "execution_count": 90,
      "outputs": [
        {
          "output_type": "stream",
          "text": [
            "This is Predicted Exited: [249]\n",
            "This is Actual Exited: 384\n"
          ],
          "name": "stdout"
        }
      ]
    },
    {
      "cell_type": "code",
      "metadata": {
        "id": "fqxp7DgyYkEj",
        "colab": {
          "base_uri": "https://localhost:8080/"
        },
        "outputId": "5fc34e1f-5ea4-4f42-c577-ff44572e0003"
      },
      "source": [
        "# This will print the classification report. We will care about the accuracy.\n",
        "# The highest accuracy I was able to get is 87% so far\n",
        "print(classification_report(y_test,Get_Round_Prediction))"
      ],
      "execution_count": 91,
      "outputs": [
        {
          "output_type": "stream",
          "text": [
            "              precision    recall  f1-score   support\n",
            "\n",
            "           0       0.87      0.95      0.91      1416\n",
            "           1       0.72      0.47      0.57       384\n",
            "\n",
            "    accuracy                           0.85      1800\n",
            "   macro avg       0.80      0.71      0.74      1800\n",
            "weighted avg       0.84      0.85      0.84      1800\n",
            "\n"
          ],
          "name": "stdout"
        }
      ]
    },
    {
      "cell_type": "code",
      "metadata": {
        "colab": {
          "base_uri": "https://localhost:8080/",
          "height": 51
        },
        "id": "nf8x13tFSmfk",
        "outputId": "5956b6c0-d605-48a1-a284-e303e9ff5294"
      },
      "source": [
        "# Save our training model to JSON file to be loaded later on. It will be loaded onto our test-code.ipynb\n",
        "Save_Nick_ANN_Model = Nick_ANN_Model.to_json()\n",
        "with open(\"Nick_ANN_Model.json\", \"w\") as json_file:\n",
        "    json_file.write(Save_Nick_ANN_Model)\n",
        "files.download(\"Nick_ANN_Model.json\")\n",
        "print(\"Training model saved sucessfully.\")\n",
        "# Save our weights to be loaded later on. It will be loaded onto our test-code.ipynb\n",
        "Nick_ANN_Model.save_weights(\"Nick_ANN_Model.h5\")\n",
        "files.download(\"Nick_ANN_Model.h5\")\n",
        "print(\"Weights from the training model saved sucessfully.\")"
      ],
      "execution_count": 92,
      "outputs": [
        {
          "output_type": "display_data",
          "data": {
            "application/javascript": [
              "\n",
              "    async function download(id, filename, size) {\n",
              "      if (!google.colab.kernel.accessAllowed) {\n",
              "        return;\n",
              "      }\n",
              "      const div = document.createElement('div');\n",
              "      const label = document.createElement('label');\n",
              "      label.textContent = `Downloading \"${filename}\": `;\n",
              "      div.appendChild(label);\n",
              "      const progress = document.createElement('progress');\n",
              "      progress.max = size;\n",
              "      div.appendChild(progress);\n",
              "      document.body.appendChild(div);\n",
              "\n",
              "      const buffers = [];\n",
              "      let downloaded = 0;\n",
              "\n",
              "      const channel = await google.colab.kernel.comms.open(id);\n",
              "      // Send a message to notify the kernel that we're ready.\n",
              "      channel.send({})\n",
              "\n",
              "      for await (const message of channel.messages) {\n",
              "        // Send a message to notify the kernel that we're ready.\n",
              "        channel.send({})\n",
              "        if (message.buffers) {\n",
              "          for (const buffer of message.buffers) {\n",
              "            buffers.push(buffer);\n",
              "            downloaded += buffer.byteLength;\n",
              "            progress.value = downloaded;\n",
              "          }\n",
              "        }\n",
              "      }\n",
              "      const blob = new Blob(buffers, {type: 'application/binary'});\n",
              "      const a = document.createElement('a');\n",
              "      a.href = window.URL.createObjectURL(blob);\n",
              "      a.download = filename;\n",
              "      div.appendChild(a);\n",
              "      a.click();\n",
              "      div.remove();\n",
              "    }\n",
              "  "
            ],
            "text/plain": [
              "<IPython.core.display.Javascript object>"
            ]
          },
          "metadata": {
            "tags": []
          }
        },
        {
          "output_type": "display_data",
          "data": {
            "application/javascript": [
              "download(\"download_5929b2f9-582f-4aef-92a0-5a621b88f4e3\", \"Nick_ANN_Model.json\", 5440)"
            ],
            "text/plain": [
              "<IPython.core.display.Javascript object>"
            ]
          },
          "metadata": {
            "tags": []
          }
        },
        {
          "output_type": "stream",
          "text": [
            "Training model saved sucessfully.\n"
          ],
          "name": "stdout"
        },
        {
          "output_type": "display_data",
          "data": {
            "application/javascript": [
              "\n",
              "    async function download(id, filename, size) {\n",
              "      if (!google.colab.kernel.accessAllowed) {\n",
              "        return;\n",
              "      }\n",
              "      const div = document.createElement('div');\n",
              "      const label = document.createElement('label');\n",
              "      label.textContent = `Downloading \"${filename}\": `;\n",
              "      div.appendChild(label);\n",
              "      const progress = document.createElement('progress');\n",
              "      progress.max = size;\n",
              "      div.appendChild(progress);\n",
              "      document.body.appendChild(div);\n",
              "\n",
              "      const buffers = [];\n",
              "      let downloaded = 0;\n",
              "\n",
              "      const channel = await google.colab.kernel.comms.open(id);\n",
              "      // Send a message to notify the kernel that we're ready.\n",
              "      channel.send({})\n",
              "\n",
              "      for await (const message of channel.messages) {\n",
              "        // Send a message to notify the kernel that we're ready.\n",
              "        channel.send({})\n",
              "        if (message.buffers) {\n",
              "          for (const buffer of message.buffers) {\n",
              "            buffers.push(buffer);\n",
              "            downloaded += buffer.byteLength;\n",
              "            progress.value = downloaded;\n",
              "          }\n",
              "        }\n",
              "      }\n",
              "      const blob = new Blob(buffers, {type: 'application/binary'});\n",
              "      const a = document.createElement('a');\n",
              "      a.href = window.URL.createObjectURL(blob);\n",
              "      a.download = filename;\n",
              "      div.appendChild(a);\n",
              "      a.click();\n",
              "      div.remove();\n",
              "    }\n",
              "  "
            ],
            "text/plain": [
              "<IPython.core.display.Javascript object>"
            ]
          },
          "metadata": {
            "tags": []
          }
        },
        {
          "output_type": "display_data",
          "data": {
            "application/javascript": [
              "download(\"download_008106eb-0c60-4654-94c7-dfb8f6135f7a\", \"Nick_ANN_Model.h5\", 49728)"
            ],
            "text/plain": [
              "<IPython.core.display.Javascript object>"
            ]
          },
          "metadata": {
            "tags": []
          }
        },
        {
          "output_type": "stream",
          "text": [
            "Weights from the training model saved sucessfully.\n"
          ],
          "name": "stdout"
        }
      ]
    }
  ]
}